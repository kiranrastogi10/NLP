{
 "cells": [
  {
   "cell_type": "code",
   "execution_count": 1,
   "metadata": {
    "ExecuteTime": {
     "end_time": "2020-07-08T06:22:33.014704Z",
     "start_time": "2020-07-08T06:22:33.004704Z"
    }
   },
   "outputs": [],
   "source": [
    "#import tarfile\n",
    "#tf = tarfile.open(\"fcp_package.tar.gz\")\n",
    "#tf.extractall()"
   ]
  },
  {
   "cell_type": "markdown",
   "metadata": {},
   "source": [
    "# 1. Libraries"
   ]
  },
  {
   "cell_type": "code",
   "execution_count": 2,
   "metadata": {
    "ExecuteTime": {
     "end_time": "2020-07-08T06:22:36.558701Z",
     "start_time": "2020-07-08T06:22:33.073706Z"
    }
   },
   "outputs": [],
   "source": [
    "import os\n",
    "import numpy as np\n",
    "import pandas as pd\n",
    "import re\n",
    "from datetime import datetime\n",
    "\n",
    "# nlp pipeline\n",
    "import spacy\n",
    "\n",
    "# text analysis\n",
    "import gensim\n",
    "from gensim.models import LdaModel, ldamodel\n",
    "from gensim.models import LsiModel, lsimodel\n",
    "from gensim.models import Phrases\n",
    "from gensim.models import CoherenceModel\n",
    "from gensim.corpora import Dictionary\n",
    "from gensim.similarities import MatrixSimilarity\n",
    "import pyLDAvis\n",
    "import pyLDAvis.gensim \n",
    "\n",
    "#Mallet\n",
    
    "\n",
    "# visualization\n",
    "import matplotlib.pyplot as plt\n",
    "import matplotlib.cm as cm"
   ]
  },
  {
   "cell_type": "markdown",
   "metadata": {},
   "source": [
    "# 2. Options for data vizualisation on screen and Package version"
   ]
  },
  {
   "cell_type": "code",
   "execution_count": 3,
   "metadata": {
    "ExecuteTime": {
     "end_time": "2020-07-08T06:22:36.590233Z",
     "start_time": "2020-07-08T06:22:36.561714Z"
    }
   },
   "outputs": [
    {
     "name": "stdout",
     "output_type": "stream",
     "text": [
      "Coding style as per PEP8 \n",
      "~~~~~~~~~~~~~~~~~~~~~~~~~~~~~~~~~~~~~~~~~~~~~~~~~~~~~~~~~~~~~~~~~~~~~~~~~~~~~~~\n",
      "\n",
      "spaCy version: 2.2.4\n",
      "Gensim version: 3.8.3\n",
      "\n"
     ]
    }
   ],
   "source": [
    "# data vis\n",
    "%matplotlib inline\n",
    "\n",
    "# send output to the screen\n",
    "LINE = ''.join(['\\n', 79 * '~', '\\n'])\n",
    "\n",
    "# coding style\n",
    "print('Coding style as per PEP8', '', end=LINE)\n",
    "\n",
    "\n",
    "print(\"\"\"\n",
    "spaCy version: {}\n",
    "Gensim version: {}\n",
    "\"\"\".format(spacy.__version__, gensim.__version__))"
   ]
  },
  {
   "cell_type": "markdown",
   "metadata": {},
   "source": [
    "# 3. Reading the data"
   ]
  },
  {
   "cell_type": "code",
   "execution_count": 4,
   "metadata": {
    "ExecuteTime": {
     "end_time": "2020-07-08T06:22:36.669236Z",
     "start_time": "2020-07-08T06:22:36.593236Z"
    }
   },
   "outputs": [],
   "source": [
    "# Reading the business level data first\n",
    "folder = 'brexit'\n",
    "File0 = 'pr__sus_docs.csv'\n",
    "File1 = 'pr__sus_attr.csv'\n",
    "File2 = 'pr__sources.csv'\n",
    "pr_docs = pd.read_csv(os.path.join(folder,File0))\n",
    "pr_attr = pd.read_csv(os.path.join(folder,File1))\n",
    "pr_source = pd.read_csv(os.path.join(folder,File2))"
   ]
  },
  {
   "cell_type": "code",
   "execution_count": 5,
   "metadata": {
    "ExecuteTime": {
     "end_time": "2020-07-08T06:22:36.716239Z",
     "start_time": "2020-07-08T06:22:36.673237Z"
    }
   },
   "outputs": [
    {
     "data": {
      "text/html": [
       "<div>\n",
       "<style scoped>\n",
       "    .dataframe tbody tr th:only-of-type {\n",
       "        vertical-align: middle;\n",
       "    }\n",
       "\n",
       "    .dataframe tbody tr th {\n",
       "        vertical-align: top;\n",
       "    }\n",
       "\n",
       "    .dataframe thead th {\n",
       "        text-align: right;\n",
       "    }\n",
       "</style>\n",
       "<table border=\"1\" class=\"dataframe\">\n",
       "  <thead>\n",
       "    <tr style=\"text-align: right;\">\n",
       "      <th></th>\n",
       "      <th>article</th>\n",
       "      <th>source</th>\n",
       "      <th>variable</th>\n",
       "      <th>value</th>\n",
       "    </tr>\n",
       "  </thead>\n",
       "  <tbody>\n",
       "    <tr>\n",
       "      <th>0</th>\n",
       "      <td>0</td>\n",
       "      <td>0</td>\n",
       "      <td>date</td>\n",
       "      <td>2016-05-04 00:00:00</td>\n",
       "    </tr>\n",
       "    <tr>\n",
       "      <th>1</th>\n",
       "      <td>0</td>\n",
       "      <td>0</td>\n",
       "      <td>byline</td>\n",
       "      <td>Anna Murphy</td>\n",
       "    </tr>\n",
       "    <tr>\n",
       "      <th>2</th>\n",
       "      <td>0</td>\n",
       "      <td>0</td>\n",
       "      <td>section</td>\n",
       "      <td>T2;FEATURES; Pg. 6,7</td>\n",
       "    </tr>\n",
       "    <tr>\n",
       "      <th>3</th>\n",
       "      <td>0</td>\n",
       "      <td>0</td>\n",
       "      <td>length</td>\n",
       "      <td>1452</td>\n",
       "    </tr>\n",
       "    <tr>\n",
       "      <th>4</th>\n",
       "      <td>1</td>\n",
       "      <td>0</td>\n",
       "      <td>date</td>\n",
       "      <td>2016-05-13 00:00:00</td>\n",
       "    </tr>\n",
       "  </tbody>\n",
       "</table>\n",
       "</div>"
      ],
      "text/plain": [
       "   article  source variable                  value\n",
       "0        0       0     date    2016-05-04 00:00:00\n",
       "1        0       0   byline            Anna Murphy\n",
       "2        0       0  section   T2;FEATURES; Pg. 6,7\n",
       "3        0       0   length                   1452\n",
       "4        1       0     date    2016-05-13 00:00:00"
      ]
     },
     "execution_count": 5,
     "metadata": {},
     "output_type": "execute_result"
    }
   ],
   "source": [
    "pr_attr.head()"
   ]
  },
  {
   "cell_type": "markdown",
   "metadata": {},
   "source": [
    "# 4. Cleaning of data"
   ]
  },
  {
   "cell_type": "code",
   "execution_count": 6,
   "metadata": {
    "ExecuteTime": {
     "end_time": "2020-07-08T06:22:36.763233Z",
     "start_time": "2020-07-08T06:22:36.719236Z"
    }
   },
   "outputs": [],
   "source": [
    "#Transposing the source data and dropping first row\n",
    "pr_source = pr_source.T\n",
    "pr_source.drop(pr_source.index[0], inplace=True)\n",
    "\n",
    "# Adding a source column to source data\n",
    "pr_source.insert(0, 'source', range(0, 0 + len(pr_source)))\n",
    "\n",
    "# Renaming the columns\n",
    "pr_source.columns.values[1] = 'newspaper'\n",
    "\n",
    "# Merging the source and docs data\n",
    "df = pd.merge(pr_source, pr_docs, on='source', how='right')\n",
    "\n",
    "# Dropping source column\n",
    "df.drop(['source'], axis=1, inplace=True)\n",
    "df.rename(columns={'newspaper': 'source'}, inplace=True)\n",
    "# --+ reorganize cols\n",
    "df = df[['id', 'source', 'text', 'article', 'start', 'sort']]"
   ]
  },
  {
   "cell_type": "code",
   "execution_count": 7,
   "metadata": {
    "ExecuteTime": {
     "end_time": "2020-07-08T06:22:36.858232Z",
     "start_time": "2020-07-08T06:22:36.771246Z"
    }
   },
   "outputs": [],
   "source": [
    "# slice the attriute data to get the date\n",
    "pr_date = pr_attr[pr_attr.variable == 'date'].drop(['variable','source'], axis=1)\n",
    "\n",
    "# the expected timespan is April 23, 2016 - August 23, 2016\n",
    "pr_timespan = pr_date[(pr_date.value < '2016-08-24 00:00:00') & (pr_date.value >= '2016-04-23 00:00:00')]\n",
    "# get list of chosen article id\n",
    "articles = pr_timespan.article.to_list()\n",
    "\n",
    "# join pr_docs and pr_timespan\n",
    "df = pd.merge(pr_timespan, pr_docs, on=['article', 'article']).rename(columns={'value':'date'})\n",
    "df.sort_values('date', inplace=True)\n",
    "\n",
    "df['date'] = pd.to_datetime(df['date'], utc = True).dt.date\n",
    "\n",
    "# Merging the text corpora data with attribute date\n",
    "#df = pd.merge(df, pr_attr,on='article', how='left')\n",
    "\n",
    "# Dropping redundat columns and renaming source_x\n",
    "#df.drop(['source_y','variable'],axis=1, inplace=True)\n",
    "#df.rename(columns={'source_x':'source', 'value':'date'}, inplace=True)"
   ]
  },
  {
   "cell_type": "code",
   "execution_count": 8,
   "metadata": {
    "ExecuteTime": {
     "end_time": "2020-07-08T06:22:36.904234Z",
     "start_time": "2020-07-08T06:22:36.867233Z"
    }
   },
   "outputs": [
    {
     "data": {
      "text/html": [
       "<div>\n",
       "<style scoped>\n",
       "    .dataframe tbody tr th:only-of-type {\n",
       "        vertical-align: middle;\n",
       "    }\n",
       "\n",
       "    .dataframe tbody tr th {\n",
       "        vertical-align: top;\n",
       "    }\n",
       "\n",
       "    .dataframe thead th {\n",
       "        text-align: right;\n",
       "    }\n",
       "</style>\n",
       "<table border=\"1\" class=\"dataframe\">\n",
       "  <thead>\n",
       "    <tr style=\"text-align: right;\">\n",
       "      <th></th>\n",
       "      <th>article</th>\n",
       "      <th>date</th>\n",
       "      <th>source</th>\n",
       "      <th>text</th>\n",
       "      <th>start</th>\n",
       "      <th>id</th>\n",
       "      <th>sort</th>\n",
       "    </tr>\n",
       "  </thead>\n",
       "  <tbody>\n",
       "    <tr>\n",
       "      <th>445</th>\n",
       "      <td>647</td>\n",
       "      <td>2016-04-23</td>\n",
       "      <td>3</td>\n",
       "      <td>HIGHLIGHT: Ed Crooks is fascinated by a biogra...</td>\n",
       "      <td>HIGHLIGHT: Ed Crooks is fascinated by a biogra...</td>\n",
       "      <td>180</td>\n",
       "      <td>1</td>\n",
       "    </tr>\n",
       "    <tr>\n",
       "      <th>444</th>\n",
       "      <td>646</td>\n",
       "      <td>2016-04-23</td>\n",
       "      <td>3</td>\n",
       "      <td>HIGHLIGHT: \\'If China could be persuaded to co...</td>\n",
       "      <td>HIGHLIGHT: \\'If China could be persuaded to co...</td>\n",
       "      <td>225</td>\n",
       "      <td>1</td>\n",
       "    </tr>\n",
       "    <tr>\n",
       "      <th>443</th>\n",
       "      <td>645</td>\n",
       "      <td>2016-04-23</td>\n",
       "      <td>3</td>\n",
       "      <td>After months of wrangling, eurozone finance mi...</td>\n",
       "      <td>After months of wrangling, eurozone finance mi...</td>\n",
       "      <td>20</td>\n",
       "      <td>1</td>\n",
       "    </tr>\n",
       "    <tr>\n",
       "      <th>442</th>\n",
       "      <td>644</td>\n",
       "      <td>2016-04-23</td>\n",
       "      <td>3</td>\n",
       "      <td>How can the world best combat global warming? ...</td>\n",
       "      <td>How can the world best combat global warming? ...</td>\n",
       "      <td>233</td>\n",
       "      <td>1</td>\n",
       "    </tr>\n",
       "    <tr>\n",
       "      <th>446</th>\n",
       "      <td>648</td>\n",
       "      <td>2016-04-26</td>\n",
       "      <td>3</td>\n",
       "      <td>Zaoui &amp; Co, the tiny European advisory firm se...</td>\n",
       "      <td>Zaoui &amp; Co, the tiny European advisory firm se...</td>\n",
       "      <td>599</td>\n",
       "      <td>1</td>\n",
       "    </tr>\n",
       "  </tbody>\n",
       "</table>\n",
       "</div>"
      ],
      "text/plain": [
       "     article        date  source  \\\n",
       "445      647  2016-04-23       3   \n",
       "444      646  2016-04-23       3   \n",
       "443      645  2016-04-23       3   \n",
       "442      644  2016-04-23       3   \n",
       "446      648  2016-04-26       3   \n",
       "\n",
       "                                                  text  \\\n",
       "445  HIGHLIGHT: Ed Crooks is fascinated by a biogra...   \n",
       "444  HIGHLIGHT: \\'If China could be persuaded to co...   \n",
       "443  After months of wrangling, eurozone finance mi...   \n",
       "442  How can the world best combat global warming? ...   \n",
       "446  Zaoui & Co, the tiny European advisory firm se...   \n",
       "\n",
       "                                                 start   id  sort  \n",
       "445  HIGHLIGHT: Ed Crooks is fascinated by a biogra...  180     1  \n",
       "444  HIGHLIGHT: \\'If China could be persuaded to co...  225     1  \n",
       "443  After months of wrangling, eurozone finance mi...   20     1  \n",
       "442  How can the world best combat global warming? ...  233     1  \n",
       "446  Zaoui & Co, the tiny European advisory firm se...  599     1  "
      ]
     },
     "execution_count": 8,
     "metadata": {},
     "output_type": "execute_result"
    }
   ],
   "source": [
    "df.head()"
   ]
  },
  {
   "cell_type": "code",
   "execution_count": 9,
   "metadata": {
    "ExecuteTime": {
     "end_time": "2020-07-08T06:22:36.935231Z",
     "start_time": "2020-07-08T06:22:36.909235Z"
    }
   },
   "outputs": [],
   "source": [
    "# Seggregating the data to post brexit referendum period and pre brexit period depending upon the date\n",
    "# Brexit referendum date is june 23,2016 or 2016-06-23\n",
    "\n",
    "# Set the Index to be the Date\n",
    "df['date'] = pd.to_datetime(df['date'], format='%Y/%m/%d')\n",
    "df.set_index('date', inplace=True)\n",
    "\n",
    "# Sort the Data\n",
    "df = df.sort_values('date')\n",
    "\n",
    "# Slice the Data to get pre brexit referendum data\n",
    "To   = '2016-06-22'\n",
    "df_pre = df.loc[:To,:]"
   ]
  },
  {
   "cell_type": "code",
   "execution_count": 10,
   "metadata": {
    "ExecuteTime": {
     "end_time": "2020-07-08T06:22:36.951248Z",
     "start_time": "2020-07-08T06:22:36.939237Z"
    }
   },
   "outputs": [],
   "source": [
    "# Slicing the data to find post brexit data\n",
    "From   = '2016-06-23'\n",
    "df_post = df.loc[From:,:]"
   ]
  },
  {
   "cell_type": "markdown",
   "metadata": {},
   "source": [
    "# Understanding prebrexit topics"
   ]
  },
  {
   "cell_type": "markdown",
   "metadata": {
    "ExecuteTime": {
     "end_time": "2020-07-04T10:47:54.646492Z",
     "start_time": "2020-07-04T10:47:54.637495Z"
    }
   },
   "source": [
    "# 5. NLP pipeline"
   ]
  },
  {
   "cell_type": "code",
   "execution_count": 11,
   "metadata": {
    "ExecuteTime": {
     "end_time": "2020-07-08T06:22:37.222233Z",
     "start_time": "2020-07-08T06:22:36.954233Z"
    }
   },
   "outputs": [],
   "source": [
    "# docs as list and conversion to lower case\n",
    "def cleaning(_string):\n",
    "    # purge non alpha characters\n",
    "    alpha = re.sub(\"[^A-Za-z']+\", ' ', str(_string))\n",
    "    return alpha.lower()\n",
    "                  \n",
    "# clean text\n",
    "docs_pre = [cleaning(item) for item in df_pre.text.values]\n",
    "\n",
    "# hyphen to underscores\n",
    "docs_pre = [re.sub(r'\\b-\\b', '_', text) for text in docs_pre]"
   ]
  },
  {
   "cell_type": "code",
   "execution_count": 12,
   "metadata": {
    "ExecuteTime": {
     "end_time": "2020-07-08T06:22:47.341879Z",
     "start_time": "2020-07-08T06:22:37.225244Z"
    }
   },
   "outputs": [],
   "source": [
    "# load pipeline\n",
    "nlp = spacy.load('en_core_web_lg', disable=['ner', 'parser', 'tagger'])"
   ]
  },
  {
   "cell_type": "code",
   "execution_count": 13,
   "metadata": {
    "ExecuteTime": {
     "end_time": "2020-07-08T06:22:47.357888Z",
     "start_time": "2020-07-08T06:22:47.344763Z"
    }
   },
   "outputs": [],
   "source": [
    "# expand on spaCy's stopwords\n",
    "# my stopwrods\n",
    "my_stopwords = ['\\x1c',\n",
    "                'ft', 'wsj', 'time', 'sec','year',\n",
    "                'say', 'says', 'said',\n",
    "                'mr.', 'mister', 'mr', 'miss', 'ms',\n",
    "                'inc']\n",
    "# expand on spacy's stopwords\n",
    "for stopword in my_stopwords:\n",
    "    nlp.vocab[stopword].is_stop = True"
   ]
  },
  {
   "cell_type": "markdown",
   "metadata": {},
   "source": [
    "# 6. Tokenize text"
   ]
  },
  {
   "cell_type": "code",
   "execution_count": 14,
   "metadata": {
    "ExecuteTime": {
     "end_time": "2020-07-08T06:22:48.906764Z",
     "start_time": "2020-07-08T06:22:47.360795Z"
    }
   },
   "outputs": [
    {
     "name": "stderr",
     "output_type": "stream",
     "text": [
      "C:\\Users\\sachi\\anaconda3\\envs\\SMM694NLP\\lib\\site-packages\\pandas\\core\\indexing.py:845: SettingWithCopyWarning: \n",
      "A value is trying to be set on a copy of a slice from a DataFrame.\n",
      "Try using .loc[row_indexer,col_indexer] = value instead\n",
      "\n",
      "See the caveats in the documentation: https://pandas.pydata.org/pandas-docs/stable/user_guide/indexing.html#returning-a-view-versus-a-copy\n",
      "  self.obj[key] = _infer_fill_value(value)\n",
      "C:\\Users\\sachi\\anaconda3\\envs\\SMM694NLP\\lib\\site-packages\\pandas\\core\\indexing.py:966: SettingWithCopyWarning: \n",
      "A value is trying to be set on a copy of a slice from a DataFrame.\n",
      "Try using .loc[row_indexer,col_indexer] = value instead\n",
      "\n",
      "See the caveats in the documentation: https://pandas.pydata.org/pandas-docs/stable/user_guide/indexing.html#returning-a-view-versus-a-copy\n",
      "  self.obj[item] = s\n"
     ]
    }
   ],
   "source": [
    "# tokenized text\n",
    "docs_tokens_pre = []\n",
    "\n",
    "for doc in docs_pre:\n",
    "    tmp_tokens = [token.lemma_ for token in nlp(doc) \n",
    "                  if not token.is_stop\n",
    "                  and not token.is_space\n",
    "                  and not token.is_punct\n",
    "                  and not token.is_oov\n",
    "                  and len(token.lemma_) > 1\n",
    "                  and not token.like_num\n",
    "                  and not token.like_url\n",
    "                  and not token.like_email\n",
    "                  and not token.is_currency]\n",
    "    docs_tokens_pre.append(tmp_tokens)\n",
    "    tmp_tokens = []\n",
    "    \n",
    "    \n",
    "# Storing the tokenized text\n",
    "df_pre.loc[:, 'tkn_text'] = docs_tokens_pre"
   ]
  },
  {
   "cell_type": "markdown",
   "metadata": {
    "ExecuteTime": {
     "end_time": "2020-07-04T11:50:12.368260Z",
     "start_time": "2020-07-04T11:50:12.357220Z"
    }
   },
   "source": [
    "# 7. Taking into account bi-grams and tri-grams"
   ]
  },
  {
   "cell_type": "code",
   "execution_count": 15,
   "metadata": {
    "ExecuteTime": {
     "end_time": "2020-07-08T06:22:50.985764Z",
     "start_time": "2020-07-08T06:22:48.909765Z"
    }
   },
   "outputs": [],
   "source": [
    "#Getting rid of common terms\n",
    "common_terms = [u'of', u'with', u'without', u'and', u'or', u'the', u'a',\n",
    "                u'not', 'be', u'to', u'this', u'who', u'in']\n",
    "# find phrases\n",
    "bigram = Phrases(docs_tokens_pre,\n",
    "                 min_count=50,\n",
    "                 threshold=5,\n",
    "                 max_vocab_size=50000,\n",
    "                 common_terms=common_terms)\n",
    "\n",
    "trigram = Phrases(bigram[docs_tokens_pre],\n",
    "                  min_count=50,\n",
    "                  threshold=5,\n",
    "                  max_vocab_size=50000,\n",
    "                  common_terms=common_terms)\n",
    "\n",
    "docs_phrased_pre = [trigram[bigram[line]] for line in docs_tokens_pre]\n",
    "\n",
    "# check nlp pipeline\n",
    "#print('',\n",
    "      #'Published abstract:', docs[0],\n",
    "      #'Tokenized abstract:', docs_tokens[0],\n",
    "      #'Tri-grammed tokenised abstract:', docs_phrased[0],\n",
    "     # sep=LINE, end=LINE)"
   ]
  },
  {
   "cell_type": "code",
   "execution_count": 16,
   "metadata": {
    "ExecuteTime": {
     "end_time": "2020-07-08T06:22:51.033781Z",
     "start_time": "2020-07-08T06:22:50.988764Z"
    }
   },
   "outputs": [
    {
     "data": {
      "text/html": [
       "<div>\n",
       "<style scoped>\n",
       "    .dataframe tbody tr th:only-of-type {\n",
       "        vertical-align: middle;\n",
       "    }\n",
       "\n",
       "    .dataframe tbody tr th {\n",
       "        vertical-align: top;\n",
       "    }\n",
       "\n",
       "    .dataframe thead th {\n",
       "        text-align: right;\n",
       "    }\n",
       "</style>\n",
       "<table border=\"1\" class=\"dataframe\">\n",
       "  <thead>\n",
       "    <tr style=\"text-align: right;\">\n",
       "      <th></th>\n",
       "      <th>article</th>\n",
       "      <th>source</th>\n",
       "      <th>text</th>\n",
       "      <th>start</th>\n",
       "      <th>id</th>\n",
       "      <th>sort</th>\n",
       "      <th>tkn_text</th>\n",
       "    </tr>\n",
       "    <tr>\n",
       "      <th>date</th>\n",
       "      <th></th>\n",
       "      <th></th>\n",
       "      <th></th>\n",
       "      <th></th>\n",
       "      <th></th>\n",
       "      <th></th>\n",
       "      <th></th>\n",
       "    </tr>\n",
       "  </thead>\n",
       "  <tbody>\n",
       "    <tr>\n",
       "      <th>2016-04-23</th>\n",
       "      <td>647</td>\n",
       "      <td>3</td>\n",
       "      <td>HIGHLIGHT: Ed Crooks is fascinated by a biogra...</td>\n",
       "      <td>HIGHLIGHT: Ed Crooks is fascinated by a biogra...</td>\n",
       "      <td>180</td>\n",
       "      <td>1</td>\n",
       "      <td>[highlight, ed, crook, fascinate, biography, s...</td>\n",
       "    </tr>\n",
       "    <tr>\n",
       "      <th>2016-04-23</th>\n",
       "      <td>646</td>\n",
       "      <td>3</td>\n",
       "      <td>HIGHLIGHT: \\'If China could be persuaded to co...</td>\n",
       "      <td>HIGHLIGHT: \\'If China could be persuaded to co...</td>\n",
       "      <td>225</td>\n",
       "      <td>1</td>\n",
       "      <td>[highlight, china, persuade, construct, energy...</td>\n",
       "    </tr>\n",
       "    <tr>\n",
       "      <th>2016-04-23</th>\n",
       "      <td>645</td>\n",
       "      <td>3</td>\n",
       "      <td>After months of wrangling, eurozone finance mi...</td>\n",
       "      <td>After months of wrangling, eurozone finance mi...</td>\n",
       "      <td>20</td>\n",
       "      <td>1</td>\n",
       "      <td>[month, wrangle, eurozone, finance, minister, ...</td>\n",
       "    </tr>\n",
       "    <tr>\n",
       "      <th>2016-04-23</th>\n",
       "      <td>644</td>\n",
       "      <td>3</td>\n",
       "      <td>How can the world best combat global warming? ...</td>\n",
       "      <td>How can the world best combat global warming? ...</td>\n",
       "      <td>233</td>\n",
       "      <td>1</td>\n",
       "      <td>[world, well, combat, global, warm, people, ta...</td>\n",
       "    </tr>\n",
       "    <tr>\n",
       "      <th>2016-04-26</th>\n",
       "      <td>648</td>\n",
       "      <td>3</td>\n",
       "      <td>Zaoui &amp; Co, the tiny European advisory firm se...</td>\n",
       "      <td>Zaoui &amp; Co, the tiny European advisory firm se...</td>\n",
       "      <td>599</td>\n",
       "      <td>1</td>\n",
       "      <td>[co, tiny, european, advisory, firm, set, brot...</td>\n",
       "    </tr>\n",
       "  </tbody>\n",
       "</table>\n",
       "</div>"
      ],
      "text/plain": [
       "            article  source  \\\n",
       "date                          \n",
       "2016-04-23      647       3   \n",
       "2016-04-23      646       3   \n",
       "2016-04-23      645       3   \n",
       "2016-04-23      644       3   \n",
       "2016-04-26      648       3   \n",
       "\n",
       "                                                         text  \\\n",
       "date                                                            \n",
       "2016-04-23  HIGHLIGHT: Ed Crooks is fascinated by a biogra...   \n",
       "2016-04-23  HIGHLIGHT: \\'If China could be persuaded to co...   \n",
       "2016-04-23  After months of wrangling, eurozone finance mi...   \n",
       "2016-04-23  How can the world best combat global warming? ...   \n",
       "2016-04-26  Zaoui & Co, the tiny European advisory firm se...   \n",
       "\n",
       "                                                        start   id  sort  \\\n",
       "date                                                                       \n",
       "2016-04-23  HIGHLIGHT: Ed Crooks is fascinated by a biogra...  180     1   \n",
       "2016-04-23  HIGHLIGHT: \\'If China could be persuaded to co...  225     1   \n",
       "2016-04-23  After months of wrangling, eurozone finance mi...   20     1   \n",
       "2016-04-23  How can the world best combat global warming? ...  233     1   \n",
       "2016-04-26  Zaoui & Co, the tiny European advisory firm se...  599     1   \n",
       "\n",
       "                                                     tkn_text  \n",
       "date                                                           \n",
       "2016-04-23  [highlight, ed, crook, fascinate, biography, s...  \n",
       "2016-04-23  [highlight, china, persuade, construct, energy...  \n",
       "2016-04-23  [month, wrangle, eurozone, finance, minister, ...  \n",
       "2016-04-23  [world, well, combat, global, warm, people, ta...  \n",
       "2016-04-26  [co, tiny, european, advisory, firm, set, brot...  "
      ]
     },
     "execution_count": 16,
     "metadata": {},
     "output_type": "execute_result"
    }
   ],
   "source": [
    "df_pre.head()"
   ]
  },
  {
   "cell_type": "markdown",
   "metadata": {},
   "source": [
    "# 8. Topic Modelling"
   ]
  },
  {
   "cell_type": "markdown",
   "metadata": {},
   "source": [
    "# 8.1 Training the model"
   ]
  },
  {
   "cell_type": "code",
   "execution_count": 17,
   "metadata": {
    "ExecuteTime": {
     "end_time": "2020-07-08T06:22:51.535771Z",
     "start_time": "2020-07-08T06:22:51.039771Z"
    }
   },
   "outputs": [],
   "source": [
    "# create dictionary and text corpus\n",
    "dict_pre = Dictionary(docs_phrased_pre)\n",
    "corpus_pre = [dict_pre.doc2bow(doc) for doc in docs_phrased_pre]"
   ]
  },
  {
   "cell_type": "markdown",
   "metadata": {
    "ExecuteTime": {
     "end_time": "2020-07-04T12:00:06.344588Z",
     "start_time": "2020-07-04T12:00:06.332555Z"
    }
   },
   "source": [
    "# 8.2 Implementation of LDA algorithm"
   ]
  },
  {
   "cell_type": "code",
   "execution_count": 18,
   "metadata": {
    "ExecuteTime": {
     "end_time": "2020-07-08T06:22:59.099776Z",
     "start_time": "2020-07-08T06:22:51.537761Z"
    }
   },
   "outputs": [],
   "source": [
    "# Build LDA model with n_topics 20\n",
    "n_topics = 20\n",
    "lda_model_pre = gensim.models.ldamodel.LdaModel(corpus=corpus_pre,\n",
    "                                           id2word=dict_pre,\n",
    "                                           num_topics=n_topics, \n",
    "                                           random_state=100,\n",
    "                                           update_every=1,\n",
    "                                           chunksize=100,\n",
    "                                           passes=10,\n",
    "                                           alpha='auto',\n",
    "                                           per_word_topics=True)"
   ]
  },
  {
   "cell_type": "markdown",
   "metadata": {
    "ExecuteTime": {
     "end_time": "2020-07-04T17:59:16.674159Z",
     "start_time": "2020-07-04T17:59:16.671161Z"
    }
   },
   "source": [
    "# View the topics"
   ]
  },
  {
   "cell_type": "code",
   "execution_count": 19,
   "metadata": {
    "ExecuteTime": {
     "end_time": "2020-07-08T06:22:59.115777Z",
     "start_time": "2020-07-08T06:22:59.101776Z"
    }
   },
   "outputs": [
    {
     "name": "stdout",
     "output_type": "stream",
     "text": [
      "[(0, '0.026*\"blend\" + 0.008*\"fca\" + 0.005*\"siemens\" + 0.003*\"mba\" + 0.003*\"disparity\" + 0.002*\"dealmakers\" + 0.002*\"dresser\" + 0.002*\"misuse\" + 0.001*\"intern\" + 0.001*\"filing\"'), (1, '0.002*\"plaque\" + 0.000*\"tunisia\" + 0.000*\"terrorist\" + 0.000*\"xc\" + 0.000*\"greece\" + 0.000*\"terrorism\" + 0.000*\"tunisian\" + 0.000*\"uk\" + 0.000*\"debt\" + 0.000*\"travel\"'), (2, '0.024*\"car\" + 0.018*\"electric\" + 0.017*\"battery\" + 0.016*\"jean\" + 0.013*\"vehicle\" + 0.012*\"reverend\" + 0.012*\"biogas\" + 0.011*\"ltd\" + 0.011*\"cox\" + 0.010*\"borough\"'), (3, '0.039*\"font\" + 0.034*\"austin_news_deck_web\" + 0.029*\"uk_asset_font\" + 0.029*\"url_http_eip_telegraph\" + 0.028*\"co\" + 0.027*\"px\" + 0.025*\"format\" + 0.022*\"medium\" + 0.019*\"woff\" + 0.019*\"italic\"'), (4, '0.012*\"brand\" + 0.011*\"good\" + 0.009*\"people\" + 0.008*\"design\" + 0.008*\"feel\" + 0.008*\"consumer\" + 0.008*\"thing\" + 0.007*\"want\" + 0.007*\"luxury\" + 0.007*\"palm\"'), (5, '0.017*\"spencer\" + 0.017*\"assemble\" + 0.015*\"judgment\" + 0.008*\"scent\" + 0.007*\"fragrance\" + 0.007*\"potency\" + 0.007*\"organic\" + 0.007*\"vanilla\" + 0.006*\"dust\" + 0.006*\"madagascar\"'), (6, '0.042*\"banana\" + 0.033*\"organic\" + 0.010*\"paulson\" + 0.007*\"louis\" + 0.007*\"expedition\" + 0.006*\"chinese\" + 0.005*\"subprime\" + 0.005*\"virtually\" + 0.004*\"cheer\" + 0.004*\"revelation\"'), (7, '0.000*\"cent\" + 0.000*\"pay\" + 0.000*\"company\" + 0.000*\"power\" + 0.000*\"university\" + 0.000*\"austin_news_deck_web\" + 0.000*\"new\" + 0.000*\"industry\" + 0.000*\"medium\" + 0.000*\"car\"'), (8, '0.059*\"service\" + 0.038*\"community\" + 0.023*\"education\" + 0.022*\"child\" + 0.015*\"school\" + 0.014*\"royal\" + 0.012*\"people\" + 0.011*\"young\" + 0.010*\"police\" + 0.010*\"director\"'), (9, '0.132*\"service\" + 0.033*\"professor\" + 0.021*\"nhs\" + 0.020*\"health\" + 0.019*\"john\" + 0.017*\"care\" + 0.016*\"chief_executive\" + 0.013*\"david\" + 0.013*\"general\" + 0.009*\"officer\"'), (10, '0.017*\"energy\" + 0.016*\"city\" + 0.011*\"xc\" + 0.010*\"water\" + 0.010*\"power\" + 0.008*\"green\" + 0.008*\"new\" + 0.008*\"project\" + 0.007*\"world\" + 0.007*\"emission\"'), (11, '0.016*\"food\" + 0.014*\"be\" + 0.012*\"xc\" + 0.012*\"company\" + 0.011*\"invest\" + 0.010*\"waste\" + 0.009*\"investment\" + 0.008*\"price\" + 0.007*\"report\" + 0.007*\"investor\"'), (12, '0.054*\"oil\" + 0.053*\"cent\" + 0.017*\"robert\" + 0.014*\"inflation\" + 0.013*\"growth\" + 0.013*\"stock\" + 0.013*\"investor\" + 0.012*\"rise\" + 0.012*\"quarter\" + 0.012*\"japan\"'), (13, '0.009*\"business\" + 0.009*\"work\" + 0.008*\"company\" + 0.006*\"need\" + 0.006*\"new\" + 0.006*\"government\" + 0.005*\"development\" + 0.005*\"fund\" + 0.005*\"world\" + 0.005*\"sustainable\"'), (14, '0.020*\"debt\" + 0.017*\"bank\" + 0.017*\"greece\" + 0.017*\"eurozone\" + 0.013*\"imf\" + 0.013*\"rate\" + 0.011*\"cent\" + 0.011*\"fund\" + 0.011*\"euro\" + 0.010*\"growth\"'), (15, '0.021*\"palace\" + 0.020*\"prince\" + 0.016*\"duke\" + 0.016*\"attend\" + 0.016*\"th\" + 0.015*\"receive\" + 0.015*\"london\" + 0.014*\"afternoon\" + 0.014*\"hold\" + 0.014*\"wale\"'), (16, '0.000*\"stream\" + 0.000*\"city\" + 0.000*\"uk\" + 0.000*\"government\" + 0.000*\"business\" + 0.000*\"new\" + 0.000*\"small\" + 0.000*\"xc\" + 0.000*\"company\" + 0.000*\"people\"'), (17, '0.038*\"eu\" + 0.032*\"uk\" + 0.017*\"leave\" + 0.016*\"brexit\" + 0.015*\"european\" + 0.013*\"vote\" + 0.013*\"europe\" + 0.012*\"britain\" + 0.010*\"party\" + 0.010*\"country\"'), (18, '0.021*\"irish\" + 0.017*\"immigration\" + 0.016*\"ireland\" + 0.016*\"bee\" + 0.012*\"frances\" + 0.010*\"impress\" + 0.010*\"son\" + 0.010*\"mccgwire\" + 0.009*\"homeless\" + 0.007*\"soviet\"'), (19, '0.030*\"investment\" + 0.025*\"fund\" + 0.024*\"migrant\" + 0.022*\"university\" + 0.022*\"fish\" + 0.017*\"student\" + 0.016*\"investor\" + 0.015*\"climate_change\" + 0.012*\"fuel\" + 0.011*\"pay\"')]\n"
     ]
    }
   ],
   "source": [
    "# Print the Keywors\n",
    "print(lda_model_pre.print_topics())\n",
    "doc_lda_pre = lda_model_pre[corpus_pre]"
   ]
  },
  {
   "cell_type": "markdown",
   "metadata": {},
   "source": [
    "# Model Evaluation"
   ]
  },
  {
   "cell_type": "code",
   "execution_count": 20,
   "metadata": {
    "ExecuteTime": {
     "end_time": "2020-07-08T06:22:59.131778Z",
     "start_time": "2020-07-08T06:22:59.118780Z"
    }
   },
   "outputs": [],
   "source": [
    "# The range of coherence values as the number of retained topics change\n",
    "# define function\n",
    "def compute_coherence_values(dictionary, corpus, texts, limit, start, step):\n",
    "    coherence_values = []\n",
    "    model_list = []\n",
    "    \n",
    "    for num_topics in range(start, limit, step):\n",
    "        model = gensim.models.ldamodel.LdaModel(corpus=corpus_pre,\n",
    "                                               id2word=dict_pre,\n",
    "                                               num_topics=n_topics, \n",
    "                                               random_state=100,\n",
    "                                               update_every=1,\n",
    "                                               chunksize=100)\n",
    "                                               #passes=10,\n",
    "                                               #alpha='auto',\n",
    "                                               #per_word_topics=True)\n",
    "        model_list.append(model)\n",
    "        coherencemodel = CoherenceModel(model=model,\n",
    "                                        texts=texts,\n",
    "                                        dictionary=dictionary,\n",
    "                                        coherence='c_v')\n",
    "        coherence_values.append(coherencemodel.get_coherence())\n",
    "\n",
    "    return model_list, coherence_values"
   ]
  },
  {
   "cell_type": "code",
   "execution_count": 21,
   "metadata": {
    "ExecuteTime": {
     "end_time": "2020-07-08T06:25:46.030764Z",
     "start_time": "2020-07-08T06:22:59.133777Z"
    }
   },
   "outputs": [],
   "source": [
    "# collect coherence scores as the number of retained topics change\n",
    "limit,start,step = 20, 1, 1\n",
    "model_list, coher_vals = compute_coherence_values(dictionary=dict_pre,\n",
    "                                                  corpus=corpus_pre,\n",
    "                                                  texts=docs_phrased_pre,\n",
    "                                                  start=start,\n",
    "                                                  limit=limit,\n",
    "                                                  step=step)"
   ]
  },
  {
   "cell_type": "code",
   "execution_count": 22,
   "metadata": {
    "ExecuteTime": {
     "end_time": "2020-07-08T06:25:46.468641Z",
     "start_time": "2020-07-08T06:25:46.033642Z"
    }
   },
   "outputs": [
    {
     "data": {
      "image/png": "[encoded data removed]",
      "text/plain": [
       "<Figure size 432x432 with 1 Axes>"
      ]
     },
     "metadata": {
      "needs_background": "light"
     },
     "output_type": "display_data"
    }
   ],
   "source": [
    "# Coherence scores plot\n",
    "# data series\n",
    "x = range(start, limit, step)\n",
    "y = coher_vals\n",
    "\n",
    "# create figure\n",
    "fig = plt.figure(figsize=(6, 6))\n",
    "ax = fig.add_subplot(1, 1, 1)\n",
    "\n",
    "# plot data\n",
    "ax.plot(x,y, marker='o', color='b', ls='-')\n",
    "\n",
    "# axes\n",
    "ax.set_xlabel(\"Number of topics retained\")\n",
    "ax.set_ylabel(\"Coherence score\")\n",
    "ax.set_xticks(np.arange(2, 20, 1))\n",
    "\n",
    "# reference line\n",
    "#ax.axvline(x=11, ymin=0, ymax=1, color='r')\n",
    "\n",
    "# grid\n",
    "ax.grid(True, ls='--')\n",
    "\n",
    "# save plot to file\n",
    "folder = 'exhibits'\n",
    "file = 'pre_1.pdf'\n",
    "plt.savefig(os.path.join(folder,file),\n",
    "            transparent=True,\n",
    "            bbox_inches='tight',\n",
    "            pad_inches=0)\n",
    "\n",
    "plt.show()"
   ]
  },
  {
   "cell_type": "code",
   "execution_count": 23,
   "metadata": {
    "ExecuteTime": {
     "end_time": "2020-07-08T06:25:46.484645Z",
     "start_time": "2020-07-08T06:25:46.471643Z"
    }
   },
   "outputs": [
    {
     "data": {
      "text/plain": [
       "[0.42410228642505166,\n",
       " 0.42410228642505166,\n",
       " 0.42410228642505166,\n",
       " 0.42410228642505166,\n",
       " 0.42410228642505166,\n",
       " 0.42410228642505166,\n",
       " 0.42410228642505166,\n",
       " 0.42410228642505166,\n",
       " 0.42410228642505166,\n",
       " 0.42410228642505166,\n",
       " 0.42410228642505166,\n",
       " 0.42410228642505166,\n",
       " 0.42410228642505166,\n",
       " 0.42410228642505166,\n",
       " 0.42410228642505166,\n",
       " 0.42410228642505166,\n",
       " 0.42410228642505166,\n",
       " 0.42410228642505166,\n",
       " 0.42410228642505166]"
      ]
     },
     "execution_count": 23,
     "metadata": {},
     "output_type": "execute_result"
    }
   ],
   "source": [
    "coher_vals"
   ]
  },
  {
   "cell_type": "markdown",
   "metadata": {},
   "source": [
    "# Model evaluation approach 2"
   ]
  },
  {
   "cell_type": "code",
   "execution_count": 24,
   "metadata": {
    "ExecuteTime": {
     "end_time": "2020-07-08T06:25:56.693401Z",
     "start_time": "2020-07-08T06:25:46.492643Z"
    }
   },
   "outputs": [
    {
     "name": "stdout",
     "output_type": "stream",
     "text": [
      "\n",
      "Perplexity:  -10.370590596980579\n",
      "\n",
      "Coherence Score:  0.5017755300520588\n"
     ]
    }
   ],
   "source": [
    "# Compute Perplexity\n",
    "print('\\nPerplexity: ', lda_model_pre.log_perplexity(corpus_pre))  # a measure of how good the model is. lower the better.\n",
    "\n",
    "# Compute Coherence Score\n",
    "coherence_model_lda = CoherenceModel(model=lda_model_pre, texts=docs_phrased_pre, dictionary=dict_pre, coherence='c_v')\n",
    "coherence_lda = coherence_model_lda.get_coherence()\n",
    "print('\\nCoherence Score: ', coherence_lda)"
   ]
  },
  {
   "cell_type": "code",
   "execution_count": 25,
   "metadata": {
    "ExecuteTime": {
     "end_time": "2020-07-08T06:25:56.709368Z",
     "start_time": "2020-07-08T06:25:56.701380Z"
    }
   },
   "outputs": [],
   "source": [
    "def compute_coherence_values(dictionary, corpus, texts, limit, start=2, step=3):\n",
    "    coherence_values = []\n",
    "    model_list = []\n",
    "    for num_topics in range(start, limit, step):\n",
    "        model = gensim.models.ldamodel.LdaModel(corpus=corpus_pre, num_topics=num_topics, id2word=dict_pre)\n",
    "        model_list.append(model)\n",
    "        coherencemodel = CoherenceModel(model=model, texts=docs_phrased_pre, dictionary=dict_pre, coherence='c_v')\n",
    "        coherence_values.append(coherencemodel.get_coherence())\n",
    "\n",
    "    return model_list, coherence_values"
   ]
  },
  {
   "cell_type": "code",
   "execution_count": 26,
   "metadata": {
    "ExecuteTime": {
     "end_time": "2020-07-08T06:26:53.709124Z",
     "start_time": "2020-07-08T06:25:56.713368Z"
    }
   },
   "outputs": [
    {
     "data": {
      "image/png": "[encoded data removed]",
      "text/plain": [
       "<Figure size 432x288 with 1 Axes>"
      ]
     },
     "metadata": {
      "needs_background": "light"
     },
     "output_type": "display_data"
    }
   ],
   "source": [
    "# Can take a long time to run.\n",
    "model_list, coherence_values = compute_coherence_values(dictionary=dict_pre, corpus=corpus_pre, texts=docs_phrased_pre, start=2, limit=40, step=6)\n",
    "# Show graph\n",
    "limit=40; start=2; step=6;\n",
    "x = range(start, limit, step)\n",
    "plt.plot(x, coherence_values)\n",
    "plt.xlabel(\"Num Topics\")\n",
    "plt.ylabel(\"Coherence score\")\n",
    "plt.legend((\"coherence_values\"), loc='best')\n",
    "\n",
    "# save plot to file\n",
    "folder = 'exhibits'\n",
    "file = 'pre_2.pdf'\n",
    "plt.savefig(os.path.join(folder,file),\n",
    "            transparent=True,\n",
    "            bbox_inches='tight',\n",
    "            pad_inches=0)\n",
    "plt.show()"
   ]
  },
  {
   "cell_type": "code",
   "execution_count": 27,
   "metadata": {
    "ExecuteTime": {
     "end_time": "2020-07-08T06:26:53.725025Z",
     "start_time": "2020-07-08T06:26:53.711026Z"
    }
   },
   "outputs": [
    {
     "name": "stdout",
     "output_type": "stream",
     "text": [
      "Num Topics = 2  has Coherence Value of 0.2646\n",
      "Num Topics = 8  has Coherence Value of 0.2714\n",
      "Num Topics = 14  has Coherence Value of 0.2846\n",
      "Num Topics = 20  has Coherence Value of 0.3084\n",
      "Num Topics = 26  has Coherence Value of 0.296\n",
      "Num Topics = 32  has Coherence Value of 0.276\n",
      "Num Topics = 38  has Coherence Value of 0.3087\n"
     ]
    }
   ],
   "source": [
    "# Print the coherence scores\n",
    "for m, cv in zip(x, coherence_values):\n",
    "    print(\"Num Topics =\", m, \" has Coherence Value of\", round(cv, 4))"
   ]
  },
  {
   "cell_type": "code",
   "execution_count": 28,
   "metadata": {
    "ExecuteTime": {
     "end_time": "2020-07-08T06:26:56.312074Z",
     "start_time": "2020-07-08T06:26:53.728028Z"
    }
   },
   "outputs": [
    {
     "name": "stdout",
     "output_type": "stream",
     "text": [
      "[(0, '0.006*\"company\" + 0.005*\"service\" + 0.004*\"investment\" + 0.003*\"fund\" + 0.003*\"uk\" + 0.003*\"food\" + 0.003*\"people\" + 0.003*\"new\" + 0.003*\"work\" + 0.003*\"eu\"'), (1, '0.007*\"professor\" + 0.007*\"service\" + 0.006*\"company\" + 0.004*\"government\" + 0.004*\"xc\" + 0.004*\"uk\" + 0.004*\"business\" + 0.003*\"cent\" + 0.003*\"price\" + 0.003*\"co\"'), (2, '0.005*\"uk\" + 0.004*\"business\" + 0.004*\"new\" + 0.003*\"people\" + 0.003*\"xc\" + 0.003*\"service\" + 0.003*\"eu\" + 0.003*\"company\" + 0.003*\"community\" + 0.003*\"sustainability\"'), (3, '0.009*\"greece\" + 0.008*\"service\" + 0.005*\"country\" + 0.004*\"fund\" + 0.004*\"xc\" + 0.004*\"debt\" + 0.004*\"eu\" + 0.004*\"bn\" + 0.004*\"government\" + 0.004*\"people\"'), (4, '0.005*\"fund\" + 0.005*\"people\" + 0.004*\"need\" + 0.004*\"government\" + 0.004*\"xc\" + 0.004*\"service\" + 0.004*\"city\" + 0.004*\"world\" + 0.004*\"work\" + 0.004*\"health\"'), (5, '0.013*\"service\" + 0.005*\"community\" + 0.004*\"people\" + 0.003*\"need\" + 0.003*\"child\" + 0.003*\"government\" + 0.003*\"xc\" + 0.003*\"new\" + 0.003*\"year\" + 0.003*\"work\"'), (6, '0.005*\"company\" + 0.005*\"people\" + 0.005*\"new\" + 0.004*\"business\" + 0.004*\"country\" + 0.004*\"waste\" + 0.003*\"world\" + 0.003*\"need\" + 0.003*\"power\" + 0.003*\"food\"'), (7, '0.018*\"service\" + 0.007*\"work\" + 0.005*\"business\" + 0.005*\"people\" + 0.004*\"community\" + 0.004*\"uk\" + 0.003*\"world\" + 0.003*\"education\" + 0.003*\"xc\" + 0.003*\"government\"'), (8, '0.013*\"service\" + 0.005*\"work\" + 0.005*\"uk\" + 0.004*\"eu\" + 0.004*\"company\" + 0.004*\"energy\" + 0.004*\"community\" + 0.004*\"market\" + 0.004*\"business\" + 0.004*\"xc\"'), (9, '0.006*\"service\" + 0.005*\"business\" + 0.005*\"price\" + 0.004*\"cent\" + 0.003*\"new\" + 0.003*\"rate\" + 0.003*\"company\" + 0.003*\"uk\" + 0.003*\"xc\" + 0.003*\"need\"'), (10, '0.004*\"xc\" + 0.004*\"service\" + 0.004*\"fund\" + 0.004*\"government\" + 0.004*\"people\" + 0.003*\"city\" + 0.003*\"company\" + 0.003*\"uk\" + 0.003*\"public\" + 0.003*\"work\"'), (11, '0.007*\"service\" + 0.005*\"uk\" + 0.005*\"business\" + 0.005*\"sustainability\" + 0.004*\"new\" + 0.004*\"fund\" + 0.003*\"company\" + 0.003*\"community\" + 0.003*\"group\" + 0.003*\"work\"'), (12, '0.004*\"service\" + 0.004*\"business\" + 0.004*\"be\" + 0.004*\"xc\" + 0.004*\"fund\" + 0.003*\"company\" + 0.003*\"government\" + 0.003*\"energy\" + 0.003*\"development\" + 0.003*\"include\"'), (13, '0.036*\"service\" + 0.011*\"community\" + 0.006*\"professor\" + 0.005*\"education\" + 0.004*\"john\" + 0.004*\"director\" + 0.003*\"new\" + 0.003*\"people\" + 0.003*\"government\" + 0.003*\"business\"'), (14, '0.015*\"service\" + 0.005*\"xc\" + 0.004*\"people\" + 0.004*\"new\" + 0.004*\"work\" + 0.004*\"uk\" + 0.004*\"need\" + 0.003*\"community\" + 0.003*\"company\" + 0.003*\"business\"'), (15, '0.011*\"service\" + 0.006*\"company\" + 0.005*\"xc\" + 0.004*\"uk\" + 0.004*\"business\" + 0.004*\"new\" + 0.003*\"people\" + 0.003*\"group\" + 0.003*\"cent\" + 0.003*\"work\"'), (16, '0.008*\"service\" + 0.005*\"people\" + 0.004*\"eu\" + 0.004*\"company\" + 0.004*\"uk\" + 0.003*\"government\" + 0.003*\"professor\" + 0.003*\"city\" + 0.003*\"fund\" + 0.003*\"business\"'), (17, '0.006*\"uk\" + 0.005*\"world\" + 0.005*\"people\" + 0.004*\"business\" + 0.004*\"eu\" + 0.004*\"xc\" + 0.003*\"fund\" + 0.003*\"service\" + 0.003*\"house\" + 0.003*\"new\"'), (18, '0.008*\"service\" + 0.005*\"uk\" + 0.004*\"work\" + 0.004*\"country\" + 0.004*\"community\" + 0.003*\"business\" + 0.003*\"need\" + 0.003*\"company\" + 0.003*\"people\" + 0.003*\"year\"'), (19, '0.006*\"service\" + 0.004*\"community\" + 0.004*\"people\" + 0.003*\"uk\" + 0.003*\"year\" + 0.003*\"need\" + 0.003*\"world\" + 0.003*\"work\" + 0.003*\"sustainable\" + 0.003*\"well\"')]\n"
     ]
    },
    {
     "data": {
      "text/html": [
       "<div>\n",
       "<style scoped>\n",
       "    .dataframe tbody tr th:only-of-type {\n",
       "        vertical-align: middle;\n",
       "    }\n",
       "\n",
       "    .dataframe tbody tr th {\n",
       "        vertical-align: top;\n",
       "    }\n",
       "\n",
       "    .dataframe thead th {\n",
       "        text-align: right;\n",
       "    }\n",
       "</style>\n",
       "<table border=\"1\" class=\"dataframe\">\n",
       "  <thead>\n",
       "    <tr style=\"text-align: right;\">\n",
       "      <th></th>\n",
       "      <th>Document_No</th>\n",
       "      <th>Dominant_Topic</th>\n",
       "      <th>Topic_Perc_Contrib</th>\n",
       "      <th>Keywords</th>\n",
       "      <th>Text</th>\n",
       "    </tr>\n",
       "  </thead>\n",
       "  <tbody>\n",
       "    <tr>\n",
       "      <th>0</th>\n",
       "      <td>0</td>\n",
       "      <td>17.0</td>\n",
       "      <td>0.9954</td>\n",
       "      <td>uk, world, people, business, eu, xc, fund, ser...</td>\n",
       "      <td>highlight ed crooks is fascinated by a biograp...</td>\n",
       "    </tr>\n",
       "    <tr>\n",
       "      <th>1</th>\n",
       "      <td>1</td>\n",
       "      <td>17.0</td>\n",
       "      <td>0.9976</td>\n",
       "      <td>uk, world, people, business, eu, xc, fund, ser...</td>\n",
       "      <td>highlight 'if china could be persuaded to cons...</td>\n",
       "    </tr>\n",
       "    <tr>\n",
       "      <th>2</th>\n",
       "      <td>2</td>\n",
       "      <td>3.0</td>\n",
       "      <td>0.9959</td>\n",
       "      <td>greece, service, country, fund, xc, debt, eu, ...</td>\n",
       "      <td>after months of wrangling eurozone finance min...</td>\n",
       "    </tr>\n",
       "    <tr>\n",
       "      <th>3</th>\n",
       "      <td>3</td>\n",
       "      <td>17.0</td>\n",
       "      <td>0.9971</td>\n",
       "      <td>uk, world, people, business, eu, xc, fund, ser...</td>\n",
       "      <td>how can the world best combat global warming m...</td>\n",
       "    </tr>\n",
       "    <tr>\n",
       "      <th>4</th>\n",
       "      <td>4</td>\n",
       "      <td>15.0</td>\n",
       "      <td>0.9960</td>\n",
       "      <td>service, company, xc, uk, business, new, peopl...</td>\n",
       "      <td>zaoui co the tiny european advisory firm set u...</td>\n",
       "    </tr>\n",
       "    <tr>\n",
       "      <th>5</th>\n",
       "      <td>5</td>\n",
       "      <td>18.0</td>\n",
       "      <td>0.9921</td>\n",
       "      <td>service, uk, work, country, community, busines...</td>\n",
       "      <td>sir caroline binham 's report fca sets out pla...</td>\n",
       "    </tr>\n",
       "    <tr>\n",
       "      <th>6</th>\n",
       "      <td>6</td>\n",
       "      <td>17.0</td>\n",
       "      <td>0.9933</td>\n",
       "      <td>uk, world, people, business, eu, xc, fund, ser...</td>\n",
       "      <td>it has been a little over a year since i began...</td>\n",
       "    </tr>\n",
       "    <tr>\n",
       "      <th>7</th>\n",
       "      <td>7</td>\n",
       "      <td>4.0</td>\n",
       "      <td>0.9977</td>\n",
       "      <td>fund, people, need, government, xc, service, c...</td>\n",
       "      <td>the world 's largest government backed investm...</td>\n",
       "    </tr>\n",
       "    <tr>\n",
       "      <th>8</th>\n",
       "      <td>8</td>\n",
       "      <td>15.0</td>\n",
       "      <td>0.4965</td>\n",
       "      <td>service, company, xc, uk, business, new, peopl...</td>\n",
       "      <td>if we take control we can deliver for our mari...</td>\n",
       "    </tr>\n",
       "    <tr>\n",
       "      <th>9</th>\n",
       "      <td>9</td>\n",
       "      <td>17.0</td>\n",
       "      <td>0.5457</td>\n",
       "      <td>uk, world, people, business, eu, xc, fund, ser...</td>\n",
       "      <td>i am a year old vicar married but as yet no ch...</td>\n",
       "    </tr>\n",
       "  </tbody>\n",
       "</table>\n",
       "</div>"
      ],
      "text/plain": [
       "   Document_No  Dominant_Topic  Topic_Perc_Contrib  \\\n",
       "0            0            17.0              0.9954   \n",
       "1            1            17.0              0.9976   \n",
       "2            2             3.0              0.9959   \n",
       "3            3            17.0              0.9971   \n",
       "4            4            15.0              0.9960   \n",
       "5            5            18.0              0.9921   \n",
       "6            6            17.0              0.9933   \n",
       "7            7             4.0              0.9977   \n",
       "8            8            15.0              0.4965   \n",
       "9            9            17.0              0.5457   \n",
       "\n",
       "                                            Keywords  \\\n",
       "0  uk, world, people, business, eu, xc, fund, ser...   \n",
       "1  uk, world, people, business, eu, xc, fund, ser...   \n",
       "2  greece, service, country, fund, xc, debt, eu, ...   \n",
       "3  uk, world, people, business, eu, xc, fund, ser...   \n",
       "4  service, company, xc, uk, business, new, peopl...   \n",
       "5  service, uk, work, country, community, busines...   \n",
       "6  uk, world, people, business, eu, xc, fund, ser...   \n",
       "7  fund, people, need, government, xc, service, c...   \n",
       "8  service, company, xc, uk, business, new, peopl...   \n",
       "9  uk, world, people, business, eu, xc, fund, ser...   \n",
       "\n",
       "                                                Text  \n",
       "0  highlight ed crooks is fascinated by a biograp...  \n",
       "1  highlight 'if china could be persuaded to cons...  \n",
       "2  after months of wrangling eurozone finance min...  \n",
       "3  how can the world best combat global warming m...  \n",
       "4  zaoui co the tiny european advisory firm set u...  \n",
       "5  sir caroline binham 's report fca sets out pla...  \n",
       "6  it has been a little over a year since i began...  \n",
       "7  the world 's largest government backed investm...  \n",
       "8  if we take control we can deliver for our mari...  \n",
       "9  i am a year old vicar married but as yet no ch...  "
      ]
     },
     "execution_count": 28,
     "metadata": {},
     "output_type": "execute_result"
    }
   ],
   "source": [
    "# Select the model and print the topics\n",
    "optimal_model = model_list[3]\n",
    "model_topics = optimal_model.show_topics(formatted=False)\n",
    "print(optimal_model.print_topics(num_words=10))\n",
    "\n",
    "def format_topics_sentences(ldamodel=lda_model_pre, corpus=corpus_pre, texts=docs_pre):\n",
    "    # Init output\n",
    "    sent_topics_df = pd.DataFrame()\n",
    "\n",
    "    # Get main topic in each document\n",
    "    for i, row in enumerate(ldamodel[corpus_pre]):\n",
    "        row = sorted(row, key=lambda x: (x[1]), reverse=True)\n",
    "        # Get the Dominant topic, Perc Contribution and Keywords for each document\n",
    "        for j, (topic_num, prop_topic) in enumerate(row):\n",
    "            if j == 0:  # => dominant topic\n",
    "                wp = ldamodel.show_topic(topic_num)\n",
    "                topic_keywords = \", \".join([word for word, prop in wp])\n",
    "                sent_topics_df = sent_topics_df.append(pd.Series([int(topic_num), round(prop_topic,4), topic_keywords]), ignore_index=True)\n",
    "            else:\n",
    "                break\n",
    "    sent_topics_df.columns = ['Dominant_Topic', 'Perc_Contribution', 'Topic_Keywords']\n",
    "\n",
    "    # Add original text to the end of the output\n",
    "    contents = pd.Series(texts)\n",
    "    sent_topics_df = pd.concat([sent_topics_df, contents], axis=1)\n",
    "    return(sent_topics_df)\n",
    "\n",
    "\n",
    "df_topic_sents_keywords = format_topics_sentences(ldamodel=optimal_model, corpus=corpus_pre, texts=docs_pre)\n",
    "\n",
    "# Format\n",
    "df_dominant_topic = df_topic_sents_keywords.reset_index()\n",
    "df_dominant_topic.columns = ['Document_No', 'Dominant_Topic', 'Topic_Perc_Contrib', 'Keywords', 'Text']\n",
    "\n",
    "# Show\n",
    "df_dominant_topic.head(10)"
   ]
  },
  {
   "cell_type": "code",
   "execution_count": 29,
   "metadata": {
    "ExecuteTime": {
     "end_time": "2020-07-08T06:26:56.373072Z",
     "start_time": "2020-07-08T06:26:56.315078Z"
    }
   },
   "outputs": [
    {
     "data": {
      "text/html": [
       "<div>\n",
       "<style scoped>\n",
       "    .dataframe tbody tr th:only-of-type {\n",
       "        vertical-align: middle;\n",
       "    }\n",
       "\n",
       "    .dataframe tbody tr th {\n",
       "        vertical-align: top;\n",
       "    }\n",
       "\n",
       "    .dataframe thead th {\n",
       "        text-align: right;\n",
       "    }\n",
       "</style>\n",
       "<table border=\"1\" class=\"dataframe\">\n",
       "  <thead>\n",
       "    <tr style=\"text-align: right;\">\n",
       "      <th></th>\n",
       "      <th>Topic_Num</th>\n",
       "      <th>Topic_Perc_Contrib</th>\n",
       "      <th>Keywords</th>\n",
       "      <th>Text</th>\n",
       "    </tr>\n",
       "  </thead>\n",
       "  <tbody>\n",
       "    <tr>\n",
       "      <th>0</th>\n",
       "      <td>0.0</td>\n",
       "      <td>0.9954</td>\n",
       "      <td>company, service, investment, fund, uk, food, ...</td>\n",
       "      <td>a surge in chinese bank borrowing for environm...</td>\n",
       "    </tr>\n",
       "    <tr>\n",
       "      <th>1</th>\n",
       "      <td>1.0</td>\n",
       "      <td>0.9982</td>\n",
       "      <td>professor, service, company, government, xc, u...</td>\n",
       "      <td>on a recent thursday night at trendy west holl...</td>\n",
       "    </tr>\n",
       "    <tr>\n",
       "      <th>2</th>\n",
       "      <td>2.0</td>\n",
       "      <td>0.8421</td>\n",
       "      <td>uk, business, new, people, xc, service, eu, co...</td>\n",
       "      <td>jeremy corbyn has drawn a deeper dividing line...</td>\n",
       "    </tr>\n",
       "    <tr>\n",
       "      <th>3</th>\n",
       "      <td>3.0</td>\n",
       "      <td>0.9982</td>\n",
       "      <td>greece, service, country, fund, xc, debt, eu, ...</td>\n",
       "      <td>european officials have agreed to unlock euro ...</td>\n",
       "    </tr>\n",
       "    <tr>\n",
       "      <th>4</th>\n",
       "      <td>4.0</td>\n",
       "      <td>0.9990</td>\n",
       "      <td>fund, people, need, government, xc, service, c...</td>\n",
       "      <td>as australia goes to the polls on july the gre...</td>\n",
       "    </tr>\n",
       "  </tbody>\n",
       "</table>\n",
       "</div>"
      ],
      "text/plain": [
       "   Topic_Num  Topic_Perc_Contrib  \\\n",
       "0        0.0              0.9954   \n",
       "1        1.0              0.9982   \n",
       "2        2.0              0.8421   \n",
       "3        3.0              0.9982   \n",
       "4        4.0              0.9990   \n",
       "\n",
       "                                            Keywords  \\\n",
       "0  company, service, investment, fund, uk, food, ...   \n",
       "1  professor, service, company, government, xc, u...   \n",
       "2  uk, business, new, people, xc, service, eu, co...   \n",
       "3  greece, service, country, fund, xc, debt, eu, ...   \n",
       "4  fund, people, need, government, xc, service, c...   \n",
       "\n",
       "                                                Text  \n",
       "0  a surge in chinese bank borrowing for environm...  \n",
       "1  on a recent thursday night at trendy west holl...  \n",
       "2  jeremy corbyn has drawn a deeper dividing line...  \n",
       "3  european officials have agreed to unlock euro ...  \n",
       "4  as australia goes to the polls on july the gre...  "
      ]
     },
     "execution_count": 29,
     "metadata": {},
     "output_type": "execute_result"
    }
   ],
   "source": [
    "# Group top 5 sentences under each topic\n",
    "sent_topics_sorteddf = pd.DataFrame()\n",
    "\n",
    "sent_topics_outdf_grpd = df_topic_sents_keywords.groupby('Dominant_Topic')\n",
    "\n",
    "for i, grp in sent_topics_outdf_grpd:\n",
    "    sent_topics_sorteddf = pd.concat([sent_topics_sorteddf, \n",
    "                                             grp.sort_values(['Perc_Contribution'], ascending=[0]).head(1)], \n",
    "                                            axis=0)\n",
    "\n",
    "# Reset Index    \n",
    "sent_topics_sorteddf.reset_index(drop=True, inplace=True)\n",
    "\n",
    "# Format\n",
    "sent_topics_sorteddf.columns = ['Topic_Num', \"Topic_Perc_Contrib\", \"Keywords\", \"Text\"]\n",
    "\n",
    "# Show\n",
    "sent_topics_sorteddf.head()"
   ]
  },
  {
   "cell_type": "code",
   "execution_count": 30,
   "metadata": {
    "ExecuteTime": {
     "end_time": "2020-07-08T06:26:56.437080Z",
     "start_time": "2020-07-08T06:26:56.375075Z"
    }
   },
   "outputs": [
    {
     "data": {
      "text/html": [
       "<div>\n",
       "<style scoped>\n",
       "    .dataframe tbody tr th:only-of-type {\n",
       "        vertical-align: middle;\n",
       "    }\n",
       "\n",
       "    .dataframe tbody tr th {\n",
       "        vertical-align: top;\n",
       "    }\n",
       "\n",
       "    .dataframe thead th {\n",
       "        text-align: right;\n",
       "    }\n",
       "</style>\n",
       "<table border=\"1\" class=\"dataframe\">\n",
       "  <thead>\n",
       "    <tr style=\"text-align: right;\">\n",
       "      <th></th>\n",
       "      <th>Dominant_Topic</th>\n",
       "      <th>Topic_Keywords</th>\n",
       "      <th>Num_Documents</th>\n",
       "      <th>Perc_Documents</th>\n",
       "    </tr>\n",
       "  </thead>\n",
       "  <tbody>\n",
       "    <tr>\n",
       "      <th>0.0</th>\n",
       "      <td>17.0</td>\n",
       "      <td>uk, world, people, business, eu, xc, fund, ser...</td>\n",
       "      <td>7.0</td>\n",
       "      <td>0.0199</td>\n",
       "    </tr>\n",
       "    <tr>\n",
       "      <th>1.0</th>\n",
       "      <td>17.0</td>\n",
       "      <td>uk, world, people, business, eu, xc, fund, ser...</td>\n",
       "      <td>26.0</td>\n",
       "      <td>0.0741</td>\n",
       "    </tr>\n",
       "    <tr>\n",
       "      <th>2.0</th>\n",
       "      <td>3.0</td>\n",
       "      <td>greece, service, country, fund, xc, debt, eu, ...</td>\n",
       "      <td>2.0</td>\n",
       "      <td>0.0057</td>\n",
       "    </tr>\n",
       "    <tr>\n",
       "      <th>3.0</th>\n",
       "      <td>17.0</td>\n",
       "      <td>uk, world, people, business, eu, xc, fund, ser...</td>\n",
       "      <td>31.0</td>\n",
       "      <td>0.0883</td>\n",
       "    </tr>\n",
       "    <tr>\n",
       "      <th>4.0</th>\n",
       "      <td>15.0</td>\n",
       "      <td>service, company, xc, uk, business, new, peopl...</td>\n",
       "      <td>25.0</td>\n",
       "      <td>0.0712</td>\n",
       "    </tr>\n",
       "    <tr>\n",
       "      <th>...</th>\n",
       "      <td>...</td>\n",
       "      <td>...</td>\n",
       "      <td>...</td>\n",
       "      <td>...</td>\n",
       "    </tr>\n",
       "    <tr>\n",
       "      <th>346.0</th>\n",
       "      <td>1.0</td>\n",
       "      <td>professor, service, company, government, xc, u...</td>\n",
       "      <td>NaN</td>\n",
       "      <td>NaN</td>\n",
       "    </tr>\n",
       "    <tr>\n",
       "      <th>347.0</th>\n",
       "      <td>8.0</td>\n",
       "      <td>service, work, uk, eu, company, energy, commun...</td>\n",
       "      <td>NaN</td>\n",
       "      <td>NaN</td>\n",
       "    </tr>\n",
       "    <tr>\n",
       "      <th>348.0</th>\n",
       "      <td>1.0</td>\n",
       "      <td>professor, service, company, government, xc, u...</td>\n",
       "      <td>NaN</td>\n",
       "      <td>NaN</td>\n",
       "    </tr>\n",
       "    <tr>\n",
       "      <th>349.0</th>\n",
       "      <td>4.0</td>\n",
       "      <td>fund, people, need, government, xc, service, c...</td>\n",
       "      <td>NaN</td>\n",
       "      <td>NaN</td>\n",
       "    </tr>\n",
       "    <tr>\n",
       "      <th>350.0</th>\n",
       "      <td>17.0</td>\n",
       "      <td>uk, world, people, business, eu, xc, fund, ser...</td>\n",
       "      <td>NaN</td>\n",
       "      <td>NaN</td>\n",
       "    </tr>\n",
       "  </tbody>\n",
       "</table>\n",
       "<p>351 rows × 4 columns</p>\n",
       "</div>"
      ],
      "text/plain": [
       "       Dominant_Topic                                     Topic_Keywords  \\\n",
       "0.0              17.0  uk, world, people, business, eu, xc, fund, ser...   \n",
       "1.0              17.0  uk, world, people, business, eu, xc, fund, ser...   \n",
       "2.0               3.0  greece, service, country, fund, xc, debt, eu, ...   \n",
       "3.0              17.0  uk, world, people, business, eu, xc, fund, ser...   \n",
       "4.0              15.0  service, company, xc, uk, business, new, peopl...   \n",
       "...               ...                                                ...   \n",
       "346.0             1.0  professor, service, company, government, xc, u...   \n",
       "347.0             8.0  service, work, uk, eu, company, energy, commun...   \n",
       "348.0             1.0  professor, service, company, government, xc, u...   \n",
       "349.0             4.0  fund, people, need, government, xc, service, c...   \n",
       "350.0            17.0  uk, world, people, business, eu, xc, fund, ser...   \n",
       "\n",
       "       Num_Documents  Perc_Documents  \n",
       "0.0              7.0          0.0199  \n",
       "1.0             26.0          0.0741  \n",
       "2.0              2.0          0.0057  \n",
       "3.0             31.0          0.0883  \n",
       "4.0             25.0          0.0712  \n",
       "...              ...             ...  \n",
       "346.0            NaN             NaN  \n",
       "347.0            NaN             NaN  \n",
       "348.0            NaN             NaN  \n",
       "349.0            NaN             NaN  \n",
       "350.0            NaN             NaN  \n",
       "\n",
       "[351 rows x 4 columns]"
      ]
     },
     "execution_count": 30,
     "metadata": {},
     "output_type": "execute_result"
    }
   ],
   "source": [
    "# Number of Documents for Each Topic\n",
    "topic_counts = df_topic_sents_keywords['Dominant_Topic'].value_counts()\n",
    "\n",
    "# Percentage of Documents for Each Topic\n",
    "topic_contribution = round(topic_counts/topic_counts.sum(), 4)\n",
    "\n",
    "# Topic Number and Keywords\n",
    "topic_num_keywords = df_topic_sents_keywords[['Dominant_Topic', 'Topic_Keywords']]\n",
    "\n",
    "# Concatenate Column wise\n",
    "df_dominant_topics = pd.concat([topic_num_keywords, topic_counts, topic_contribution], axis=1)\n",
    "\n",
    "# Change Column names\n",
    "df_dominant_topics.columns = ['Dominant_Topic', 'Topic_Keywords', 'Num_Documents', 'Perc_Documents']\n",
    "\n",
    "# Show\n",
    "df_dominant_topics"
   ]
  },
  {
   "cell_type": "code",
   "execution_count": 31,
   "metadata": {
    "ExecuteTime": {
     "end_time": "2020-07-08T06:27:17.340089Z",
     "start_time": "2020-07-08T06:26:56.440077Z"
    }
   },
   "outputs": [
    {
     "data": {
      "text/html": [
       "\n",
       "<link rel=\"stylesheet\" type=\"text/css\" href=\"https://cdn.rawgit.com/bmabey/pyLDAvis/files/ldavis.v1.0.0.css\">\n",
       "\n",
       "\n",
       "<div id=\"ldavis_el1833222884850217681187481547\"></div>\n",
       "<script type=\"text/javascript\">\n",
       "\n",
       "var ldavis_el1833222884850217681187481547_data = {\"mdsDat\": {\"x\": [-0.3027833361459019, -0.23672962630201144, -0.22023174246009045, -0.15380892721217365, -0.23048537655771228, -0.19635978382354263, -0.11244598326293097, -0.12984941007820872, 0.037818861583871696, 0.07086684797921154, 0.13342969605900698, 0.14859525012163374, 0.1395319418524406, 0.16073735371756093, 0.1583257057252241, 0.15603622092813665, 0.14806010469582823, 0.14318542623308855, 0.1430533684873866, 0.14305340845918324], \"y\": [0.06790389369838291, 0.0686476918016501, 0.01352391391820302, -0.3048339983261351, 0.11310778271777462, 0.13659808512102412, -0.3338221483244947, 0.06564471402284483, 0.03602792710124865, 0.06576239373395168, 0.007893799425647425, -0.011445526776056394, -0.01664856985250553, 0.010161347420453229, 0.012784298519332257, 0.013444481282521988, 0.013820908751574218, 0.013806000223289712, 0.013811550274862128, 0.013811455266430666], \"topics\": [1, 2, 3, 4, 5, 6, 7, 8, 9, 10, 11, 12, 13, 14, 15, 16, 17, 18, 19, 20], \"cluster\": [1, 1, 1, 1, 1, 1, 1, 1, 1, 1, 1, 1, 1, 1, 1, 1, 1, 1, 1, 1], \"Freq\": [39.59077453613281, 12.993638038635254, 8.144639015197754, 7.875443935394287, 7.505472660064697, 7.081557273864746, 6.51555061340332, 4.178554534912109, 1.537221908569336, 1.4001601934432983, 1.2464057207107544, 0.7876529097557068, 0.4645346999168396, 0.2882331311702728, 0.19427667558193207, 0.1403663009405136, 0.04482317715883255, 0.004592931363731623, 0.0030794059857726097, 0.003024433273822069]}, \"tinfo\": {\"Term\": [\"service\", \"eu\", \"community\", \"fund\", \"uk\", \"cent\", \"investment\", \"professor\", \"oil\", \"company\", \"health\", \"co\", \"child\", \"education\", \"university\", \"nhs\", \"energy\", \"growth\", \"group\", \"royal\", \"london\", \"debt\", \"leave\", \"bank\", \"city\", \"general\", \"pay\", \"xc\", \"investor\", \"be\", \"develope\", \"role\", \"goal\", \"case\", \"lawyer\", \"farmer\", \"understand\", \"non\", \"producer\", \"wide\", \"tech\", \"dividend\", \"steel\", \"develop\", \"responsibility\", \"remittance\", \"seek\", \"equity\", \"corporate\", \"successful\", \"identify\", \"influence\", \"responsible\", \"saving\", \"forward\", \"regulatory\", \"answer\", \"additional\", \"context\", \"prevent\", \"promise\", \"income\", \"engage\", \"legal\", \"enable\", \"sustainable\", \"deliver\", \"private\", \"challenge\", \"join\", \"work\", \"relate\", \"development\", \"access\", \"improve\", \"partner\", \"business\", \"ensure\", \"organisation\", \"issue\", \"global\", \"help\", \"way\", \"company\", \"need\", \"change\", \"cost\", \"sector\", \"impact\", \"well\", \"government\", \"think\", \"year\", \"new\", \"social\", \"world\", \"fund\", \"group\", \"support\", \"market\", \"industry\", \"sustainability\", \"high\", \"right\", \"people\", \"country\", \"uk\", \"solar\", \"renewable\", \"emission\", \"electricity\", \"building\", \"barcelona\", \"greenhouse\", \"install\", \"tourist\", \"grid\", \"trip\", \"wind\", \"friendly\", \"ticket\", \"installation\", \"trump\", \"earth\", \"distribution\", \"guest\", \"neighbour\", \"famous\", \"litre\", \"rainforest\", \"architect\", \"convert\", \"raft\", \"analyse\", \"concrete\", \"utility\", \"swedish\", \"beach\", \"renewable_energy\", \"urban\", \"resident\", \"room\", \"city\", \"energy\", \"visitor\", \"sponsor\", \"plant\", \"water\", \"airport\", \"power\", \"nature\", \"carbon\", \"variety\", \"hotel\", \"green\", \"park\", \"ride\", \"light\", \"site\", \"museum\", \"car\", \"italian\", \"build\", \"clean\", \"project\", \"estate\", \"xc\", \"transport\", \"home\", \"new\", \"world\", \"use\", \"gas\", \"like\", \"day\", \"be\", \"house\", \"local\", \"come\", \"centre\", \"find\", \"eu\", \"vine\", \"voter\", \"cameron\", \"foster\", \"integration\", \"louise\", \"baby\", \"johnson\", \"bloc\", \"meat\", \"cooperation\", \"remind\", \"tory\", \"mother\", \"outcome\", \"clark\", \"murphy\", \"eliminate\", \"trader\", \"prominent\", \"geneva\", \"phase\", \"facebook\", \"corbyn\", \"mill\", \"osborne\", \"ruth\", \"tail\", \"separate\", \"freedom\", \"referendum\", \"brexit\", \"mps\", \"britain\", \"party\", \"poll\", \"vote\", \"union\", \"leave\", \"argument\", \"europe\", \"trade\", \"labour\", \"european\", \"membership\", \"uk\", \"undermine\", \"campaign\", \"democratic\", \"stay\", \"political\", \"british\", \"brussels\", \"single\", \"remain\", \"country\", \"minister\", \"national\", \"strong\", \"economic\", \"public\", \"week\", \"house\", \"people\", \"policy\", \"government\", \"northern_ireland\", \"charitable\", \"kent\", \"trustee\", \"academy\", \"deputy\", \"disability\", \"jane\", \"surrey\", \"isle\", \"carer\", \"regiment\", \"standardise\", \"southern\", \"mary\", \"sussex\", \"spy\", \"empire\", \"navy\", \"mental\", \"cdr\", \"apprenticeship\", \"kenneth\", \"lean\", \"guard\", \"alexander\", \"prison\", \"educational\", \"police\", \"henry\", \"child\", \"william\", \"girl\", \"royal\", \"education\", \"school\", \"chair\", \"community\", \"charity\", \"volunteer\", \"parent\", \"scottish\", \"defence\", \"adult\", \"sport\", \"wale\", \"young\", \"service\", \"woman\", \"scotland\", \"founder\", \"family\", \"london\", \"fire\", \"west\", \"director\", \"council\", \"officer\", \"people\", \"art\", \"co\", \"international\", \"uk\", \"british\", \"support\", \"refugee\", \"retailer\", \"fruit\", \"stevens\", \"supermarket\", \"bt\", \"mark\", \"coalition\", \"newspaper\", \"collect\", \"miner\", \"globally\", \"tradition\", \"telecommunication\", \"evolve\", \"edible\", \"kenya\", \"donate\", \"redistribute\", \"anticipate\", \"decent\", \"san\", \"procurement\", \"wednesday\", \"premier\", \"reset\", \"hail\", \"inevitable\", \"schedule\", \"wrap\", \"humanitarian\", \"agent\", \"distribute\", \"food\", \"waste\", \"barrier\", \"tonne\", \"sale\", \"invest\", \"profit\", \"australia\", \"customer\", \"be\", \"revenue\", \"fee\", \"price\", \"investor\", \"investment\", \"report\", \"xc\", \"company\", \"quality\", \"bn\", \"impact\", \"small\", \"sell\", \"great\", \"product\", \"money\", \"business\", \"plan\", \"market\", \"cent\", \"greece\", \"eurozone\", \"imf\", \"greek\", \"fiscal\", \"debt_relief\", \"monetary\", \"creditor\", \"bailout\", \"px_html_embed_component\", \"quote_component\", \"ecb\", \"athens\", \"treaty\", \"html_embed\", \"component_quote\", \"lend\", \"min\", \"repayment\", \"eurogroup\", \"debt\", \"string\", \"pad\", \"pc\", \"adjustment\", \"journal\", \"banker\", \"unconditional\", \"maturity\", \"margin_leave\", \"default\", \"eur\", \"gdp\", \"policymaker\", \"italy\", \"quote\", \"bank\", \"bond\", \"rate\", \"loan\", \"euro\", \"reform\", \"component\", \"germany\", \"growth\", \"finance\", \"cent\", \"crisis\", \"fund\", \"px\", \"interest\", \"target\", \"minister\", \"deal\", \"country\", \"government\", \"tax\", \"european\", \"bn\", \"market\", \"thomas\", \"nhs\", \"anne\", \"medical\", \"principal\", \"professor\", \"charles\", \"army\", \"matthew\", \"timothy\", \"nicholas\", \"nigel\", \"walker\", \"magazine\", \"libya\", \"inter\", \"clinical\", \"swim\", \"col\", \"somerset\", \"philip\", \"dame\", \"nursery\", \"claire\", \"custom\", \"miller\", \"caroline\", \"dance\", \"wilson\", \"bermuda\", \"stuart\", \"ian\", \"cricket\", \"patient\", \"john\", \"care\", \"edward\", \"rescue\", \"hospital\", \"martin\", \"service\", \"richard\", \"david\", \"james\", \"andrew\", \"michael\", \"chief_executive\", \"health\", \"yorkshire\", \"senior\", \"vice\", \"general\", \"england\", \"stephen\", \"officer\", \"peter\", \"trust\", \"university\", \"director\", \"team\", \"research\", \"office\", \"chief\", \"community\", \"social\", \"secretary\", \"luxury\", \"chip\", \"palm\", \"colour\", \"wear\", \"merger\", \"menu\", \"label\", \"swiss\", \"fabric\", \"aig\", \"millennials\", \"exclusive\", \"thursday\", \"abbey\", \"weren\", \"straight\", \"garment\", \"iona\", \"initially\", \"tropical\", \"carpet\", \"tension\", \"donation\", \"steam\", \"boutique\", \"jewellery\", \"dress\", \"contemporary\", \"maintenance\", \"ring\", \"restaurant\", \"metal\", \"beauty\", \"brand\", \"fashion\", \"friend\", \"furniture\", \"piece\", \"designer\", \"diamond\", \"found\", \"love\", \"collection\", \"island\", \"feel\", \"didn\", \"design\", \"consumer\", \"good\", \"store\", \"material\", \"burn\", \"thing\", \"xc_xa\", \"want\", \"art\", \"people\", \"create\", \"like\", \"start\", \"experience\", \"come\", \"work\", \"company\", \"grow\", \"spend\", \"know\", \"labor\", \"divest\", \"coral\", \"illegal\", \"bleach\", \"opponent\", \"marry\", \"isa\", \"migrant\", \"exxon\", \"seaweed\", \"intense\", \"viability\", \"virginia\", \"dare\", \"fisherman\", \"exploitation\", \"volatility\", \"quota\", \"revolt\", \"bonus\", \"paddy\", \"isas\", \"insurer\", \"daughter\", \"termism\", \"rebel\", \"vanguard\", \"appall\", \"betfair\", \"politic\", \"fish\", \"remuneration\", \"ftse\", \"student\", \"cosmetic\", \"marine\", \"cambridge\", \"basic\", \"fossil\", \"holding\", \"investment\", \"climate_change\", \"university\", \"insurance\", \"shareholder\", \"hunt\", \"fuel\", \"investor\", \"fund\", \"asset\", \"coal\", \"stock\", \"pay\", \"risk\", \"group\", \"institution\", \"management\", \"report\", \"vote\", \"carbon\", \"robert\", \"argentina\", \"slowdown\", \"broadly\", \"japanese\", \"barrel\", \"denial\", \"deflation\", \"inflation\", \"ratio\", \"stimulus\", \"hathaway\", \"consolidation\", \"fearful\", \"payout\", \"flash\", \"accumulation\", \"continental\", \"gen\", \"potent\", \"paulo\", \"quarterly\", \"virus\", \"dependency\", \"puerto\", \"brig\", \"jackie\", \"coke\", \"distress\", \"coincide\", \"buffett\", \"gradual\", \"oil\", \"japan\", \"gulf\", \"bless\", \"eastern\", \"cent\", \"quarter\", \"bp\", \"wake\", \"berkshire\", \"shareholder\", \"medicine\", \"suppose\", \"stock\", \"rise\", \"investor\", \"economist\", \"growth\", \"uncertainty\", \"economy\", \"bond\", \"sovereign\", \"job\", \"yield\", \"market\", \"cut\", \"decline\", \"font\", \"austin_news_deck_web\", \"uk_asset_font\", \"url_http_eip_telegraph\", \"format\", \"woff\", \"italic\", \"tg\", \"eot\", \"svg\", \"src\", \"defender\", \"austin_news\", \"truetype\", \"opentype\", \"ttf\", \"img\", \"color\", \"tmg\", \"text\", \"indigenous\", \"coutts\", \"minor\", \"rover\", \"attribution\", \"vuitton\", \"composition\", \"georgia\", \"senegal\", \"arial\", \"inline\", \"weight\", \"cup\", \"fat\", \"px\", \"deck\", \"medium\", \"margin\", \"co\", \"normal\", \"float\", \"width\", \"family\", \"style\", \"size\", \"america\", \"face\", \"reverend\", \"biogas\", \"cox\", \"borough\", \"taxi\", \"operative\", \"tesla\", \"ward\", \"alison\", \"metropolitan\", \"battery\", \"sewage\", \"uber\", \"counterpart\", \"commander\", \"visual\", \"ltd\", \"archaeology\", \"hybrid\", \"trent\", \"kevin\", \"anna\", \"hydrogen\", \"shire\", \"thermal\", \"kiss\", \"richmond\", \"reid\", \"ash\", \"ethnic\", \"diesel\", \"veteran\", \"jean\", \"glasgow\", \"motor\", \"electric\", \"fleet\", \"christine\", \"car\", \"vehicle\", \"adviser\", \"practitioner\", \"engine\", \"green\", \"widen\", \"scheme\", \"highness\", \"majesty\", \"clarence\", \"ec\", \"hubbert\", \"wessex\", \"earl\", \"sw\", \"colonel\", \"afternoon\", \"excellency\", \"buckingham\", \"palace\", \"attendance\", \"wc\", \"prince\", \"kensington\", \"inman\", \"countess\", \"duchess\", \"duke\", \"princess\", \"troughton\", \"even\", \"hon\", \"rt\", \"mrs\", \"patron\", \"grayling\", \"attend\", \"morning\", \"th\", \"lord\", \"dinner\", \"receive\", \"mp\", \"wale\", \"hold\", \"queen\", \"june\", \"london\", \"royal\", \"st\", \"meet\", \"represent\", \"james\", \"late\", \"house\", \"bee\", \"frances\", \"impress\", \"mccgwire\", \"soviet\", \"passport\", \"insect\", \"hancock\", \"offend\", \"artillery\", \"rsa\", \"eir\", \"hudson\", \"cocktail\", \"le\", \"irish\", \"brutal\", \"belgium\", \"thatcher\", \"dp\", \"underway\", \"yorke\", \"recruiter\", \"bricklayer\", \"rec\", \"warwick\", \"moscow\", \"dirk\", \"conceive\", \"neoliberal\", \"cold\", \"homeless\", \"son\", \"immigration\", \"ireland\", \"lion\", \"temporary\", \"recruitment\", \"xcb\", \"recruit\", \"ally\", \"xb\", \"banana\", \"organic\", \"paulson\", \"louis\", \"expedition\", \"subprime\", \"revelation\", \"exhaust\", \"cheer\", \"forever\", \"barely\", \"lipton\", \"suck\", \"straightforward\", \"rampant\", \"worthy\", \"republicans\", \"fame\", \"elaborate\", \"mandarin\", \"acutely\", \"inherently\", \"biosynthetic\", \"powys\", \"bash\", \"vet\", \"daunt\", \"desirability\", \"virtually\", \"fret\", \"shopper\", \"gillian\", \"shouldn\", \"getty\", \"chinese\", \"origin\", \"treasury\", \"fashion\", \"harvest\", \"burr\", \"assemble\", \"judgment\", \"scent\", \"fragrance\", \"potency\", \"vanilla\", \"dust\", \"bag\", \"uncertain\", \"herb\", \"synthetic\", \"domestically\", \"spencer\", \"boe\", \"ylang\", \"perfumer\", \"wyke\", \"perfume\", \"lb\", \"spice\", \"hut\", \"etc\", \"madagascar\", \"gram\", \"vertical\", \"torsten\", \"givaudan\", \"flavor\", \"recreate\", \"iff\", \"kg\", \"organic\", \"flower\", \"jungle\", \"artificial\", \"sweep\", \"raw\", \"fca\", \"blend\", \"siemens\", \"mba\", \"disparity\", \"dealmakers\", \"dresser\", \"misuse\", \"intern\", \"sanity\", \"mantra\", \"hec\", \"schneider\", \"internship\", \"overconfidence\", \"atypical\", \"ageless\", \"wreckage\", \"kelleher\", \"filing\", \"reinvention\", \"etc\", \"motion\", \"plunge\", \"torres\", \"wine\", \"gray\", \"grape\", \"kelly\", \"varietal\", \"miguel\", \"taste\", \"tone\", \"incorporate\", \"lunchtime\", \"dc\", \"klein\", \"insufficiently\", \"plaque\", \"fo\", \"hardship\", \"carthage\", \"algeria\", \"nabil\", \"checkpoint\", \"monastir\", \"unfortunate\", \"untrusted\", \"toxin\", \"pickering\", \"poison\", \"cpi\", \"indexation\", \"shortcut\", \"mcwilliam\", \"landowner\", \"lakeside\", \"icf\", \"rpi\", \"terrestrial\", \"spouse\", \"yoo\", \"starck\", \"duo\", \"spillage\", \"cotswold\", \"burlington\", \"belgravia\", \"nikki\", \"sweepstake\", \"front\", \"tram\", \"viver\", \"foreigner\", \"retort\", \"fairy\", \"jealous\", \"girlfriend\", \"silverlake\", \"sorghum\", \"tragically\", \"nile\", \"bestow\", \"knell\", \"hypocrisy\", \"wildflower\", \"being\", \"wimpey\", \"underpinning\", \"waterfront\", \"gravely\", \"prefabricate\", \"rio\", \"impend\", \"grandchild\", \"bookmaker\", \"mg\", \"publicity\", \"nec\", \"achim\", \"pontypridd\", \"londoners\", \"zip\", \"beneficiary\", \"gratitude\", \"helens\", \"esf\", \"philippe\", \"ast\", \"regeneration\", \"polystyrene\", \"birmingham\", \"tunisia\", \"terrorist\", \"xc\", \"greece\", \"terrorism\", \"tunisian\", \"uk\", \"debt\", \"travel\", \"fund\", \"euro\", \"country\", \"low\", \"be\", \"agree\", \"pc\", \"eu\", \"economy\", \"programme\", \"recession\", \"people\", \"cent\", \"remain\", \"pay\", \"imf\", \"british\", \"company\", \"bn\", \"eurozone\", \"terrestrial\", \"notorious\", \"loudly\", \"inefficiency\", \"mot\", \"pickering\", \"poison\", \"being\", \"seismic\", \"toxin\", \"manifest\", \"berry\", \"chew\", \"coalface\", \"competent\", \"federation\", \"fiesta\", \"insane\", \"iteration\", \"hypocrisy\", \"enquire\", \"knell\", \"pressley\", \"shortcut\", \"gravely\", \"devalue\", \"unsuccessful\", \"devotion\", \"fracked\", \"frackers\", \"stream\", \"city\", \"government\", \"uk\", \"new\", \"business\", \"small\", \"xc\", \"company\", \"people\", \"mayor\", \"world\", \"like\", \"child\", \"well\", \"cent\", \"work\", \"project\", \"public\", \"year\", \"co\", \"have\", \"find\", \"win\", \"build\", \"font\", \"history\", \"large\", \"austin_news_deck_web\", \"park\", \"soros\", \"nile\", \"agnostic\", \"poison\", \"tragically\", \"xcf\", \"spillage\", \"wimpey\", \"sorghum\", \"redemptions\", \"philanthropist\", \"pam\", \"nonprofit\", \"inequity\", \"frontload\", \"panther\", \"agility\", \"forebear\", \"comparative\", \"agra\", \"buoy\", \"audacity\", \"untrusted\", \"spouse\", \"rpi\", \"indexation\", \"seismic\", \"cpi\", \"pickering\", \"toxin\", \"cent\", \"company\", \"pay\", \"power\", \"university\", \"austin_news_deck_web\", \"car\", \"uk_asset_font\", \"energy\", \"px\", \"new\", \"uk\", \"government\", \"people\", \"country\", \"medium\", \"work\", \"co\", \"industry\", \"xc\", \"year\", \"increase\", \"need\", \"high\", \"technology\", \"insurance\", \"quote\", \"report\", \"go\", \"think\"], \"Freq\": [2037.0, 468.0, 651.0, 544.0, 724.0, 355.0, 352.0, 327.0, 186.0, 686.0, 355.0, 241.0, 282.0, 330.0, 232.0, 214.0, 394.0, 249.0, 422.0, 178.0, 210.0, 221.0, 281.0, 266.0, 366.0, 276.0, 255.0, 584.0, 199.0, 377.0, 145.6287841796875, 144.42515563964844, 116.7679443359375, 109.31069946289062, 87.68021392822266, 83.56668853759766, 77.21854400634766, 69.26126098632812, 64.13087463378906, 64.10479736328125, 61.11513137817383, 60.88127136230469, 59.42131805419922, 57.63212966918945, 56.22130584716797, 54.45243835449219, 55.197139739990234, 53.34027862548828, 50.24353790283203, 54.029212951660156, 48.329898834228516, 45.515586853027344, 59.156822204589844, 43.1676025390625, 41.41204071044922, 40.35517501831055, 39.0647087097168, 37.81122970581055, 36.612998962402344, 50.68004608154297, 90.120849609375, 120.2529067993164, 68.96546936035156, 158.91900634765625, 60.30225372314453, 296.4820861816406, 126.40986633300781, 124.4787368774414, 146.12139892578125, 77.84759521484375, 518.7408447265625, 190.68106079101562, 328.9125671386719, 102.49287414550781, 158.0549774169922, 118.64053344726562, 532.085205078125, 100.50946044921875, 107.03877258300781, 161.4168243408203, 236.8055877685547, 245.8816680908203, 247.0822296142578, 488.479736328125, 375.2716369628906, 230.0747528076172, 200.29302978515625, 229.33447265625, 242.00009155273438, 243.57894897460938, 343.7337646484375, 211.05093383789062, 287.68231201171875, 347.9866638183594, 206.071044921875, 299.2537536621094, 313.2865905761719, 256.52935791015625, 199.18661499023438, 245.78773498535156, 211.8507537841797, 222.74232482910156, 209.99777221679688, 195.892333984375, 268.88067626953125, 236.8147735595703, 219.3568878173828, 128.8604278564453, 79.37321472167969, 135.07989501953125, 85.14911651611328, 61.70140075683594, 43.72346115112305, 38.133602142333984, 37.684974670410156, 35.918758392333984, 34.39474105834961, 28.92607879638672, 93.1771240234375, 26.411773681640625, 28.300600051879883, 24.435392379760742, 27.104948043823242, 22.56092643737793, 22.440208435058594, 21.680448532104492, 21.593034744262695, 21.463520050048828, 21.397186279296875, 22.6121826171875, 20.226533889770508, 20.185394287109375, 20.04935073852539, 19.76378631591797, 19.643779754638672, 19.253705978393555, 17.809341430664062, 59.704933166503906, 71.12254333496094, 72.25824737548828, 31.703460693359375, 52.3316764831543, 315.4744567871094, 337.34173583984375, 34.16646194458008, 36.77016830444336, 105.08775329589844, 204.65736389160156, 28.671661376953125, 200.07093811035156, 40.67100143432617, 97.00955963134766, 61.271453857421875, 67.19798278808594, 165.64044189453125, 65.98593139648438, 41.25709915161133, 52.88286209106445, 53.661495208740234, 46.617069244384766, 79.20915222167969, 56.71134567260742, 130.8509063720703, 61.882713317871094, 148.1458282470703, 62.689125061035156, 213.96827697753906, 69.5716781616211, 97.53736114501953, 155.04725646972656, 137.00958251953125, 90.71429443359375, 69.3263931274414, 95.65686798095703, 83.63072204589844, 97.47340393066406, 86.44591522216797, 88.96849060058594, 86.45561218261719, 72.41568756103516, 73.72863006591797, 463.28863525390625, 44.770626068115234, 38.41536331176758, 32.40896224975586, 29.58135986328125, 26.972782135009766, 22.381166458129883, 20.556251525878906, 18.813987731933594, 17.620620727539062, 17.251739501953125, 17.83957862854004, 16.418468475341797, 15.665970802307129, 15.684518814086914, 21.278953552246094, 14.537843704223633, 14.526876449584961, 15.145721435546875, 12.811716079711914, 12.720468521118164, 12.064336776733398, 11.761378288269043, 11.595659255981445, 11.134469985961914, 10.873189926147461, 19.101940155029297, 10.157188415527344, 10.148456573486328, 9.930916786193848, 29.33306121826172, 92.04529571533203, 192.73870849609375, 25.480430603027344, 151.88511657714844, 128.41348266601562, 34.65387725830078, 166.2838897705078, 87.76451110839844, 211.3444366455078, 39.861351013183594, 157.19815063476562, 117.76034545898438, 57.961944580078125, 186.81805419921875, 37.922447204589844, 395.26885986328125, 31.37071990966797, 85.5267562866211, 27.470375061035156, 47.96686935424805, 94.22928619384766, 101.26509857177734, 38.60251998901367, 53.54603958129883, 71.1968994140625, 118.5071792602539, 59.63363265991211, 80.61929321289062, 49.18195724487305, 58.22210693359375, 63.71158218383789, 49.906761169433594, 52.95703125, 60.98759460449219, 49.42153549194336, 46.37125778198242, 108.02407836914062, 74.37345123291016, 40.061946868896484, 34.1621208190918, 31.141756057739258, 50.83767318725586, 61.94325637817383, 40.8465690612793, 25.250398635864258, 24.563549041748047, 22.01775550842285, 18.905656814575195, 18.268077850341797, 18.03165626525879, 39.84312057495117, 17.50089454650879, 17.258333206176758, 17.258193969726562, 17.49167251586914, 45.540626525878906, 16.426467895507812, 16.224260330200195, 16.648494720458984, 15.538259506225586, 14.991509437561035, 15.786222457885742, 14.362732887268066, 14.250664710998535, 120.39727783203125, 13.99113941192627, 265.9109802246094, 58.01385498046875, 36.563358306884766, 163.1997833251953, 269.16796875, 183.22621154785156, 112.92671203613281, 457.7922058105469, 103.67771911621094, 56.18315505981445, 29.8858699798584, 42.69187545776367, 48.58376693725586, 32.27195739746094, 59.31298065185547, 73.07079315185547, 130.16647338867188, 706.9777221679688, 108.64590454101562, 62.49048614501953, 106.52059173583984, 111.77040100097656, 105.78804016113281, 62.87763595581055, 67.85960388183594, 120.05753326416016, 88.708251953125, 84.88102722167969, 138.19480895996094, 61.35445785522461, 73.16621398925781, 75.21353912353516, 79.967041015625, 63.72111892700195, 64.75450134277344, 64.23308563232422, 38.22505569458008, 36.266273498535156, 33.43862533569336, 31.735759735107422, 31.360578536987305, 29.032485961914062, 40.87982177734375, 22.771461486816406, 24.50946807861328, 20.800586700439453, 19.16204833984375, 18.359905242919922, 17.409883499145508, 16.79225730895996, 15.704307556152344, 15.182251930236816, 15.00433349609375, 14.585975646972656, 14.390318870544434, 13.626657485961914, 15.205277442932129, 13.54980182647705, 13.541460990905762, 13.340691566467285, 13.11506175994873, 12.823535919189453, 12.693647384643555, 12.620052337646484, 12.258594512939453, 49.39365768432617, 25.791790008544922, 18.132596969604492, 176.2888946533203, 112.2352523803711, 53.58283996582031, 32.6069221496582, 68.34687042236328, 123.93637084960938, 63.433692932128906, 47.57816696166992, 61.87504196166992, 157.74903869628906, 50.74024963378906, 32.86373519897461, 93.184326171875, 77.72296142578125, 107.9056396484375, 77.87886810302734, 136.9604034423828, 133.53245544433594, 51.255699157714844, 73.53150177001953, 68.90192413330078, 54.95189666748047, 48.4716911315918, 53.44694900512695, 49.66482162475586, 50.350162506103516, 66.79618835449219, 53.08126449584961, 55.29970169067383, 47.854209899902344, 179.7529296875, 179.20095825195312, 143.95208740234375, 87.1998519897461, 76.9900894165039, 64.18168640136719, 61.777679443359375, 56.09758758544922, 49.89064407348633, 50.474674224853516, 50.47441482543945, 49.20005416870117, 34.314674377441406, 34.06342315673828, 33.66895294189453, 33.66891860961914, 29.447071075439453, 34.097164154052734, 19.96800994873047, 18.686689376831055, 213.9132080078125, 17.333250045776367, 17.434412002563477, 94.48643493652344, 16.705127716064453, 13.489828109741211, 13.299651145935059, 13.289363861083984, 13.155967712402344, 66.41307830810547, 31.84779930114746, 30.94709014892578, 73.01946258544922, 37.57862091064453, 61.748809814453125, 49.40427780151367, 179.83460998535156, 75.4256362915039, 135.9481658935547, 60.93543243408203, 113.20628356933594, 81.71077728271484, 51.539302825927734, 61.40779495239258, 111.05339050292969, 84.05025482177734, 122.399169921875, 69.39225769042969, 122.14984130859375, 62.98696517944336, 76.66001892089844, 64.70460510253906, 64.50736236572266, 69.00581359863281, 87.64415740966797, 80.54571533203125, 65.0985336303711, 68.53564453125, 68.2725601196289, 65.28316497802734, 54.69792175292969, 211.13856506347656, 45.39677047729492, 41.20468521118164, 39.7045783996582, 321.7955627441406, 38.971805572509766, 31.792695999145508, 28.611242294311523, 27.836660385131836, 26.59134864807129, 25.99753761291504, 22.050907135009766, 20.249210357666016, 19.332378387451172, 19.107837677001953, 18.971113204956055, 18.597063064575195, 18.517932891845703, 16.97610092163086, 32.638912200927734, 14.340527534484863, 14.277604103088379, 14.182062149047852, 13.760160446166992, 13.738967895507812, 13.12593936920166, 11.720111846923828, 11.58651065826416, 11.38137435913086, 21.365825653076172, 41.63439178466797, 24.947952270507812, 42.41410446166992, 191.10073852539062, 167.72804260253906, 31.06149673461914, 62.755393981933594, 57.382354736328125, 45.57552719116211, 1297.875244140625, 49.45367431640625, 129.80165100097656, 69.0909423828125, 43.052093505859375, 61.49067306518555, 154.74993896484375, 198.912353515625, 42.01652526855469, 75.49656677246094, 60.63596725463867, 124.6268081665039, 70.11360931396484, 40.50489044189453, 88.27457427978516, 50.656219482421875, 74.01958465576172, 78.4626693725586, 84.93399047851562, 68.39186096191406, 64.71224975585938, 54.69084548950195, 55.85645294189453, 55.78364944458008, 49.80934143066406, 47.813785552978516, 43.610713958740234, 30.07568359375, 43.42239761352539, 22.812057495117188, 22.280139923095703, 22.077816009521484, 21.157052993774414, 20.08350944519043, 16.774253845214844, 16.60808753967285, 16.536996841430664, 16.192182540893555, 15.23383617401123, 14.49940299987793, 13.263547897338867, 13.120548248291016, 12.077951431274414, 12.03000259399414, 11.81909465789795, 11.551276206970215, 11.368772506713867, 11.228850364685059, 11.12909984588623, 10.967195510864258, 10.230342864990234, 10.141068458557129, 10.073250770568848, 10.049824714660645, 10.033385276794434, 9.93623161315918, 17.02700424194336, 41.54121780395508, 12.774578094482422, 31.290435791015625, 74.6285400390625, 31.460542678833008, 26.93006134033203, 34.92182540893555, 29.670578002929688, 26.963932037353516, 16.901329040527344, 24.094852447509766, 30.99284553527832, 22.784618377685547, 38.53717803955078, 51.85356903076172, 30.978971481323242, 53.275577545166016, 51.844642639160156, 67.51500701904297, 36.09706115722656, 35.039310455322266, 27.478302001953125, 48.302650451660156, 30.759275436401367, 44.26973342895508, 35.04820251464844, 54.34218215942383, 39.09671401977539, 42.67229461669922, 37.510074615478516, 32.689666748046875, 37.935150146484375, 38.46833801269531, 37.61702346801758, 31.990432739257812, 31.788814544677734, 31.52305030822754, 25.37299919128418, 18.804662704467773, 15.333409309387207, 13.317863464355469, 10.78339958190918, 10.62339973449707, 9.819750785827637, 9.427175521850586, 55.65455627441406, 7.367280960083008, 7.302038192749023, 6.279605865478516, 6.267163276672363, 5.647375106811523, 5.491828918457031, 5.481585502624512, 5.288212299346924, 5.0684943199157715, 11.17397689819336, 4.750247001647949, 4.520670413970947, 4.4751811027526855, 3.8645741939544678, 3.460296154022217, 3.3449339866638184, 3.219942092895508, 3.2178521156311035, 3.1908318996429443, 3.179471015930176, 3.145411491394043, 16.802648544311523, 50.9734001159668, 12.031073570251465, 22.413402557373047, 38.5350456237793, 7.709666728973389, 23.053298950195312, 17.606191635131836, 22.93419075012207, 24.636022567749023, 14.324840545654297, 69.79141235351562, 34.64030075073242, 51.391395568847656, 13.356358528137207, 20.090593338012695, 18.019916534423828, 26.930728912353516, 36.618553161621094, 58.509456634521484, 24.747278213500977, 19.066316604614258, 20.713245391845703, 25.513595581054688, 22.71579933166504, 22.244028091430664, 14.952760696411133, 16.18060874938965, 18.18375015258789, 16.90576934814453, 15.271299362182617, 35.54087448120117, 14.05866813659668, 10.699880599975586, 9.38110065460205, 8.672161102294922, 7.5873236656188965, 7.306358814239502, 7.136833667755127, 29.802541732788086, 6.6009087562561035, 11.901102066040039, 6.2153096199035645, 6.103604793548584, 5.729717254638672, 5.360143661499023, 5.331203937530518, 5.231172561645508, 5.122546672821045, 4.985450744628906, 4.891511917114258, 4.804775238037109, 4.689138412475586, 4.597616195678711, 4.332981109619141, 4.311913967132568, 4.16542911529541, 4.10572624206543, 3.9202983379364014, 3.732334852218628, 3.6968765258789062, 15.261656761169434, 6.660828113555908, 114.14634704589844, 25.549488067626953, 7.942371368408203, 9.744267463684082, 9.615368843078613, 111.83470153808594, 26.142181396484375, 8.34444522857666, 10.322919845581055, 8.782742500305176, 20.310495376586914, 11.595161437988281, 9.199474334716797, 26.75482940673828, 26.160322189331055, 26.516124725341797, 11.638236999511719, 28.091407775878906, 9.709628105163574, 15.638174057006836, 12.150899887084961, 9.776354789733887, 11.940451622009277, 10.145798683166504, 11.862972259521484, 10.429426193237305, 9.292619705200195, 72.94385528564453, 63.83284378051758, 54.72185134887695, 54.72185134887695, 47.88695526123047, 36.49983215332031, 36.49982833862305, 32.51377487182617, 18.277814865112305, 18.277814865112305, 18.277814865112305, 14.419647216796875, 13.722308158874512, 9.16679859161377, 9.16679573059082, 9.166797637939453, 8.597402572631836, 6.889037609100342, 6.319610118865967, 5.668825626373291, 22.37206268310547, 5.1797590255737305, 4.00847864151001, 3.670822858810425, 3.3967339992523193, 4.003549575805664, 2.9402761459350586, 2.8802967071533203, 2.8751583099365234, 2.3334579467773438, 2.3334574699401855, 16.012788772583008, 14.988309860229492, 16.9927978515625, 50.956119537353516, 13.627137184143066, 41.06438064575195, 19.756669998168945, 53.410892486572266, 15.98273754119873, 10.701041221618652, 11.938462257385254, 18.642335891723633, 11.734920501708984, 11.766416549682617, 10.759613037109375, 10.431856155395508, 14.846900939941406, 13.822304725646973, 12.723519325256348, 12.227886199951172, 11.899521827697754, 10.150341987609863, 9.645339012145996, 9.494163513183594, 9.313437461853027, 8.384788513183594, 20.195802688598633, 5.876008033752441, 5.730095863342285, 5.511098384857178, 5.238316535949707, 5.003110885620117, 12.853861808776855, 4.670960426330566, 4.456420421600342, 4.438683032989502, 9.239034652709961, 3.92816424369812, 3.893815755844116, 3.8416950702667236, 3.7621593475341797, 3.6748099327087402, 3.4288039207458496, 3.429250478744507, 3.3598015308380127, 3.332709789276123, 8.70418930053711, 7.363367080688477, 18.888479232788086, 8.168449401855469, 8.041499137878418, 21.778972625732422, 9.380621910095215, 7.999414443969727, 28.47187614440918, 15.874839782714844, 10.880730628967285, 5.911155700683594, 5.870132923126221, 10.086246490478516, 5.772726058959961, 5.75297737121582, 9.58533763885498, 6.194647312164307, 3.161360502243042, 3.1356334686279297, 2.8535821437835693, 2.8039448261260986, 2.778233051300049, 2.6279993057250977, 2.5211799144744873, 10.030593872070312, 2.212679624557495, 8.5841703414917, 14.954200744628906, 1.4118984937667847, 1.3900597095489502, 14.251598358154297, 2.325848340988159, 1.1566966772079468, 1.133055329322815, 3.061155080795288, 11.574434280395508, 2.731997013092041, 0.8502553701400757, 6.269628524780273, 6.194614887237549, 5.6554484367370605, 3.8109710216522217, 4.825009822845459, 1.6601749658584595, 11.304908752441406, 8.35938549041748, 11.286820411682129, 6.402624607086182, 4.078851699829102, 10.660706520080566, 5.2856879234313965, 9.761370658874512, 9.991561889648438, 5.755509853363037, 7.62033748626709, 10.633767127990723, 8.155733108520508, 5.9069132804870605, 6.476436614990234, 4.4764084815979, 4.027994632720947, 3.878830909729004, 3.887831449508667, 6.950052261352539, 5.220280170440674, 4.439605236053467, 4.388783931732178, 3.114936113357544, 2.7758524417877197, 2.5740442276000977, 2.3132472038269043, 2.173572301864624, 1.887847900390625, 1.7976125478744507, 1.768283724784851, 1.723096489906311, 1.6501182317733765, 2.861574649810791, 9.098909378051758, 1.4087400436401367, 1.3664082288742065, 1.1384254693984985, 1.1120496988296509, 1.0709296464920044, 0.8946848511695862, 0.8943862318992615, 0.8943860530853271, 0.8943857550621033, 0.867411196231842, 0.8396956920623779, 0.8390322327613831, 0.7571089863777161, 2.645759344100952, 1.9248343706130981, 3.8226230144500732, 4.419050693511963, 7.416390419006348, 7.176196575164795, 1.2371269464492798, 2.348769187927246, 2.2579596042633057, 2.3898379802703857, 1.6284613609313965, 1.6434733867645264, 1.2471132278442383, 12.294767379760742, 9.593966484069824, 2.9705560207366943, 2.174283027648926, 2.05564284324646, 1.579155683517456, 1.2335584163665771, 1.1620060205459595, 1.2966578006744385, 1.0271152257919312, 1.0196068286895752, 0.8574783205986023, 0.8439456820487976, 0.7164928913116455, 0.7086274027824402, 0.6417736411094666, 0.5702090859413147, 0.5680274963378906, 0.5603207349777222, 0.5069697499275208, 0.5053161978721619, 0.49228808283805847, 0.4904769957065582, 0.48618635535240173, 0.48152071237564087, 0.4057842195034027, 0.3998830318450928, 0.39777326583862305, 1.378948450088501, 0.3439639210700989, 0.9483077526092529, 1.2269381284713745, 0.7470060586929321, 1.1351966857910156, 1.654873251914978, 0.915126621723175, 0.7532028555870056, 0.760370135307312, 0.5447013974189758, 0.5074379444122314, 3.5353915691375732, 3.1939549446105957, 1.7730787992477417, 1.5191123485565186, 1.4282516241073608, 1.3935343027114868, 1.3245621919631958, 1.1856147050857544, 1.0655757188796997, 1.0205483436584473, 1.0036267042160034, 0.9561058282852173, 3.6762821674346924, 0.7637931108474731, 0.6400895118713379, 0.6400860548019409, 0.6104090809822083, 0.5145087242126465, 0.5144858956336975, 0.376056045293808, 0.3697802722454071, 0.37605592608451843, 1.2670763731002808, 0.30778446793556213, 0.30542778968811035, 0.29559803009033203, 0.26330915093421936, 0.26330915093421936, 0.26330938935279846, 0.26120996475219727, 0.8393661379814148, 1.404999852180481, 1.1899875402450562, 0.3466250002384186, 0.5010605454444885, 0.5318088531494141, 0.44416019320487976, 0.5701541900634766, 1.7604187726974487, 0.3223799169063568, 0.18618427217006683, 0.17020274698734283, 0.14042210578918457, 0.13722693920135498, 0.13636930286884308, 0.09526246786117554, 0.06876751780509949, 0.04972562566399574, 0.049725573509931564, 0.04972557723522186, 0.04972556605935097, 0.04972554370760918, 0.049725491553545, 0.04972545802593231, 0.04903097078204155, 0.04903059080243111, 0.09489384293556213, 0.049725595861673355, 0.04972560703754425, 0.040202490985393524, 0.049380332231521606, 0.004486508201807737, 0.004486365243792534, 0.004486051853746176, 0.00448612030595541, 0.004485954064875841, 0.0044860197231173515, 0.004485977813601494, 0.004486022517085075, 0.0045515685342252254, 0.004509715363383293, 0.004504299722611904, 0.004502028226852417, 0.004498706199228764, 0.00449754623696208, 0.011668311432003975, 0.0004892749711871147, 0.0004892749129794538, 0.000489274796564132, 0.0004892748547717929, 0.0004892748547717929, 0.0004892747383564711, 0.0004892747383564711, 0.0004892747383564711, 0.0004892743891105056, 0.0004892743891105056, 0.0004892743891105056, 0.0004892743891105056, 0.0004892743891105056, 0.0004892743891105056, 0.0004892743891105056, 0.0004892744473181665, 0.0004892744473181665, 0.0004892744473181665, 0.0004892744473181665, 0.0004892743891105056, 0.0004892743891105056, 0.0004892743891105056, 0.0004892744473181665, 0.0004892744473181665, 0.0004892744473181665, 0.0004892743891105056, 0.0004892744473181665, 0.0004892744473181665, 0.0004892744473181665, 0.0004892747383564711, 0.0004892745637334883, 0.0004892745637334883, 0.0004892745637334883, 0.0004892744473181665, 0.0004892747383564711, 0.0004892746219411492, 0.0004892746219411492, 0.0004892746219411492, 0.0004892746219411492, 0.0004892744473181665, 0.0004892743891105056, 0.0004892743891105056, 0.0004892743891105056, 0.0004892743891105056, 0.0004892743891105056, 0.0004892743891105056, 0.0004892744473181665, 0.0004892743891105056, 0.0004892744473181665, 0.0004892744473181665, 0.0004892745637334883, 0.0004892743891105056, 0.0004892744473181665, 0.0004892746219411492, 0.0004892743891105056, 0.0004892743891105056, 0.0004892746219411492, 0.0004892745637334883, 0.0004892745637334883, 0.0004892745637334883, 0.0004892743891105056, 0.0004892745637334883, 0.0004892745637334883, 0.0004892746219411492, 0.0004892745637334883, 0.0004892745637334883, 0.0004892745637334883, 0.0004892749129794538, 0.0004892744473181665, 0.0004892743891105056, 0.0004892747383564711, 0.0004892744473181665, 0.0004892749129794538, 0.000489316473249346, 0.0004893002915196121, 0.0004892910365015268, 0.000489290221594274, 0.0004892878932878375, 0.0004892874858342111, 0.0004892853903584182, 0.0004892839933745563, 0.0004892836441285908, 0.0004892821307294071, 0.0004892817232757807, 0.0004892816650681198, 0.0004892816650681198, 0.0004892820143140852, 0.000489281490445137, 0.0004892812576144934, 0.0004892813158221543, 0.0004892809083685279, 0.0004892810829915106, 0.0004892803844995797, 0.0004892803262919188, 0.0004892805009149015, 0.0004892802680842578, 0.0004892806173302233, 0.0004892803844995797, 0.0004892799188382924, 0.000489280151668936, 0.0004892800352536142, 0.0004892798024229705, 0.0003285705461166799, 0.00032857057522051036, 0.0003285705461166799, 0.0003285706043243408, 0.0003285706043243408, 0.0003285705461166799, 0.0003285705461166799, 0.0003285705461166799, 0.0003285705461166799, 0.0003285705461166799, 0.00032857057522051036, 0.0003285707498434931, 0.0003285706043243408, 0.00032857057522051036, 0.0003285706043243408, 0.00032857057522051036, 0.00032857057522051036, 0.0003285705461166799, 0.00032857057522051036, 0.0003285705461166799, 0.0003285705461166799, 0.0003285705461166799, 0.00032857057522051036, 0.0003285705461166799, 0.0003285705461166799, 0.0003285705461166799, 0.00032857057522051036, 0.0003285705461166799, 0.0003285705461166799, 0.0003285705461166799, 0.0003285871644038707, 0.0003285788116045296, 0.0003285756683908403, 0.00032857569749467075, 0.00032857517362572253, 0.00032857534824870527, 0.00032857447513379157, 0.0003285744460299611, 0.00032857395126484334, 0.0003285739221610129, 0.00032857368933036923, 0.0003285736602265388, 0.0003285736311227083, 0.00032857360201887786, 0.00032857360201887786, 0.00032857348560355604, 0.0003285732527729124, 0.00032857334008440375, 0.0003285735147073865, 0.0003285734564997256, 0.00032857348560355604, 0.0003285733109805733, 0.00032857307814992964, 0.00032857301994226873, 0.00032857307814992964, 0.00032857319456525147, 0.00032857307814992964, 0.00032857261248864233, 0.0003285726415924728, 0.000328572845319286, 0.0003227049601264298, 0.00032270493102259934, 0.0003227049601264298, 0.0003227049601264298, 0.00032270493102259934, 0.0003227049601264298, 0.0003227049601264298, 0.0003227049601264298, 0.00032270493102259934, 0.0003227049601264298, 0.0003227049601264298, 0.0003227049601264298, 0.0003227049601264298, 0.0003227049601264298, 0.0003227049601264298, 0.0003227049601264298, 0.0003227049601264298, 0.0003227049601264298, 0.0003227049601264298, 0.0003227049601264298, 0.0003227049601264298, 0.0003227049601264298, 0.0003227049601264298, 0.00032270493102259934, 0.00032270493102259934, 0.00032270493102259934, 0.0003227049601264298, 0.00032270493102259934, 0.0003227049601264298, 0.0003227049601264298, 0.00032270816154778004, 0.0003227070556022227, 0.00032270708470605314, 0.00032270699739456177, 0.0003227068518754095, 0.0003227066481485963, 0.0003227065899409354, 0.0003227064444217831, 0.0003227063862141222, 0.00032270653173327446, 0.00032270661904476583, 0.00032270653173327446, 0.0003227064444217831, 0.0003227064444217831, 0.0003227063862141222, 0.00032270661904476583, 0.00032270653173327446, 0.00032270641531795263, 0.00032270661904476583, 0.0003227063571102917, 0.0003227062989026308, 0.0003227062406949699, 0.0003227060951758176, 0.0003227062989026308, 0.0003227061533834785, 0.00032270606607198715, 0.0003227060951758176, 0.0003227061533834785, 0.000322706182487309, 0.00032270606607198715], \"Total\": [2037.0, 468.0, 651.0, 544.0, 724.0, 355.0, 352.0, 327.0, 186.0, 686.0, 355.0, 241.0, 282.0, 330.0, 232.0, 214.0, 394.0, 249.0, 422.0, 178.0, 210.0, 221.0, 281.0, 266.0, 366.0, 276.0, 255.0, 584.0, 199.0, 377.0, 146.30038452148438, 145.15733337402344, 117.42801666259766, 109.97112274169922, 88.34021759033203, 84.23982238769531, 77.88720703125, 69.9215316772461, 64.79344177246094, 64.78158569335938, 61.77577590942383, 61.54126739501953, 60.08131408691406, 58.29317855834961, 56.8817024230957, 55.11243438720703, 55.86701965332031, 54.000343322753906, 50.903663635253906, 54.741859436035156, 49.0013313293457, 46.17586135864258, 60.01839828491211, 43.82761001586914, 42.07222366333008, 41.01519012451172, 39.727691650390625, 38.47861862182617, 37.27299499511719, 51.606773376464844, 91.94497680664062, 124.29198455810547, 70.61447143554688, 165.58021545410156, 61.91495132446289, 329.24346923828125, 134.54837036132812, 132.8764190673828, 158.08438110351562, 81.17375946044922, 620.7073364257812, 211.98779296875, 384.0224304199219, 109.55540466308594, 176.1231231689453, 128.66371154785156, 677.6069946289062, 107.65856170654297, 115.85731506347656, 184.07974243164062, 293.09375, 306.4859313964844, 310.6007080078125, 686.6173095703125, 509.3833312988281, 289.4998474121094, 248.1016387939453, 295.9873962402344, 316.9352111816406, 321.848388671875, 515.4532470703125, 280.5903015136719, 429.22943115234375, 577.6134033203125, 284.7878112792969, 501.85089111328125, 544.1843872070312, 422.6104736328125, 281.7170104980469, 425.9224853515625, 328.0650939941406, 365.06103515625, 324.6607666015625, 291.4329833984375, 627.0564575195312, 466.4691162109375, 724.8385620117188, 129.5160675048828, 80.05789947509766, 136.27320861816406, 85.91203308105469, 62.35700988769531, 44.37944793701172, 38.789188385009766, 38.34056091308594, 36.574554443359375, 35.05033874511719, 29.581892013549805, 95.37821197509766, 27.0689754486084, 29.039043426513672, 25.094707489013672, 27.872020721435547, 23.21692657470703, 23.095792770385742, 22.33603286743164, 22.248619079589844, 22.119117736816406, 22.052770614624023, 23.328166961669922, 20.88213539123535, 20.84098243713379, 20.704957962036133, 20.419843673706055, 20.300491333007812, 19.912965774536133, 18.464927673339844, 61.99531555175781, 75.5057601928711, 77.92593383789062, 33.342960357666016, 56.20030212402344, 366.2289733886719, 394.6830749511719, 36.108482360839844, 39.09873962402344, 119.7387924194336, 245.42495727539062, 30.080495834350586, 245.49887084960938, 43.835750579833984, 112.95680236816406, 68.72847747802734, 76.81399536132812, 212.6922149658203, 76.8038330078125, 45.114322662353516, 60.43198776245117, 61.73777770996094, 52.2280158996582, 108.31674194335938, 70.5113525390625, 240.37142944335938, 80.5838394165039, 292.0900573730469, 82.61832427978516, 584.1749267578125, 102.46810150146484, 197.57664489746094, 577.6134033203125, 501.85089111328125, 200.1543731689453, 113.04348754882812, 328.4225158691406, 215.00872802734375, 377.4530944824219, 264.6583557128906, 300.14208984375, 335.5517578125, 160.6193084716797, 259.9006652832031, 468.9011535644531, 45.43182373046875, 39.07622528076172, 33.06977081298828, 30.243860244750977, 27.649890899658203, 23.04197883605957, 21.21706199645996, 19.47479820251465, 18.281436920166016, 17.91254997253418, 18.53318214416504, 17.07927894592285, 16.326778411865234, 16.347074508666992, 22.245914459228516, 15.198651313781738, 15.187684059143066, 15.905404090881348, 13.472529411315918, 13.381743431091309, 12.72514533996582, 12.422187805175781, 12.257966041564941, 11.795278549194336, 11.533997535705566, 20.299707412719727, 10.817997932434082, 10.809264183044434, 10.591726303100586, 31.45561981201172, 99.89149475097656, 217.02532958984375, 27.551301956176758, 174.0321502685547, 147.3587188720703, 38.15920639038086, 199.56785583496094, 103.45618438720703, 281.1361999511719, 46.09130096435547, 221.4122772216797, 161.7126922607422, 72.90596008300781, 284.1876525878906, 45.33285903930664, 724.8385620117188, 36.488548278808594, 129.7246856689453, 31.629423141479492, 68.82382202148438, 174.5110321044922, 210.65130615234375, 55.385623931884766, 100.1692886352539, 168.9268341064453, 466.4691162109375, 127.79100036621094, 239.57154846191406, 126.89105987548828, 239.06356811523438, 332.1165466308594, 185.67599487304688, 264.6583557128906, 627.0564575195312, 255.83116149902344, 515.4532470703125, 108.673828125, 75.02629852294922, 40.72427749633789, 34.81163787841797, 31.791404724121094, 51.93312454223633, 63.42243957519531, 41.8942756652832, 25.90011978149414, 25.21306800842285, 22.66727638244629, 19.55517578125, 18.917598724365234, 18.68117904663086, 41.2822380065918, 18.150447845458984, 17.907854080200195, 17.907760620117188, 18.175689697265625, 47.32234573364258, 17.076005935668945, 16.873821258544922, 17.339433670043945, 16.18785858154297, 15.641027450561523, 16.491331100463867, 15.012251853942871, 14.90018367767334, 125.98723602294922, 14.641311645507812, 282.09613037109375, 61.542449951171875, 38.73884963989258, 178.63636779785156, 330.94775390625, 222.6719970703125, 134.39076232910156, 651.0527954101562, 130.6547088623047, 66.76586151123047, 33.07684326171875, 50.28434753417969, 58.71562957763672, 36.794898986816406, 77.85530090332031, 102.50213623046875, 215.25607299804688, 2037.587646484375, 180.14413452148438, 90.93034362792969, 191.3491668701172, 218.90065002441406, 210.27188110351562, 95.622314453125, 109.19236755371094, 305.2571716308594, 202.90689086914062, 193.44271850585938, 627.0564575195312, 114.76579284667969, 241.11842346191406, 293.0534973144531, 724.8385620117188, 210.65130615234375, 281.7170104980469, 64.89287567138672, 38.884517669677734, 36.925777435302734, 34.0980224609375, 32.39516830444336, 32.01997375488281, 29.69347381591797, 41.92367172241211, 23.430879592895508, 25.274791717529297, 21.459983825683594, 19.82144546508789, 19.019302368164062, 18.06928253173828, 17.451915740966797, 16.365591049194336, 15.841646194458008, 15.664834976196289, 15.245394706726074, 15.049712181091309, 14.286050796508789, 15.943492889404297, 14.20930290222168, 14.200864791870117, 14.000097274780273, 13.774456024169922, 13.482929229736328, 13.353041648864746, 13.279446601867676, 12.917990684509277, 53.38743209838867, 28.116668701171875, 19.423067092895508, 225.41355895996094, 152.0091094970703, 68.98877716064453, 39.437721252441406, 101.67855834960938, 219.8134765625, 97.31351470947266, 69.07730865478516, 99.6940689086914, 377.4530944824219, 84.74510955810547, 49.92720413208008, 267.0968017578125, 199.67283630371094, 352.3388977050781, 211.62210083007812, 584.1749267578125, 686.6173095703125, 121.24017333984375, 317.487060546875, 316.9352111816406, 184.0776824951172, 146.65509033203125, 242.01414489746094, 188.7445526123047, 205.83839416503906, 677.6069946289062, 257.44903564453125, 425.9224853515625, 355.99212646484375, 180.4074249267578, 179.85546875, 144.60658264160156, 87.85435485839844, 77.64605712890625, 64.836181640625, 62.44594955444336, 56.75209045410156, 50.54513931274414, 51.1416015625, 51.14158630371094, 49.85462188720703, 34.96916961669922, 34.717918395996094, 34.330196380615234, 34.3302001953125, 30.1015682220459, 34.886592864990234, 20.62250518798828, 19.341184616088867, 221.7882080078125, 17.987743377685547, 18.09536361694336, 98.15746307373047, 17.359806060791016, 14.144533157348633, 13.954146385192871, 13.943865776062012, 13.81046199798584, 70.20979309082031, 33.8255615234375, 33.72385025024414, 83.56818389892578, 41.60676574707031, 73.56884765625, 58.90034866333008, 266.710693359375, 102.31935119628906, 215.5730438232422, 81.0337905883789, 184.232177734375, 126.6991958618164, 66.91490936279297, 92.25529479980469, 249.19769287109375, 164.14324951171875, 355.99212646484375, 133.22537231445312, 544.1843872070312, 114.5443115234375, 217.8523712158203, 125.99453735351562, 127.79100036621094, 170.972900390625, 466.4691162109375, 515.4532470703125, 146.0581817626953, 284.1876525878906, 317.487060546875, 425.9224853515625, 55.34854507446289, 214.0108184814453, 46.04738235473633, 41.85622787475586, 40.35530090332031, 327.16339111328125, 39.62247085571289, 32.44877243041992, 29.263763427734375, 28.487274169921875, 27.241962432861328, 26.648147583007812, 22.701519012451172, 20.89984130859375, 19.982988357543945, 19.759016036987305, 19.621768951416016, 19.24767303466797, 19.16854476928711, 17.626710891723633, 33.929718017578125, 14.991138458251953, 14.928240776062012, 14.832672119140625, 14.410775184631348, 14.389784812927246, 13.776555061340332, 12.37072467803955, 12.237120628356934, 12.031984329223633, 22.61975860595703, 44.821964263916016, 26.679447174072266, 46.635250091552734, 224.94320678710938, 198.94851684570312, 33.78093719482422, 71.30494689941406, 64.88253021240234, 50.95076370239258, 2037.587646484375, 56.64211654663086, 166.95181274414062, 88.2514877319336, 51.07408905029297, 77.70010375976562, 235.05398559570312, 355.2066345214844, 52.89019775390625, 125.45809173583984, 93.16227722167969, 276.637451171875, 115.88883972167969, 51.305503845214844, 193.44271850585938, 77.33946990966797, 161.8828582763672, 232.65560913085938, 305.2571716308594, 231.8916015625, 203.30567932128906, 116.41797637939453, 128.43116760253906, 651.0527954101562, 284.7878112792969, 146.7913818359375, 44.2696533203125, 30.734539031982422, 44.511653900146484, 23.470914840698242, 22.939128875732422, 22.744482040405273, 21.81914520263672, 20.74362564086914, 17.4331111907959, 17.266942977905273, 17.195894241333008, 16.851041793823242, 15.892690658569336, 15.158260345458984, 13.922402381896973, 13.779446601867676, 12.73680591583252, 12.688857078552246, 12.477949142456055, 12.210649490356445, 12.02766227722168, 11.88770580291748, 11.787954330444336, 11.626049995422363, 10.89136028289795, 10.79992389678955, 10.73210620880127, 10.708739280700684, 10.692239761352539, 10.59508991241455, 18.161062240600586, 45.12438201904297, 13.692228317260742, 36.01248550415039, 93.35643768310547, 37.22175598144531, 31.566720962524414, 46.34098815917969, 38.219268798828125, 34.840389251708984, 20.278385162353516, 34.188812255859375, 49.62900924682617, 32.67584228515625, 72.64318084716797, 117.08441925048828, 54.31761169433594, 136.0228271484375, 133.28883361816406, 227.98435974121094, 76.50092315673828, 74.91375732421875, 48.78672790527344, 162.1552276611328, 74.17090606689453, 227.01705932617188, 114.76579284667969, 627.0564575195312, 221.34539794921875, 328.4225158691406, 226.14828491210938, 129.52000427246094, 335.5517578125, 620.7073364257812, 686.6173095703125, 209.08544921875, 180.02426147460938, 173.83872985839844, 26.195823669433594, 19.47300910949707, 16.015220642089844, 13.986368179321289, 11.45174789428711, 11.291744232177734, 10.4880952835083, 10.09552001953125, 59.91518020629883, 8.036259651184082, 7.970993995666504, 6.94796085357666, 6.935515880584717, 6.3157196044921875, 6.160173416137695, 6.152172565460205, 5.956556797027588, 5.7368388175964355, 12.664200782775879, 5.4185919761657715, 5.189015865325928, 5.143551349639893, 4.532918930053711, 4.128646373748779, 4.013278484344482, 3.88828706741333, 3.886197328567505, 3.8591761589050293, 3.84781551361084, 3.8137600421905518, 21.473209381103516, 72.3991470336914, 16.094369888305664, 32.463680267333984, 62.365089416503906, 10.39957046508789, 38.78348159790039, 29.173625946044922, 41.86496353149414, 46.65459060668945, 27.57899284362793, 352.3388977050781, 118.62761688232422, 232.65560913085938, 26.090116500854492, 52.17742156982422, 43.9848518371582, 92.07588958740234, 199.67283630371094, 544.1843872070312, 113.90032196044922, 71.3343276977539, 98.80233001708984, 255.7536163330078, 223.80096435546875, 422.6104736328125, 56.49095153808594, 93.74494171142578, 211.62210083007812, 199.56785583496094, 112.95680236816406, 36.21043014526367, 14.73302173614502, 11.370043754577637, 10.050658226013184, 9.341717720031738, 8.280856132507324, 7.975918292999268, 7.806390285491943, 32.80848693847656, 7.270465850830078, 13.144881248474121, 6.884885311126709, 6.7731614112854, 6.399273872375488, 6.029707908630371, 6.000765323638916, 5.900729656219482, 5.792415618896484, 5.655012130737305, 5.561068534851074, 5.474423885345459, 5.358709812164307, 5.267172813415527, 5.002537727355957, 4.981471538543701, 4.834987163543701, 4.775282859802246, 4.589855670928955, 4.401925086975098, 4.366433143615723, 18.974870681762695, 8.187434196472168, 186.8314208984375, 39.465328216552734, 10.620755195617676, 13.74727725982666, 13.806811332702637, 355.99212646484375, 52.21979522705078, 11.905545234680176, 17.558700561523438, 13.775551795959473, 52.17742156982422, 22.363889694213867, 15.127278327941895, 98.80233001708984, 171.88992309570312, 199.67283630371094, 29.64740753173828, 249.19769287109375, 31.388158798217773, 243.295166015625, 102.31935119628906, 37.74657440185547, 137.4269256591797, 60.84642791748047, 425.9224853515625, 180.6663055419922, 49.425071716308594, 73.59977722167969, 64.48876190185547, 55.37775802612305, 55.37775421142578, 48.542884826660156, 37.155731201171875, 37.155731201171875, 33.169673919677734, 18.9337100982666, 18.9337100982666, 18.9337100982666, 15.075535774230957, 14.378201484680176, 9.8226900100708, 9.822688102722168, 9.8226900100708, 9.25329303741455, 7.544929504394531, 6.975500106811523, 6.324728012084961, 25.095317840576172, 5.835648536682129, 4.66436767578125, 4.326716899871826, 4.053004741668701, 4.8084797859191895, 3.5961689949035645, 3.5361881256103516, 3.5310492515563965, 2.989347219467163, 2.989346742630005, 22.865854263305664, 24.238771438598633, 28.837860107421875, 114.5443115234375, 26.030515670776367, 124.02413940429688, 49.97248458862305, 241.11842346191406, 48.54463577270508, 22.909879684448242, 44.540260314941406, 218.90065002441406, 53.6796989440918, 60.18756866455078, 36.640663146972656, 174.80638122558594, 15.520602226257324, 14.495986938476562, 13.397202491760254, 12.901571273803711, 12.57321834564209, 10.824033737182617, 10.319025039672852, 10.1678466796875, 9.987126350402832, 9.058513641357422, 21.99405860900879, 6.549689769744873, 6.4038004875183105, 6.184780120849609, 5.912002086639404, 5.676793098449707, 14.6218843460083, 5.3446431159973145, 5.130127906799316, 5.11236572265625, 10.662939071655273, 4.601861953735352, 4.567512035369873, 4.515377998352051, 4.4358415603637695, 4.348491668701172, 4.1024861335754395, 4.104053974151611, 4.033508777618408, 4.006391525268555, 10.824517250061035, 9.676941871643066, 28.64297103881836, 12.114946365356445, 12.141512870788574, 47.744205474853516, 16.34073829650879, 14.218581199645996, 108.31674194335938, 42.49281311035156, 38.813568115234375, 10.455402374267578, 10.734907150268555, 212.6922149658203, 11.397578239440918, 112.23420715332031, 10.269529342651367, 6.878836154937744, 3.845546007156372, 3.819828510284424, 3.5377728939056396, 3.4881339073181152, 3.46242356300354, 3.3121888637542725, 3.2053728103637695, 12.951306343078613, 2.896864891052246, 11.799394607543945, 20.77448272705078, 2.0960848331451416, 2.074244976043701, 22.12774658203125, 3.654646396636963, 1.840882658958435, 1.8172425031661987, 5.004022121429443, 19.01825714111328, 4.662082672119141, 1.5344427824020386, 11.759303092956543, 12.009169578552246, 11.46857738494873, 8.236797332763672, 11.329957008361816, 3.9235503673553467, 29.89260482788086, 24.24240493774414, 46.18239212036133, 29.74826431274414, 15.266971588134766, 99.20893859863281, 27.590063095092773, 102.50213623046875, 108.1491470336914, 35.43502426147461, 80.45453643798828, 210.27188110351562, 178.63636779785156, 66.01070404052734, 173.02320861816406, 59.69949722290039, 88.2514877319336, 141.20338439941406, 264.6583557128906, 7.641129493713379, 5.9108195304870605, 5.130144119262695, 5.079372882843018, 3.8055882453918457, 3.4663918018341064, 3.2645866870880127, 3.003786563873291, 2.8641114234924316, 2.5783872604370117, 2.488151788711548, 2.4588260650634766, 2.4137420654296875, 2.3406572341918945, 4.213077545166016, 13.433649063110352, 2.0992844104766846, 2.056947708129883, 1.8289648294448853, 1.8025890588760376, 1.7614704370498657, 1.5852264165878296, 1.5849260091781616, 1.5849264860153198, 1.584926724433899, 1.5579506158828735, 1.5302350521087646, 1.5295714139938354, 1.4476481676101685, 5.085514068603516, 4.263594150543213, 11.060734748840332, 13.411884307861328, 26.8773136138916, 27.141019821166992, 2.8194355964660645, 9.184322357177734, 9.868263244628906, 18.762859344482422, 6.646458625793457, 7.698897838592529, 29.21222496032715, 12.990660667419434, 11.682465553283691, 3.6664669513702393, 2.8702774047851562, 2.751535415649414, 2.2750489711761475, 1.9294512271881104, 1.8578987121582031, 2.121263265609741, 1.7230114936828613, 1.715499997138977, 1.5534353256225586, 1.5398389101028442, 1.4123854637145996, 1.404520034790039, 1.3376686573028564, 1.2661018371582031, 1.263920545578003, 1.2562141418457031, 1.2028653621673584, 1.2012090682983398, 1.188180685043335, 1.186369776725769, 1.1820789575576782, 1.1774134635925293, 1.1016768217086792, 1.0957756042480469, 1.0936663150787354, 4.1023736000061035, 1.0398565530776978, 3.229135036468506, 5.565263271331787, 2.8716886043548584, 5.570204734802246, 17.51117515563965, 14.143025398254395, 28.591289520263672, 37.22175598144531, 7.6812052726745605, 2.4386050701141357, 4.235091686248779, 3.89365553855896, 2.472780227661133, 2.2188193798065186, 2.1279520988464355, 2.0932469367980957, 2.0242714881896973, 1.8853150606155396, 1.765276551246643, 1.7202645540237427, 1.7033272981643677, 1.6558061838150024, 6.507434368133545, 1.4635292291641235, 1.3397916555404663, 1.3397924900054932, 1.3101097345352173, 1.2142101526260376, 1.2142165899276733, 1.075756311416626, 1.0694806575775146, 1.1209965944290161, 3.7832396030426025, 1.007484793663025, 1.0051281452178955, 0.9952985048294067, 0.9630095958709717, 0.9630104303359985, 0.9630178213119507, 0.963594377040863, 4.1585917472839355, 11.682465553283691, 12.317139625549316, 1.6771794557571411, 5.8787641525268555, 13.8049955368042, 14.644319534301758, 1.2777644395828247, 4.631752014160156, 1.029989242553711, 0.8937934041023254, 0.8778117895126343, 0.8480312824249268, 0.8448362350463867, 0.8439784049987793, 0.8028715252876282, 0.7763774991035461, 0.7573354840278625, 0.7573346495628357, 0.7573346495628357, 0.7573345899581909, 0.7573345899581909, 0.7573345303535461, 0.7573344707489014, 0.7566399574279785, 0.7566396594047546, 1.5740537643432617, 1.0850962400436401, 1.1209965944290161, 3.2011115550994873, 4.220506191253662, 0.7121454477310181, 0.712145209312439, 0.7121062278747559, 0.7121182084083557, 0.7120991349220276, 0.7121101021766663, 0.712108850479126, 0.7121326327323914, 4.487541198730469, 7.733542442321777, 2.9634883403778076, 3.1989691257476807, 3.362833023071289, 1.7512060403823853, 0.7232739925384521, 0.712095320224762, 0.7120952606201172, 0.712095320224762, 0.7120952606201172, 0.712095320224762, 0.712095320224762, 0.712095320224762, 0.712095320224762, 0.7120950222015381, 0.7120950222015381, 0.7120950222015381, 0.7120950222015381, 0.7120949625968933, 0.7120949625968933, 0.7120950222015381, 0.7120951414108276, 0.7120951414108276, 0.7120951414108276, 0.7120951414108276, 0.7120949625968933, 0.7120950222015381, 0.7120949625968933, 0.7120951414108276, 0.7120951414108276, 0.7120951414108276, 0.7120950222015381, 0.7120951414108276, 0.7120951414108276, 0.7120951414108276, 0.7120953798294067, 0.7120952606201172, 0.7120952606201172, 0.7120952010154724, 0.7120951414108276, 0.7120954990386963, 0.7120953798294067, 0.7120954990386963, 0.7120954990386963, 0.7120954394340515, 0.7120951414108276, 0.7120949625968933, 0.7120949625968933, 0.7120949625968933, 0.7120950222015381, 0.7120950222015381, 0.7120950222015381, 0.7120951414108276, 0.7120950222015381, 0.7120950222015381, 0.7120950818061829, 0.7120952010154724, 0.7120949625968933, 0.7120951414108276, 0.7120963335037231, 0.7120950222015381, 0.7120950222015381, 0.7120966911315918, 0.7120952010154724, 0.7120952010154724, 0.7120952010154724, 0.7120950222015381, 0.7120952010154724, 0.7120952010154724, 0.7120975255966187, 0.7120952010154724, 0.7120952010154724, 0.7120952010154724, 0.7121031284332275, 0.7120951414108276, 0.7120950222015381, 0.712108850479126, 0.7120951414108276, 0.7121344208717346, 6.936886310577393, 4.543759346008301, 584.1749267578125, 180.4074249267578, 2.983726978302002, 3.8218116760253906, 724.8385620117188, 221.7882080078125, 43.1602668762207, 544.1843872070312, 184.232177734375, 466.4691162109375, 221.5858917236328, 377.4530944824219, 90.60674285888672, 98.15746307373047, 468.9011535644531, 243.295166015625, 201.68984985351562, 18.750871658325195, 627.0564575195312, 355.99212646484375, 168.9268341064453, 255.7536163330078, 144.60658264160156, 210.65130615234375, 686.6173095703125, 317.487060546875, 179.85546875, 0.7120950222015381, 0.7120950818061829, 0.7120950222015381, 0.7120951414108276, 0.7120951414108276, 0.7120950222015381, 0.7120950222015381, 0.7120950222015381, 0.7120950222015381, 0.7120950222015381, 0.7120950818061829, 0.7120954990386963, 0.7120951414108276, 0.7120950818061829, 0.7120951414108276, 0.7120950818061829, 0.7120950818061829, 0.7120950222015381, 0.7120950818061829, 0.7120950222015381, 0.7120950222015381, 0.7120950222015381, 0.7120950818061829, 0.7120950222015381, 0.7120949625968933, 0.7120949625968933, 0.7120950818061829, 0.7120950222015381, 0.7120950222015381, 0.7120949625968933, 39.4244499206543, 366.2289733886719, 515.4532470703125, 724.8385620117188, 577.6134033203125, 677.6069946289062, 184.0776824951172, 584.1749267578125, 686.6173095703125, 627.0564575195312, 41.936622619628906, 501.85089111328125, 328.4225158691406, 282.09613037109375, 321.848388671875, 355.99212646484375, 620.7073364257812, 292.0900573730469, 332.1165466308594, 429.22943115234375, 241.11842346191406, 189.2034454345703, 259.9006652832031, 138.8388214111328, 240.37142944335938, 73.59977722167969, 73.35449981689453, 211.2717742919922, 64.48876190185547, 76.8038330078125, 0.7120949625968933, 0.7120949625968933, 0.7120950222015381, 0.7120950222015381, 0.7120949625968933, 0.7120949625968933, 0.7120950222015381, 0.7120950222015381, 0.7120949625968933, 0.7120949625968933, 0.7120949625968933, 0.7120949625968933, 0.7120949625968933, 0.7120949625968933, 0.7120949625968933, 0.7120950222015381, 0.7120949625968933, 0.7120949625968933, 0.7120949625968933, 0.7120949625968933, 0.7120949625968933, 0.7120949625968933, 0.7120950222015381, 0.7120949625968933, 0.7120949625968933, 0.7120949625968933, 0.7120950222015381, 0.7120949625968933, 0.7120950222015381, 0.7120950222015381, 355.99212646484375, 686.6173095703125, 255.7536163330078, 245.49887084960938, 232.65560913085938, 64.48876190185547, 108.31674194335938, 55.37775802612305, 394.6830749511719, 114.5443115234375, 577.6134033203125, 724.8385620117188, 515.4532470703125, 627.0564575195312, 466.4691162109375, 124.02413940429688, 620.7073364257812, 241.11842346191406, 328.0650939941406, 584.1749267578125, 429.22943115234375, 233.37796020507812, 509.3833312988281, 324.6607666015625, 140.8435821533203, 26.090116500854492, 58.90034866333008, 211.62210083007812, 202.38705444335938, 280.5903015136719], \"Category\": [\"Default\", \"Default\", \"Default\", \"Default\", \"Default\", \"Default\", \"Default\", \"Default\", \"Default\", \"Default\", \"Default\", \"Default\", \"Default\", \"Default\", \"Default\", \"Default\", \"Default\", \"Default\", \"Default\", \"Default\", \"Default\", \"Default\", \"Default\", \"Default\", \"Default\", \"Default\", \"Default\", \"Default\", \"Default\", \"Default\", \"Topic1\", \"Topic1\", \"Topic1\", \"Topic1\", \"Topic1\", \"Topic1\", \"Topic1\", \"Topic1\", \"Topic1\", \"Topic1\", \"Topic1\", \"Topic1\", \"Topic1\", \"Topic1\", \"Topic1\", \"Topic1\", \"Topic1\", \"Topic1\", \"Topic1\", \"Topic1\", \"Topic1\", \"Topic1\", \"Topic1\", \"Topic1\", \"Topic1\", \"Topic1\", \"Topic1\", \"Topic1\", \"Topic1\", \"Topic1\", \"Topic1\", \"Topic1\", \"Topic1\", \"Topic1\", \"Topic1\", \"Topic1\", \"Topic1\", \"Topic1\", \"Topic1\", \"Topic1\", \"Topic1\", \"Topic1\", \"Topic1\", \"Topic1\", \"Topic1\", \"Topic1\", \"Topic1\", \"Topic1\", \"Topic1\", \"Topic1\", \"Topic1\", \"Topic1\", \"Topic1\", \"Topic1\", \"Topic1\", \"Topic1\", \"Topic1\", \"Topic1\", \"Topic1\", \"Topic1\", \"Topic1\", \"Topic1\", \"Topic1\", \"Topic1\", \"Topic1\", \"Topic1\", \"Topic1\", \"Topic1\", \"Topic1\", \"Topic1\", \"Topic1\", \"Topic1\", \"Topic1\", \"Topic1\", \"Topic1\", \"Topic1\", \"Topic1\", \"Topic2\", \"Topic2\", \"Topic2\", \"Topic2\", \"Topic2\", \"Topic2\", \"Topic2\", \"Topic2\", \"Topic2\", \"Topic2\", \"Topic2\", \"Topic2\", \"Topic2\", \"Topic2\", \"Topic2\", \"Topic2\", \"Topic2\", \"Topic2\", \"Topic2\", \"Topic2\", \"Topic2\", \"Topic2\", \"Topic2\", \"Topic2\", \"Topic2\", \"Topic2\", \"Topic2\", \"Topic2\", \"Topic2\", \"Topic2\", \"Topic2\", \"Topic2\", \"Topic2\", \"Topic2\", \"Topic2\", \"Topic2\", \"Topic2\", \"Topic2\", \"Topic2\", \"Topic2\", \"Topic2\", \"Topic2\", \"Topic2\", \"Topic2\", \"Topic2\", \"Topic2\", \"Topic2\", \"Topic2\", \"Topic2\", \"Topic2\", \"Topic2\", \"Topic2\", \"Topic2\", \"Topic2\", \"Topic2\", \"Topic2\", \"Topic2\", \"Topic2\", \"Topic2\", \"Topic2\", \"Topic2\", \"Topic2\", \"Topic2\", \"Topic2\", \"Topic2\", \"Topic2\", \"Topic2\", \"Topic2\", \"Topic2\", \"Topic2\", \"Topic2\", \"Topic2\", \"Topic2\", \"Topic2\", \"Topic3\", \"Topic3\", \"Topic3\", \"Topic3\", \"Topic3\", \"Topic3\", \"Topic3\", \"Topic3\", \"Topic3\", \"Topic3\", \"Topic3\", \"Topic3\", \"Topic3\", \"Topic3\", \"Topic3\", \"Topic3\", \"Topic3\", \"Topic3\", \"Topic3\", \"Topic3\", \"Topic3\", \"Topic3\", \"Topic3\", \"Topic3\", \"Topic3\", \"Topic3\", \"Topic3\", \"Topic3\", \"Topic3\", \"Topic3\", \"Topic3\", \"Topic3\", \"Topic3\", \"Topic3\", \"Topic3\", \"Topic3\", \"Topic3\", \"Topic3\", \"Topic3\", \"Topic3\", \"Topic3\", \"Topic3\", \"Topic3\", \"Topic3\", \"Topic3\", \"Topic3\", \"Topic3\", \"Topic3\", \"Topic3\", \"Topic3\", \"Topic3\", \"Topic3\", \"Topic3\", \"Topic3\", \"Topic3\", \"Topic3\", \"Topic3\", \"Topic3\", \"Topic3\", \"Topic3\", \"Topic3\", \"Topic3\", \"Topic3\", \"Topic3\", \"Topic3\", \"Topic3\", \"Topic3\", \"Topic4\", \"Topic4\", \"Topic4\", \"Topic4\", \"Topic4\", \"Topic4\", \"Topic4\", \"Topic4\", \"Topic4\", \"Topic4\", \"Topic4\", \"Topic4\", \"Topic4\", \"Topic4\", \"Topic4\", \"Topic4\", \"Topic4\", \"Topic4\", \"Topic4\", \"Topic4\", \"Topic4\", \"Topic4\", \"Topic4\", \"Topic4\", \"Topic4\", \"Topic4\", \"Topic4\", \"Topic4\", \"Topic4\", \"Topic4\", \"Topic4\", \"Topic4\", \"Topic4\", \"Topic4\", \"Topic4\", \"Topic4\", \"Topic4\", \"Topic4\", \"Topic4\", \"Topic4\", \"Topic4\", \"Topic4\", \"Topic4\", \"Topic4\", \"Topic4\", \"Topic4\", \"Topic4\", \"Topic4\", \"Topic4\", \"Topic4\", \"Topic4\", \"Topic4\", \"Topic4\", \"Topic4\", \"Topic4\", \"Topic4\", \"Topic4\", \"Topic4\", \"Topic4\", \"Topic4\", \"Topic4\", \"Topic4\", \"Topic4\", \"Topic4\", \"Topic4\", \"Topic5\", \"Topic5\", \"Topic5\", \"Topic5\", \"Topic5\", \"Topic5\", \"Topic5\", \"Topic5\", \"Topic5\", \"Topic5\", \"Topic5\", \"Topic5\", \"Topic5\", \"Topic5\", \"Topic5\", \"Topic5\", \"Topic5\", \"Topic5\", \"Topic5\", \"Topic5\", \"Topic5\", \"Topic5\", \"Topic5\", \"Topic5\", \"Topic5\", \"Topic5\", \"Topic5\", \"Topic5\", \"Topic5\", \"Topic5\", \"Topic5\", \"Topic5\", \"Topic5\", \"Topic5\", \"Topic5\", \"Topic5\", \"Topic5\", \"Topic5\", \"Topic5\", \"Topic5\", \"Topic5\", \"Topic5\", \"Topic5\", \"Topic5\", \"Topic5\", \"Topic5\", \"Topic5\", \"Topic5\", \"Topic5\", \"Topic5\", \"Topic5\", \"Topic5\", \"Topic5\", \"Topic5\", \"Topic5\", \"Topic5\", \"Topic5\", \"Topic5\", \"Topic5\", \"Topic5\", \"Topic5\", \"Topic5\", \"Topic5\", \"Topic6\", \"Topic6\", \"Topic6\", \"Topic6\", \"Topic6\", \"Topic6\", \"Topic6\", \"Topic6\", \"Topic6\", \"Topic6\", \"Topic6\", \"Topic6\", \"Topic6\", \"Topic6\", \"Topic6\", \"Topic6\", \"Topic6\", \"Topic6\", \"Topic6\", \"Topic6\", \"Topic6\", \"Topic6\", \"Topic6\", \"Topic6\", \"Topic6\", \"Topic6\", \"Topic6\", \"Topic6\", \"Topic6\", \"Topic6\", \"Topic6\", \"Topic6\", \"Topic6\", \"Topic6\", \"Topic6\", \"Topic6\", \"Topic6\", \"Topic6\", \"Topic6\", \"Topic6\", \"Topic6\", \"Topic6\", \"Topic6\", \"Topic6\", \"Topic6\", \"Topic6\", \"Topic6\", \"Topic6\", \"Topic6\", \"Topic6\", \"Topic6\", \"Topic6\", \"Topic6\", \"Topic6\", \"Topic6\", \"Topic6\", \"Topic6\", \"Topic6\", \"Topic6\", \"Topic6\", \"Topic7\", \"Topic7\", \"Topic7\", \"Topic7\", \"Topic7\", \"Topic7\", \"Topic7\", \"Topic7\", \"Topic7\", \"Topic7\", \"Topic7\", \"Topic7\", \"Topic7\", \"Topic7\", \"Topic7\", \"Topic7\", \"Topic7\", \"Topic7\", \"Topic7\", \"Topic7\", \"Topic7\", \"Topic7\", \"Topic7\", \"Topic7\", \"Topic7\", \"Topic7\", \"Topic7\", \"Topic7\", \"Topic7\", \"Topic7\", \"Topic7\", \"Topic7\", \"Topic7\", \"Topic7\", \"Topic7\", \"Topic7\", \"Topic7\", \"Topic7\", \"Topic7\", \"Topic7\", \"Topic7\", \"Topic7\", \"Topic7\", \"Topic7\", \"Topic7\", \"Topic7\", \"Topic7\", \"Topic7\", \"Topic7\", \"Topic7\", \"Topic7\", \"Topic7\", \"Topic7\", \"Topic7\", \"Topic7\", \"Topic7\", \"Topic7\", \"Topic7\", \"Topic7\", \"Topic7\", \"Topic7\", \"Topic7\", \"Topic7\", \"Topic7\", \"Topic7\", \"Topic7\", \"Topic8\", \"Topic8\", \"Topic8\", \"Topic8\", \"Topic8\", \"Topic8\", \"Topic8\", \"Topic8\", \"Topic8\", \"Topic8\", \"Topic8\", \"Topic8\", \"Topic8\", \"Topic8\", \"Topic8\", \"Topic8\", \"Topic8\", \"Topic8\", \"Topic8\", \"Topic8\", \"Topic8\", \"Topic8\", \"Topic8\", \"Topic8\", \"Topic8\", \"Topic8\", \"Topic8\", \"Topic8\", \"Topic8\", \"Topic8\", \"Topic8\", \"Topic8\", \"Topic8\", \"Topic8\", \"Topic8\", \"Topic8\", \"Topic8\", \"Topic8\", \"Topic8\", \"Topic8\", \"Topic8\", \"Topic8\", \"Topic8\", \"Topic8\", \"Topic8\", \"Topic8\", \"Topic8\", \"Topic8\", \"Topic8\", \"Topic8\", \"Topic8\", \"Topic8\", \"Topic8\", \"Topic8\", \"Topic8\", \"Topic8\", \"Topic8\", \"Topic8\", \"Topic8\", \"Topic8\", \"Topic8\", \"Topic8\", \"Topic8\", \"Topic8\", \"Topic8\", \"Topic8\", \"Topic8\", \"Topic8\", \"Topic9\", \"Topic9\", \"Topic9\", \"Topic9\", \"Topic9\", \"Topic9\", \"Topic9\", \"Topic9\", \"Topic9\", \"Topic9\", \"Topic9\", \"Topic9\", \"Topic9\", \"Topic9\", \"Topic9\", \"Topic9\", \"Topic9\", \"Topic9\", \"Topic9\", \"Topic9\", \"Topic9\", \"Topic9\", \"Topic9\", \"Topic9\", \"Topic9\", \"Topic9\", \"Topic9\", \"Topic9\", \"Topic9\", \"Topic9\", \"Topic9\", \"Topic9\", \"Topic9\", \"Topic9\", \"Topic9\", \"Topic9\", \"Topic9\", \"Topic9\", \"Topic9\", \"Topic9\", \"Topic9\", \"Topic9\", \"Topic9\", \"Topic9\", \"Topic9\", \"Topic9\", \"Topic9\", \"Topic9\", \"Topic9\", \"Topic9\", \"Topic9\", \"Topic9\", \"Topic9\", \"Topic9\", \"Topic9\", \"Topic9\", \"Topic9\", \"Topic9\", \"Topic9\", \"Topic9\", \"Topic9\", \"Topic10\", \"Topic10\", \"Topic10\", \"Topic10\", \"Topic10\", \"Topic10\", \"Topic10\", \"Topic10\", \"Topic10\", \"Topic10\", \"Topic10\", \"Topic10\", \"Topic10\", \"Topic10\", \"Topic10\", \"Topic10\", \"Topic10\", \"Topic10\", \"Topic10\", \"Topic10\", \"Topic10\", \"Topic10\", \"Topic10\", \"Topic10\", \"Topic10\", \"Topic10\", \"Topic10\", \"Topic10\", \"Topic10\", \"Topic10\", \"Topic10\", \"Topic10\", \"Topic10\", \"Topic10\", \"Topic10\", \"Topic10\", \"Topic10\", \"Topic10\", \"Topic10\", \"Topic10\", \"Topic10\", \"Topic10\", \"Topic10\", \"Topic10\", \"Topic10\", \"Topic10\", \"Topic10\", \"Topic10\", \"Topic10\", \"Topic10\", \"Topic10\", \"Topic10\", \"Topic10\", \"Topic10\", \"Topic10\", \"Topic10\", \"Topic10\", \"Topic10\", \"Topic10\", \"Topic11\", \"Topic11\", \"Topic11\", \"Topic11\", \"Topic11\", \"Topic11\", \"Topic11\", \"Topic11\", \"Topic11\", \"Topic11\", \"Topic11\", \"Topic11\", \"Topic11\", \"Topic11\", \"Topic11\", \"Topic11\", \"Topic11\", \"Topic11\", \"Topic11\", \"Topic11\", \"Topic11\", \"Topic11\", \"Topic11\", \"Topic11\", \"Topic11\", \"Topic11\", \"Topic11\", \"Topic11\", \"Topic11\", \"Topic11\", \"Topic11\", \"Topic11\", \"Topic11\", \"Topic11\", \"Topic11\", \"Topic11\", \"Topic11\", \"Topic11\", \"Topic11\", \"Topic11\", \"Topic11\", \"Topic11\", \"Topic11\", \"Topic11\", \"Topic11\", \"Topic11\", \"Topic11\", \"Topic12\", \"Topic12\", \"Topic12\", \"Topic12\", \"Topic12\", \"Topic12\", \"Topic12\", \"Topic12\", \"Topic12\", \"Topic12\", \"Topic12\", \"Topic12\", \"Topic12\", \"Topic12\", \"Topic12\", \"Topic12\", \"Topic12\", \"Topic12\", \"Topic12\", \"Topic12\", \"Topic12\", \"Topic12\", \"Topic12\", \"Topic12\", \"Topic12\", \"Topic12\", \"Topic12\", \"Topic12\", \"Topic12\", \"Topic12\", \"Topic12\", \"Topic12\", \"Topic12\", \"Topic12\", \"Topic12\", \"Topic12\", \"Topic12\", \"Topic12\", \"Topic12\", \"Topic12\", \"Topic12\", \"Topic12\", \"Topic12\", \"Topic12\", \"Topic12\", \"Topic12\", \"Topic13\", \"Topic13\", \"Topic13\", \"Topic13\", \"Topic13\", \"Topic13\", \"Topic13\", \"Topic13\", \"Topic13\", \"Topic13\", \"Topic13\", \"Topic13\", \"Topic13\", \"Topic13\", \"Topic13\", \"Topic13\", \"Topic13\", \"Topic13\", \"Topic13\", \"Topic13\", \"Topic13\", \"Topic13\", \"Topic13\", \"Topic13\", \"Topic13\", \"Topic13\", \"Topic13\", \"Topic13\", \"Topic13\", \"Topic13\", \"Topic13\", \"Topic13\", \"Topic13\", \"Topic13\", \"Topic13\", \"Topic13\", \"Topic13\", \"Topic13\", \"Topic13\", \"Topic13\", \"Topic13\", \"Topic13\", \"Topic13\", \"Topic13\", \"Topic13\", \"Topic13\", \"Topic13\", \"Topic13\", \"Topic14\", \"Topic14\", \"Topic14\", \"Topic14\", \"Topic14\", \"Topic14\", \"Topic14\", \"Topic14\", \"Topic14\", \"Topic14\", \"Topic14\", \"Topic14\", \"Topic14\", \"Topic14\", \"Topic14\", \"Topic14\", \"Topic14\", \"Topic14\", \"Topic14\", \"Topic14\", \"Topic14\", \"Topic14\", \"Topic14\", \"Topic14\", \"Topic14\", \"Topic14\", \"Topic14\", \"Topic14\", \"Topic14\", \"Topic14\", \"Topic14\", \"Topic14\", \"Topic14\", \"Topic14\", \"Topic14\", \"Topic14\", \"Topic14\", \"Topic14\", \"Topic14\", \"Topic14\", \"Topic14\", \"Topic14\", \"Topic15\", \"Topic15\", \"Topic15\", \"Topic15\", \"Topic15\", \"Topic15\", \"Topic15\", \"Topic15\", \"Topic15\", \"Topic15\", \"Topic15\", \"Topic15\", \"Topic15\", \"Topic15\", \"Topic15\", \"Topic15\", \"Topic15\", \"Topic15\", \"Topic15\", \"Topic15\", \"Topic15\", \"Topic15\", \"Topic15\", \"Topic15\", \"Topic15\", \"Topic15\", \"Topic15\", \"Topic15\", \"Topic15\", \"Topic15\", \"Topic15\", \"Topic15\", \"Topic15\", \"Topic15\", \"Topic15\", \"Topic15\", \"Topic15\", \"Topic15\", \"Topic15\", \"Topic15\", \"Topic16\", \"Topic16\", \"Topic16\", \"Topic16\", \"Topic16\", \"Topic16\", \"Topic16\", \"Topic16\", \"Topic16\", \"Topic16\", \"Topic16\", \"Topic16\", \"Topic16\", \"Topic16\", \"Topic16\", \"Topic16\", \"Topic16\", \"Topic16\", \"Topic16\", \"Topic16\", \"Topic16\", \"Topic16\", \"Topic16\", \"Topic16\", \"Topic16\", \"Topic16\", \"Topic16\", \"Topic16\", \"Topic16\", \"Topic16\", \"Topic16\", \"Topic16\", \"Topic16\", \"Topic16\", \"Topic16\", \"Topic16\", \"Topic16\", \"Topic17\", \"Topic17\", \"Topic17\", \"Topic17\", \"Topic17\", \"Topic17\", \"Topic17\", \"Topic17\", \"Topic17\", \"Topic17\", \"Topic17\", \"Topic17\", \"Topic17\", \"Topic17\", \"Topic17\", \"Topic17\", \"Topic17\", \"Topic17\", \"Topic17\", \"Topic17\", \"Topic17\", \"Topic17\", \"Topic17\", \"Topic17\", \"Topic17\", \"Topic17\", \"Topic17\", \"Topic17\", \"Topic17\", \"Topic17\", \"Topic17\", \"Topic17\", \"Topic17\", \"Topic17\", \"Topic17\", \"Topic17\", \"Topic17\", \"Topic17\", \"Topic18\", \"Topic18\", \"Topic18\", \"Topic18\", \"Topic18\", \"Topic18\", \"Topic18\", \"Topic18\", \"Topic18\", \"Topic18\", \"Topic18\", \"Topic18\", \"Topic18\", \"Topic18\", \"Topic18\", \"Topic18\", \"Topic18\", \"Topic18\", \"Topic18\", \"Topic18\", \"Topic18\", \"Topic18\", \"Topic18\", \"Topic18\", \"Topic18\", \"Topic18\", \"Topic18\", \"Topic18\", \"Topic18\", \"Topic18\", \"Topic18\", \"Topic18\", \"Topic18\", \"Topic18\", \"Topic18\", \"Topic18\", \"Topic18\", \"Topic18\", \"Topic18\", \"Topic18\", \"Topic18\", \"Topic18\", \"Topic18\", \"Topic18\", \"Topic18\", \"Topic18\", \"Topic18\", \"Topic18\", \"Topic18\", \"Topic18\", \"Topic18\", \"Topic18\", \"Topic18\", \"Topic18\", \"Topic18\", \"Topic18\", \"Topic18\", \"Topic18\", \"Topic18\", \"Topic18\", \"Topic18\", \"Topic18\", \"Topic18\", \"Topic18\", \"Topic18\", \"Topic18\", \"Topic18\", \"Topic18\", \"Topic18\", \"Topic18\", \"Topic18\", \"Topic18\", \"Topic18\", \"Topic18\", \"Topic18\", \"Topic18\", \"Topic18\", \"Topic18\", \"Topic18\", \"Topic18\", \"Topic18\", \"Topic18\", \"Topic18\", \"Topic18\", \"Topic18\", \"Topic18\", \"Topic18\", \"Topic18\", \"Topic18\", \"Topic18\", \"Topic18\", \"Topic18\", \"Topic18\", \"Topic18\", \"Topic18\", \"Topic18\", \"Topic18\", \"Topic18\", \"Topic18\", \"Topic18\", \"Topic18\", \"Topic18\", \"Topic18\", \"Topic19\", \"Topic19\", \"Topic19\", \"Topic19\", \"Topic19\", \"Topic19\", \"Topic19\", \"Topic19\", \"Topic19\", \"Topic19\", \"Topic19\", \"Topic19\", \"Topic19\", \"Topic19\", \"Topic19\", \"Topic19\", \"Topic19\", \"Topic19\", \"Topic19\", \"Topic19\", \"Topic19\", \"Topic19\", \"Topic19\", \"Topic19\", \"Topic19\", \"Topic19\", \"Topic19\", \"Topic19\", \"Topic19\", \"Topic19\", \"Topic19\", \"Topic19\", \"Topic19\", \"Topic19\", \"Topic19\", \"Topic19\", \"Topic19\", \"Topic19\", \"Topic19\", \"Topic19\", \"Topic19\", \"Topic19\", \"Topic19\", \"Topic19\", \"Topic19\", \"Topic19\", \"Topic19\", \"Topic19\", \"Topic19\", \"Topic19\", \"Topic19\", \"Topic19\", \"Topic19\", \"Topic19\", \"Topic19\", \"Topic19\", \"Topic19\", \"Topic19\", \"Topic19\", \"Topic19\", \"Topic20\", \"Topic20\", \"Topic20\", \"Topic20\", \"Topic20\", \"Topic20\", \"Topic20\", \"Topic20\", \"Topic20\", \"Topic20\", \"Topic20\", \"Topic20\", \"Topic20\", \"Topic20\", \"Topic20\", \"Topic20\", \"Topic20\", \"Topic20\", \"Topic20\", \"Topic20\", \"Topic20\", \"Topic20\", \"Topic20\", \"Topic20\", \"Topic20\", \"Topic20\", \"Topic20\", \"Topic20\", \"Topic20\", \"Topic20\", \"Topic20\", \"Topic20\", \"Topic20\", \"Topic20\", \"Topic20\", \"Topic20\", \"Topic20\", \"Topic20\", \"Topic20\", \"Topic20\", \"Topic20\", \"Topic20\", \"Topic20\", \"Topic20\", \"Topic20\", \"Topic20\", \"Topic20\", \"Topic20\", \"Topic20\", \"Topic20\", \"Topic20\", \"Topic20\", \"Topic20\", \"Topic20\", \"Topic20\", \"Topic20\", \"Topic20\", \"Topic20\", \"Topic20\", \"Topic20\"], \"logprob\": [30.0, 29.0, 28.0, 27.0, 26.0, 25.0, 24.0, 23.0, 22.0, 21.0, 20.0, 19.0, 18.0, 17.0, 16.0, 15.0, 14.0, 13.0, 12.0, 11.0, 10.0, 9.0, 8.0, 7.0, 6.0, 5.0, 4.0, 3.0, 2.0, 1.0, -6.019700050354004, -6.0279998779296875, -6.240600109100342, -6.306600093841553, -6.527100086212158, -6.575200080871582, -6.654200077056885, -6.762899875640869, -6.839900016784668, -6.8403000831604, -6.888000011444092, -6.891900062561035, -6.916100025177002, -6.946700096130371, -6.971499919891357, -7.003499984741211, -6.9899001121521, -7.024099826812744, -7.083899974822998, -7.011300086975098, -7.122700214385986, -7.182700157165527, -6.920599937438965, -7.2357001304626465, -7.277200222015381, -7.303100109100342, -7.335599899291992, -7.368199825286865, -7.400400161743164, -7.075300216674805, -6.499599933624268, -6.21120023727417, -6.767199993133545, -5.932400226593018, -6.901400089263916, -5.308800220489502, -6.161300182342529, -6.176700115203857, -6.01639986038208, -6.645999908447266, -4.7494001388549805, -5.750199794769287, -5.204999923706055, -6.370999813079834, -5.937900066375732, -6.224699974060059, -4.723999977111816, -6.390500068664551, -6.327600002288818, -5.916800022125244, -5.533599853515625, -5.4959001541137695, -5.491099834442139, -4.809500217437744, -5.0731000900268555, -5.562399864196777, -5.701000213623047, -5.5655999183654785, -5.511899948120117, -5.50540018081665, -5.160900115966797, -5.64870023727417, -5.338900089263916, -5.148600101470947, -5.672599792480469, -5.299499988555908, -5.253699779510498, -5.45359992980957, -5.706600189208984, -5.496300220489502, -5.644899845123291, -5.594799995422363, -5.65369987487793, -5.723199844360352, -5.406499862670898, -5.5335001945495605, -5.610099792480469, -5.027900218963623, -5.512499809265137, -4.980800151824951, -5.442299842834473, -5.764400005340576, -6.108799934387207, -6.24560022354126, -6.257400035858154, -6.3053998947143555, -6.348800182342529, -6.521900177001953, -5.352200031280518, -6.612800121307373, -6.543799877166748, -6.6905999183654785, -6.586900234222412, -6.770400047302246, -6.7758002281188965, -6.810200214385986, -6.814300060272217, -6.820300102233887, -6.823400020599365, -6.768199920654297, -6.879700183868408, -6.881700038909912, -6.888500213623047, -6.9028000831604, -6.908899784088135, -6.928999900817871, -7.006899833679199, -5.7972002029418945, -5.622300148010254, -5.606400012969971, -6.430200099945068, -5.929100036621094, -4.132599830627441, -4.0655999183654785, -6.355400085449219, -6.2820000648498535, -5.231900215148926, -4.565299987792969, -6.530799865722656, -4.5879998207092285, -6.181099891662598, -5.311800003051758, -5.771299839019775, -5.678999900817871, -4.776800155639648, -5.697199821472168, -6.166800022125244, -5.918600082397461, -5.9039998054504395, -6.0447001457214355, -5.514599800109863, -5.848700046539307, -5.012599945068359, -5.76140022277832, -4.888500213623047, -5.748499870300293, -4.5208001136779785, -5.6442999839782715, -5.306399822235107, -4.842899799346924, -4.966599941253662, -5.378900051116943, -5.647799968719482, -5.325900077819824, -5.46019983291626, -5.30709981918335, -5.42710018157959, -5.398399829864502, -5.427000045776367, -5.6041998863220215, -5.586299896240234, -3.2811999320983887, -5.618000030517578, -5.771100044250488, -5.941100120544434, -6.032400131225586, -6.12470006942749, -6.311299800872803, -6.396399974822998, -6.485000133514404, -6.55049991607666, -6.571599960327148, -6.538099765777588, -6.621200084686279, -6.668099880218506, -6.666900157928467, -6.361800193786621, -6.742800235748291, -6.743599891662598, -6.7017998695373535, -6.869200229644775, -6.876299858093262, -6.929299831390381, -6.954699993133545, -6.968900203704834, -7.009500026702881, -7.033299922943115, -6.469799995422363, -7.101399898529053, -7.102200031280518, -7.123899936676025, -6.040800094604492, -4.897299766540527, -4.158199787139893, -6.181600093841553, -4.396399974822998, -4.564300060272217, -5.874199867248535, -4.3059000968933105, -4.944900035858154, -4.066100120544434, -5.7342000007629395, -4.362100124359131, -4.650899887084961, -5.359799861907959, -4.1894001960754395, -5.783999919891357, -3.440000057220459, -5.973700046539307, -4.970699787139893, -6.106500148773193, -5.548999786376953, -4.873799800872803, -4.801799774169922, -5.766200065612793, -5.439000129699707, -5.154099941253662, -4.644599914550781, -5.331299781799316, -5.029799938201904, -5.52400016784668, -5.355299949645996, -5.265200138092041, -5.509399890899658, -5.450099945068359, -5.308899879455566, -5.519199848175049, -5.582900047302246, -4.70359992980957, -5.076900005340576, -5.695499897003174, -5.854800224304199, -5.947400093078613, -5.457300186157227, -5.259699821472168, -5.67609977722168, -6.157100200653076, -6.184700012207031, -6.294099807739258, -6.446499824523926, -6.480800151824951, -6.493800163269043, -5.701000213623047, -6.52370023727417, -6.537700176239014, -6.537700176239014, -6.524199962615967, -5.567299842834473, -6.587100028991699, -6.599400043487549, -6.573599815368652, -6.642600059509277, -6.678500175476074, -6.626800060272217, -6.72130012512207, -6.729100227355957, -4.595200061798096, -6.747499942779541, -3.802799940109253, -5.325300216674805, -5.786900043487549, -4.290999889373779, -3.790600061416626, -4.17519998550415, -4.659200191497803, -3.259500026702881, -4.744699954986572, -5.3572998046875, -5.98859977722168, -5.631899833679199, -5.502699851989746, -5.911799907684326, -5.303100109100342, -5.0945000648498535, -4.517099857330322, -2.825000047683716, -4.69789981842041, -5.250899791717529, -4.717599868774414, -4.66949987411499, -4.7245001792907715, -5.244800090789795, -5.168499946594238, -4.5980000495910645, -4.900599956512451, -4.944699764251709, -4.457300186157227, -5.2692999839782715, -5.093200206756592, -5.0655999183654785, -5.004300117492676, -5.231400012969971, -5.2153000831604, -5.175300121307373, -5.694300174713135, -5.7469000816345215, -5.828100204467773, -5.88040018081665, -5.892300128936768, -5.969399929046631, -5.627200126647949, -6.212299823760986, -6.138800144195557, -6.3028998374938965, -6.384900093078613, -6.427700042724609, -6.480800151824951, -6.516900062561035, -6.583899974822998, -6.617700099945068, -6.629499912261963, -6.657800197601318, -6.671299934387207, -6.725800037384033, -6.616199970245361, -6.731500148773193, -6.732100009918213, -6.747000217437744, -6.764100074768066, -6.786600112915039, -6.7967000007629395, -6.802499771118164, -6.831600189208984, -5.438000202178955, -6.087800025939941, -6.440100193023682, -4.1656999588012695, -4.617199897766113, -5.356599807739258, -5.853300094604492, -5.1132001876831055, -4.518099784851074, -5.18779993057251, -5.475500106811523, -5.212699890136719, -4.276800155639648, -5.411099910736084, -5.8454999923706055, -4.803299903869629, -4.9847002029418945, -4.656599998474121, -4.982699871063232, -4.418099880218506, -4.44350004196167, -5.401000022888184, -5.04010009765625, -5.105100154876709, -5.331399917602539, -5.456900119781494, -5.359099864959717, -5.432499885559082, -5.418799877166748, -5.136199951171875, -5.366000175476074, -5.325099945068359, -5.469699859619141, -4.088099956512451, -4.09119987487793, -4.310200214385986, -4.811500072479248, -4.935999870300293, -5.118000030517578, -5.156199932098389, -5.252600193023682, -5.369900226593018, -5.3582000732421875, -5.3582000732421875, -5.383800029754639, -5.744100093841553, -5.751500129699707, -5.7631001472473145, -5.7631001472473145, -5.89709997177124, -5.750500202178955, -6.285600185394287, -6.351900100708008, -3.914099931716919, -6.42710018157959, -6.421199798583984, -4.731200218200684, -6.464000225067139, -6.677800178527832, -6.691999912261963, -6.692699909210205, -6.7027997970581055, -5.083799839019775, -5.818699836730957, -5.847400188446045, -4.988999843597412, -5.653299808502197, -5.156599998474121, -5.379700183868408, -4.087699890136719, -4.956500053405762, -4.367400169372559, -5.169899940490723, -4.55049991607666, -4.876500129699707, -5.337299823760986, -5.162199974060059, -4.569699764251709, -4.848299980163574, -4.472400188446045, -5.039899826049805, -4.474400043487549, -5.1367998123168945, -4.940299987792969, -5.109899997711182, -5.1128997802734375, -5.045499801635742, -4.806399822235107, -4.890900135040283, -5.103799819946289, -5.052299976348877, -5.05620002746582, -5.10099983215332, -5.1946001052856445, -3.843899965286255, -5.38100004196167, -5.477799892425537, -5.514900207519531, -3.422499895095825, -5.533599853515625, -5.737199783325195, -5.842599868774414, -5.869999885559082, -5.915800094604492, -5.938399791717529, -6.103000164031982, -6.188300132751465, -6.234600067138672, -6.246300220489502, -6.253499984741211, -6.273399829864502, -6.277699947357178, -6.36460018157959, -5.710899829864502, -6.533299922943115, -6.537700176239014, -6.544400215148926, -6.5746002197265625, -6.576200008392334, -6.621799945831299, -6.735099792480469, -6.746600151062012, -6.764400005340576, -6.1346001625061035, -5.46750020980835, -5.979599952697754, -5.44890022277832, -3.9435999393463135, -4.073999881744385, -5.76039981842041, -5.05709981918335, -5.146699905395508, -5.376999855041504, -2.027899980545044, -5.295400142669678, -4.330399990081787, -4.960999965667725, -5.434000015258789, -5.077499866485596, -4.154600143432617, -3.9035000801086426, -5.4583001136779785, -4.872300148010254, -5.0914998054504395, -4.371099948883057, -4.946300029754639, -5.494999885559082, -4.71589994430542, -5.271299839019775, -4.892099857330322, -4.833799839019775, -4.754499912261963, -4.971099853515625, -5.026400089263916, -5.194699764251709, -5.173600196838379, -5.174900054931641, -5.2881999015808105, -5.329100131988525, -4.976900100708008, -5.348400115966797, -4.981200218200684, -5.624899864196777, -5.648499965667725, -5.657599925994873, -5.700200080871582, -5.752299785614014, -5.932300090789795, -5.942299842834473, -5.946599960327148, -5.967599868774414, -6.028600215911865, -6.078100204467773, -6.167099952697754, -6.177999973297119, -6.260799884796143, -6.264800071716309, -6.282400131225586, -6.3053998947143555, -6.321300029754639, -6.333700180053711, -6.342599868774414, -6.3572998046875, -6.426799774169922, -6.4355998039245605, -6.442299842834473, -6.4446001052856445, -6.446199893951416, -6.455999851226807, -5.917399883270264, -5.0254998207092285, -6.204699993133545, -5.308899879455566, -4.439599990844727, -5.303400039672852, -5.458899974822998, -5.199100017547607, -5.361999988555908, -5.457699775695801, -5.924799919128418, -5.570199966430664, -5.318399906158447, -5.626100063323975, -5.100500106811523, -4.803699970245361, -5.318900108337402, -4.776700019836426, -4.803899765014648, -4.53980016708374, -5.165999889373779, -5.195700168609619, -5.438799858093262, -4.87470006942749, -5.326000213623047, -4.961900234222412, -5.195400238037109, -4.756899833679199, -5.086100101470947, -4.998600006103516, -5.127600193023682, -5.265100002288818, -5.116300106048584, -5.10230016708374, -5.12470006942749, -5.2866997718811035, -5.293099880218506, -5.301400184631348, -4.518499851226807, -4.8180999755859375, -5.02209997177124, -5.163099765777588, -5.374199867248535, -5.389100074768066, -5.467800140380859, -5.508600234985352, -3.7330000400543213, -5.755099773406982, -5.763999938964844, -5.914899826049805, -5.916900157928467, -6.020999908447266, -6.048900127410889, -6.05079984664917, -6.086699962615967, -6.1290998458862305, -5.338600158691406, -6.193999767303467, -6.243500232696533, -6.253600120544434, -6.400300025939941, -6.510799884796143, -6.5447001457214355, -6.582799911499023, -6.583499908447266, -6.591899871826172, -6.5954999923706055, -6.606200218200684, -4.930600166320801, -3.8208999633789062, -5.264699935913086, -4.642499923706055, -4.100599765777588, -5.709700107574463, -4.6143999099731445, -4.883900165557861, -4.619500160217285, -4.547999858856201, -5.090199947357178, -3.506700038909912, -4.207200050354004, -3.812700033187866, -5.160200119018555, -4.7519001960754395, -4.8607001304626465, -4.458899974822998, -4.151599884033203, -3.683000087738037, -4.543499946594238, -4.804299831390381, -4.721399784088135, -4.513000011444092, -4.6290998458862305, -4.650100231170654, -5.047299861907959, -4.968400001525879, -4.851600170135498, -4.924499988555908, -5.026199817657471, -4.088099956512451, -5.015500068664551, -5.288599967956543, -5.420100212097168, -5.498700141906738, -5.632299900054932, -5.670000076293945, -5.69350004196167, -4.264200210571289, -5.771599769592285, -5.182199954986572, -5.8317999839782715, -5.849899768829346, -5.913099765777588, -5.979800224304199, -5.985199928283691, -6.004199981689453, -6.025100231170654, -6.052299976348877, -6.071300029754639, -6.089200019836426, -6.113500118255615, -6.133200168609619, -6.192500114440918, -6.197400093078613, -6.23199987411499, -6.246399879455566, -6.292600154876709, -6.341800212860107, -6.35129976272583, -4.9334001541137695, -5.762499809265137, -2.921299934387207, -4.4182000160217285, -5.586599826812744, -5.3821001052856445, -5.395400047302246, -2.941800117492676, -4.395199775695801, -5.537199974060059, -5.324399948120117, -5.486000061035156, -4.647600173950195, -5.208199977874756, -5.439599990844727, -4.372099876403809, -4.394499778747559, -4.38100004196167, -5.204500198364258, -4.323299884796143, -5.385700225830078, -4.90910005569458, -5.161399841308594, -5.378799915313721, -5.178899765014648, -5.341700077056885, -5.185400009155273, -5.314199924468994, -5.429599761962891, -3.2527999877929688, -3.386199951171875, -3.5401999950408936, -3.5401999950408936, -3.6735999584198, -3.945199966430664, -3.945199966430664, -4.060800075531006, -4.6367998123168945, -4.6367998123168945, -4.6367998123168945, -4.873899936676025, -4.923399925231934, -5.326900005340576, -5.326900005340576, -5.326900005340576, -5.390999794006348, -5.612500190734863, -5.698800086975098, -5.807499885559082, -4.434700012207031, -5.89769983291626, -6.154099941253662, -6.242000102996826, -6.3196001052856445, -6.155300140380859, -6.464000225067139, -6.484600067138672, -6.486400127410889, -6.695099830627441, -6.695099830627441, -4.769100189208984, -4.83519983291626, -4.709700107574463, -3.6115000247955322, -4.9303998947143555, -3.8273000717163086, -4.559000015258789, -3.5643999576568604, -4.770999908447266, -5.172100067138672, -5.062699794769287, -4.617000102996826, -5.079899787902832, -5.077199935913086, -5.1666998863220215, -5.1975998878479, -4.385700225830078, -4.457200050354004, -4.539999961853027, -4.579800128936768, -4.60699987411499, -4.765999794006348, -4.816999912261963, -4.832799911499023, -4.8520002365112305, -4.957099914550781, -4.078000068664551, -5.312600135803223, -5.337800025939941, -5.376699924468994, -5.427499771118164, -5.473400115966797, -4.529900074005127, -5.542099952697754, -5.589200019836426, -5.593100070953369, -4.860099792480469, -5.7153000831604, -5.724100112915039, -5.737599849700928, -5.758500099182129, -5.7820000648498535, -5.85129976272583, -5.851200103759766, -5.871600151062012, -5.879700183868408, -4.9197001457214355, -5.086999893188477, -4.144999980926514, -4.9832000732421875, -4.998899936676025, -4.002600193023682, -4.844900131225586, -5.0040998458862305, -3.734600067138672, -4.31879997253418, -4.696499824523926, -5.306700229644775, -5.313600063323975, -4.772299766540527, -5.330399990081787, -5.333799839019775, -4.295199871063232, -4.731800079345703, -5.4045000076293945, -5.412600040435791, -5.506899833679199, -5.524499893188477, -5.533699989318848, -5.589300155639648, -5.630799770355225, -4.249800205230713, -5.761300086975098, -4.405600070953369, -3.8505001068115234, -6.2104997634887695, -6.226099967956543, -3.8986001014709473, -5.711400032043457, -6.409900188446045, -6.430600166320801, -5.436699867248535, -4.1066999435424805, -5.5503997802734375, -6.717700004577637, -4.719799995422363, -4.731800079345703, -4.82289981842041, -5.217599868774414, -4.9816999435424805, -6.048600196838379, -4.130199909210205, -4.43209981918335, -4.131800174713135, -4.698800086975098, -5.149700164794922, -4.188899993896484, -4.890500068664551, -4.2769999504089355, -4.253699779510498, -4.805300235748291, -4.524700164794922, -4.191400051116943, -4.4567999839782715, -4.779399871826172, -4.687300205230713, -5.056700229644775, -5.162199974060059, -5.199900150299072, -5.1975998878479, -4.139500141143799, -4.4257001876831055, -4.587600231170654, -4.5991997718811035, -4.941999912261963, -5.057300090789795, -5.132699966430664, -5.23960018157959, -5.301799774169922, -5.442800045013428, -5.491799831390381, -5.508200168609619, -5.53410005569458, -5.577400207519531, -5.026800155639648, -3.8701000213623047, -5.735499858856201, -5.765999794006348, -5.948599815368652, -5.9720001220703125, -6.009699821472168, -6.189499855041504, -6.189799785614014, -6.189799785614014, -6.189799785614014, -6.2204999923706055, -6.252900123596191, -6.253699779510498, -6.356500148773193, -5.105299949645996, -5.423399925231934, -4.737299919128418, -4.592299938201904, -4.07450008392334, -4.107399940490723, -5.8653998374938965, -5.224299907684326, -5.263800144195557, -5.206999778747559, -5.59060001373291, -5.581399917602539, -5.857399940490723, -3.1745998859405518, -3.422600030899048, -4.59499979019165, -4.9070000648498535, -4.963099956512451, -5.226799964904785, -5.473800182342529, -5.533599853515625, -5.423900127410889, -5.6570000648498535, -5.664299964904785, -5.837500095367432, -5.853400230407715, -6.017099857330322, -6.028200149536133, -6.127200126647949, -6.245500087738037, -6.249300003051758, -6.263000011444092, -6.36299991607666, -6.366300106048584, -6.392399787902832, -6.396100044250488, -6.404900074005127, -6.4145002365112305, -6.585700035095215, -6.600299835205078, -6.605599880218506, -5.362400054931641, -6.750899791717529, -5.736800193786621, -5.4791998863220215, -5.975399971008301, -5.5569000244140625, -5.179999828338623, -5.77239990234375, -5.967100143432617, -5.957699775695801, -6.291200160980225, -6.362100124359131, -4.095900058746338, -4.197400093078613, -4.785999774932861, -4.9405999183654785, -5.002200126647949, -5.026899814605713, -5.077600002288818, -5.188399791717529, -5.295199871063232, -5.338399887084961, -5.355100154876709, -5.403600215911865, -4.05679988861084, -5.628200054168701, -5.804800033569336, -5.804900169372559, -5.85230016708374, -6.023200035095215, -6.0233001708984375, -6.336699962615967, -6.353499889373779, -6.336699962615967, -5.122000217437744, -6.537099838256836, -6.5447001457214355, -6.577499866485596, -6.6930999755859375, -6.6930999755859375, -6.6930999755859375, -6.701099872589111, -5.53380012512207, -5.018700122833252, -5.184800148010254, -6.4182000160217285, -6.049699783325195, -5.990200042724609, -6.170300006866455, -4.7789998054504395, -3.651599884033203, -5.3491997718811035, -5.898200035095215, -5.9878997802734375, -6.180300235748291, -6.2032999992370605, -6.20959997177124, -6.568299770355225, -6.894199848175049, -7.218400001525879, -7.218400001525879, -7.218400001525879, -7.218400001525879, -7.218400001525879, -7.218400001525879, -7.218400001525879, -7.232500076293945, -7.232500076293945, -6.572199821472168, -7.218400001525879, -7.218400001525879, -7.431000232696533, -7.225399971008301, -9.623900413513184, -9.623900413513184, -9.62399959564209, -9.623900413513184, -9.62399959564209, -9.62399959564209, -9.62399959564209, -9.62399959564209, -9.60949993133545, -9.61870002746582, -9.61989974975586, -9.620400428771973, -9.621100425720215, -9.621399879455566, -6.389800071716309, -9.56149959564209, -9.56149959564209, -9.56149959564209, -9.56149959564209, -9.56149959564209, -9.56149959564209, -9.56149959564209, -9.56149959564209, -9.561599731445312, -9.561599731445312, -9.561599731445312, -9.561599731445312, -9.561599731445312, -9.561599731445312, -9.561599731445312, -9.561599731445312, -9.561599731445312, -9.561599731445312, -9.561599731445312, -9.561599731445312, -9.561599731445312, -9.561599731445312, -9.561599731445312, -9.561599731445312, -9.561599731445312, -9.561599731445312, -9.561599731445312, -9.561599731445312, -9.561599731445312, -9.56149959564209, -9.561599731445312, -9.561599731445312, -9.561599731445312, -9.561599731445312, -9.56149959564209, -9.56149959564209, -9.56149959564209, -9.56149959564209, -9.56149959564209, -9.561599731445312, -9.561599731445312, -9.561599731445312, -9.561599731445312, -9.561599731445312, -9.561599731445312, -9.561599731445312, -9.561599731445312, -9.561599731445312, -9.561599731445312, -9.561599731445312, -9.561599731445312, -9.561599731445312, -9.561599731445312, -9.56149959564209, -9.561599731445312, -9.561599731445312, -9.56149959564209, -9.561599731445312, -9.561599731445312, -9.561599731445312, -9.561599731445312, -9.561599731445312, -9.561599731445312, -9.56149959564209, -9.561599731445312, -9.561599731445312, -9.561599731445312, -9.56149959564209, -9.561599731445312, -9.561599731445312, -9.56149959564209, -9.561599731445312, -9.56149959564209, -9.56149959564209, -9.56149959564209, -9.56149959564209, -9.56149959564209, -9.56149959564209, -9.56149959564209, -9.56149959564209, -9.56149959564209, -9.56149959564209, -9.56149959564209, -9.56149959564209, -9.56149959564209, -9.56149959564209, -9.56149959564209, -9.56149959564209, -9.56149959564209, -9.56149959564209, -9.56149959564209, -9.56149959564209, -9.56149959564209, -9.56149959564209, -9.56149959564209, -9.56149959564209, -9.56149959564209, -9.56149959564209, -9.56149959564209, -9.56149959564209, -9.56149959564209, -9.56149959564209, -9.559900283813477, -9.559900283813477, -9.559900283813477, -9.559900283813477, -9.559900283813477, -9.559900283813477, -9.559900283813477, -9.559900283813477, -9.559900283813477, -9.559900283813477, -9.559900283813477, -9.559900283813477, -9.559900283813477, -9.559900283813477, -9.559900283813477, -9.559900283813477, -9.559900283813477, -9.559900283813477, -9.559900283813477, -9.559900283813477, -9.559900283813477, -9.559900283813477, -9.559900283813477, -9.559900283813477, -9.559900283813477, -9.559900283813477, -9.559900283813477, -9.559900283813477, -9.559900283813477, -9.559900283813477, -9.559900283813477, -9.559900283813477, -9.559900283813477, -9.559900283813477, -9.559900283813477, -9.559900283813477, -9.559900283813477, -9.559900283813477, -9.559900283813477, -9.559900283813477, -9.559900283813477, -9.559900283813477, -9.559900283813477, -9.559900283813477, -9.559900283813477, -9.559900283813477, -9.559900283813477, -9.559900283813477, -9.559900283813477, -9.559900283813477, -9.559900283813477, -9.559900283813477, -9.559900283813477, -9.559900283813477, -9.559900283813477, -9.559900283813477, -9.559900283813477, -9.559900283813477, -9.559900283813477, -9.559900283813477, -9.559900283813477, -9.559900283813477, -9.559900283813477, -9.559900283813477, -9.559900283813477, -9.559900283813477, -9.559900283813477, -9.559900283813477, -9.559900283813477, -9.559900283813477, -9.559900283813477, -9.559900283813477, -9.559900283813477, -9.559900283813477, -9.559900283813477, -9.559900283813477, -9.559900283813477, -9.559900283813477, -9.559900283813477, -9.559900283813477, -9.559900283813477, -9.559900283813477, -9.559900283813477, -9.559900283813477, -9.559900283813477, -9.559900283813477, -9.559900283813477, -9.559900283813477, -9.559900283813477, -9.559900283813477, -9.559900283813477, -9.559900283813477, -9.559900283813477, -9.559900283813477, -9.559900283813477, -9.559900283813477, -9.559900283813477, -9.559900283813477, -9.559900283813477, -9.559900283813477, -9.559900283813477, -9.559900283813477, -9.559900283813477, -9.559900283813477, -9.559900283813477, -9.559900283813477, -9.559900283813477, -9.559900283813477, -9.559900283813477, -9.559900283813477, -9.559900283813477, -9.559900283813477, -9.559900283813477, -9.559900283813477, -9.559900283813477, -9.559900283813477, -9.559900283813477, -9.559900283813477, -9.559900283813477, -9.559900283813477], \"loglift\": [30.0, 29.0, 28.0, 27.0, 26.0, 25.0, 24.0, 23.0, 22.0, 21.0, 20.0, 19.0, 18.0, 17.0, 16.0, 15.0, 14.0, 13.0, 12.0, 11.0, 10.0, 9.0, 8.0, 7.0, 6.0, 5.0, 4.0, 3.0, 2.0, 1.0, 0.921999990940094, 0.921500027179718, 0.9208999872207642, 0.9205999970436096, 0.9190999865531921, 0.9186000227928162, 0.9179999828338623, 0.9171000123023987, 0.9162999987602234, 0.916100025177002, 0.9157999753952026, 0.9157999753952026, 0.9154999852180481, 0.9151999950408936, 0.914900004863739, 0.9144999980926514, 0.9144999980926514, 0.9143000245094299, 0.9135000109672546, 0.9135000109672546, 0.9128000140190125, 0.9121999740600586, 0.9121000170707703, 0.9114000201225281, 0.9107999801635742, 0.9103999733924866, 0.9096999764442444, 0.9090999960899353, 0.9086999893188477, 0.9085000157356262, 0.906499981880188, 0.8934999704360962, 0.902899980545044, 0.8855000138282776, 0.9002000093460083, 0.8217999935150146, 0.8641999959945679, 0.861299991607666, 0.8478999733924866, 0.8847000002861023, 0.7470999956130981, 0.8205999732017517, 0.7717000246047974, 0.8598999977111816, 0.8183000087738037, 0.8454999923706055, 0.6848000288009644, 0.8579000234603882, 0.8474000096321106, 0.795199990272522, 0.7132999897003174, 0.7063000202178955, 0.6977999806404114, 0.5860999822616577, 0.6209999918937683, 0.6967999935150146, 0.7124999761581421, 0.6714000105857849, 0.6567999720573425, 0.6478999853134155, 0.521399974822998, 0.6417999863624573, 0.5264000296592712, 0.4198000133037567, 0.6031000018119812, 0.40959998965263367, 0.37439998984336853, 0.42739999294281006, 0.5799000263214111, 0.376800000667572, 0.48919999599456787, 0.4325000047683716, 0.4909000098705292, 0.5292999744415283, 0.07980000227689743, 0.24869999289512634, -0.2687000036239624, 2.035599946975708, 2.032099962234497, 2.031899929046631, 2.0318000316619873, 2.030100107192993, 2.0257999897003174, 2.023699998855591, 2.0234999656677246, 2.022599935531616, 2.0218000411987305, 2.0183000564575195, 2.017400026321411, 2.0160999298095703, 2.015000104904175, 2.0141000747680664, 2.0127999782562256, 2.01200008392334, 2.011899948120117, 2.0109000205993652, 2.0107998847961426, 2.0106000900268555, 2.010499954223633, 2.009500026702881, 2.0088000297546387, 2.008699893951416, 2.008500099182129, 2.0081000328063965, 2.0078001022338867, 2.006999969482422, 2.0046000480651855, 2.0030999183654785, 1.9809000492095947, 1.9651999473571777, 1.9903000593185425, 1.9694000482559204, 1.8914999961853027, 1.8837000131607056, 1.9853999614715576, 1.9793000221252441, 1.9101999998092651, 1.8590999841690063, 1.9926999807357788, 1.8360999822616577, 1.9658000469207764, 1.8884999752044678, 1.9258999824523926, 1.906999945640564, 1.7906999588012695, 1.8889000415802002, 1.951300024986267, 1.9072999954223633, 1.9005000591278076, 1.9270999431610107, 1.7276999950408936, 1.8229000568389893, 1.4326000213623047, 1.7767000198364258, 1.361799955368042, 1.7647000551223755, 1.0362999439239502, 1.653499960899353, 1.3348000049591064, 0.7254999876022339, 0.7425000071525574, 1.2493000030517578, 1.551800012588501, 0.807200014591217, 1.0964000225067139, 0.6868000030517578, 0.9218000173568726, 0.8246999979019165, 0.6845999956130981, 1.2440999746322632, 0.7807999849319458, 2.495800018310547, 2.4930999279022217, 2.490799903869629, 2.487600088119507, 2.4856998920440674, 2.4830000400543213, 2.4786999225616455, 2.4762001037597656, 2.473299980163574, 2.4709999561309814, 2.4702000617980957, 2.4697000980377197, 2.468400001525879, 2.4665000438690186, 2.466399908065796, 2.463399887084961, 2.463399887084961, 2.4632999897003174, 2.458899974822998, 2.4574999809265137, 2.4570999145507812, 2.4544999599456787, 2.4530999660491943, 2.4523000717163086, 2.450200080871582, 2.4488000869750977, 2.447000026702881, 2.4447999000549316, 2.444700002670288, 2.4433999061584473, 2.4379000663757324, 2.4260001182556152, 2.3891000747680664, 2.4296998977661133, 2.3717000484466553, 2.3701999187469482, 2.4114999771118164, 2.3254001140594482, 2.3433001041412354, 2.2225000858306885, 2.362600088119507, 2.165299892425537, 2.1905999183654785, 2.27839994430542, 2.0882999897003174, 2.3292999267578125, 1.9013999700546265, 2.3566999435424805, 2.091200113296509, 2.36680006980896, 2.1468000411987305, 1.8916000127792358, 1.7753000259399414, 2.1468000411987305, 1.881500005722046, 1.6438000202178955, 1.1375999450683594, 1.7455999851226807, 1.4186999797821045, 1.559999942779541, 1.0952999591827393, 0.8567000031471252, 1.194000005722046, 0.8988999724388123, 0.17739999294281006, 0.8636999726295471, 0.09939999878406525, 2.535399913787842, 2.5327000617980957, 2.5250000953674316, 2.522599935531616, 2.5208001136779785, 2.5201001167297363, 2.5178000926971436, 2.5160999298095703, 2.5160000324249268, 2.5153000354766846, 2.5123000144958496, 2.5076000690460205, 2.506500005722046, 2.50600004196167, 2.5058999061584473, 2.505000114440918, 2.504499912261963, 2.504499912261963, 2.5030999183654785, 2.503000020980835, 2.5025999546051025, 2.50219988822937, 2.5007998943328857, 2.500499963760376, 2.499000072479248, 2.4976999759674072, 2.4972000122070312, 2.4969000816345215, 2.496000051498413, 2.496000051498413, 2.482300043106079, 2.4823999404907227, 2.483599901199341, 2.4509999752044678, 2.3348000049591064, 2.346400022506714, 2.3673999309539795, 2.189199924468994, 2.3101999759674072, 2.368799924850464, 2.440000057220459, 2.377700090408325, 2.3519999980926514, 2.4103000164031982, 2.269399881362915, 2.203000068664551, 2.0383999347686768, 1.4829000234603882, 2.035799980163574, 2.166300058364868, 1.9557000398635864, 1.8691999912261963, 1.8545000553131104, 2.1222000122070312, 2.0657999515533447, 1.608199954032898, 1.7139999866485596, 1.7177000045776367, 1.0290000438690186, 1.9151999950408936, 1.3488999605178833, 1.181399941444397, 0.33709999918937683, 1.3457000255584717, 1.0710999965667725, 2.5792999267578125, 2.5724000930786133, 2.571500062942505, 2.569999933242798, 2.569000005722046, 2.568700075149536, 2.566999912261963, 2.564300060272217, 2.561000108718872, 2.558799982070923, 2.558300018310547, 2.5557000637054443, 2.55430006980896, 2.5524001121520996, 2.5510001182556152, 2.54830002784729, 2.546999931335449, 2.5464999675750732, 2.545300006866455, 2.5446999073028564, 2.54229998588562, 2.542099952697754, 2.5420000553131104, 2.5420000553131104, 2.541300058364868, 2.5404999256134033, 2.539400100708008, 2.5388998985290527, 2.538599967956543, 2.537100076675415, 2.5118000507354736, 2.503200054168701, 2.5208001136779785, 2.3436999320983887, 2.2862000465393066, 2.3368000984191895, 2.3993000984191895, 2.1923000812530518, 2.0164999961853027, 2.161600112915039, 2.2167000770568848, 2.112499952316284, 1.7171000242233276, 2.0766000747680664, 2.171299934387207, 1.5364999771118164, 1.6460000276565552, 1.4062000513076782, 1.589900016784668, 1.1390000581741333, 0.9520999789237976, 1.728600025177002, 1.1267999410629272, 1.0635000467300415, 1.3805999755859375, 1.4823999404907227, 1.079200029373169, 1.2544000148773193, 1.181399941444397, 0.272599995136261, 1.0104999542236328, 0.5479999780654907, 0.5827999711036682, 2.6440000534057617, 2.6440000534057617, 2.6431000232696533, 2.640199899673462, 2.63919997215271, 2.637500047683716, 2.636899948120117, 2.6361000537872314, 2.6345999240875244, 2.634500026702881, 2.634500026702881, 2.634500026702881, 2.6287999153137207, 2.6285998821258545, 2.628200054168701, 2.628200054168701, 2.625699996948242, 2.624799966812134, 2.6154000759124756, 2.613300085067749, 2.6115000247955322, 2.610599994659424, 2.6105000972747803, 2.609600067138672, 2.6092000007629395, 2.6003000736236572, 2.599600076675415, 2.599600076675415, 2.599100112915039, 2.592099905014038, 2.587399959564209, 2.561800003051758, 2.512700080871582, 2.545799970626831, 2.4725000858306885, 2.47189998626709, 2.253499984741211, 2.3427000045776367, 2.1867001056671143, 2.362600088119507, 2.1607000827789307, 2.2090001106262207, 2.3866000175476074, 2.2407000064849854, 1.839400053024292, 1.9783999919891357, 1.5801000595092773, 1.9953999519348145, 1.1535999774932861, 2.0495998859405518, 1.6031999588012695, 1.9812999963760376, 1.9641000032424927, 1.740399956703186, 0.9757999777793884, 0.7914999723434448, 1.8395999670028687, 1.2253999710083008, 1.110700011253357, 0.7721999883651733, 2.7191998958587646, 2.7174999713897705, 2.7167000770568848, 2.7153000831604004, 2.7146999835968018, 2.714400053024292, 2.714400053024292, 2.710599899291992, 2.708400011062622, 2.707900047302246, 2.7067999839782715, 2.7063000202178955, 2.701900005340576, 2.699399948120117, 2.6979000568389893, 2.697499990463257, 2.6972999572753906, 2.6965999603271484, 2.6963999271392822, 2.6933999061584473, 2.692199945449829, 2.6865999698638916, 2.6863999366760254, 2.6861000061035156, 2.684799909591675, 2.6847000122070312, 2.6826000213623047, 2.677000045776367, 2.676300048828125, 2.6754000186920166, 2.6738998889923096, 2.6572000980377197, 2.6638998985290527, 2.6361000537872314, 2.5678999423980713, 2.56030011177063, 2.6470999717712402, 2.603300094604492, 2.608099937438965, 2.619499921798706, 2.279900074005127, 2.5952999591827393, 2.479300022125244, 2.4862000942230225, 2.5601000785827637, 2.496999979019165, 2.312999963760376, 2.151099920272827, 2.5007998943328857, 2.223099946975708, 2.301500082015991, 1.9335999488830566, 2.2284998893737793, 2.4946000576019287, 1.9464000463485718, 2.307800054550171, 1.9484000205993652, 1.6440000534057617, 1.45169997215271, 1.5099999904632568, 1.5861999988555908, 1.9754999876022339, 1.8983999490737915, 0.27390000224113464, 0.9873999953269958, 1.6093000173568726, 3.1602001190185547, 3.1535000801086426, 3.150399923324585, 3.146699905395508, 3.1461000442504883, 3.1454999446868896, 3.144399881362915, 3.142899990081787, 3.136699914932251, 3.1363000869750977, 3.1361000537872314, 3.1352999210357666, 3.1328999996185303, 3.1308000087738037, 3.126699924468994, 3.126199960708618, 3.1221001148223877, 3.1219000816345215, 3.121000051498413, 3.1196999549865723, 3.1189000606536865, 3.1182000637054443, 3.1177000999450684, 3.1168999671936035, 3.112600088119507, 3.112299919128418, 3.111799955368042, 3.1117000579833984, 3.111599922180176, 3.1110000610351562, 3.1106998920440674, 3.0924999713897705, 3.105799913406372, 3.0346999168395996, 2.9512999057769775, 3.006999969482422, 3.0162999629974365, 2.8922998905181885, 2.921999931335449, 2.9189000129699707, 2.993000030517578, 2.8252999782562256, 2.704400062561035, 2.81469988822937, 2.541300058364868, 2.3606998920440674, 2.6136999130249023, 2.2379000186920166, 2.2309000492095947, 1.958299994468689, 2.424099922180176, 2.415299892425537, 2.601099967956543, 1.9641000032424927, 2.2950000762939453, 1.5405000448226929, 1.9889999628067017, 0.7294999957084656, 1.441499948501587, 1.1345000267028809, 1.378600001335144, 1.7984000444412231, 0.9952999949455261, 0.39419999718666077, 0.27090001106262207, 1.2978999614715576, 1.4412000179290771, 1.4678000211715698, 4.1433000564575195, 4.1402997970581055, 4.131700038909912, 4.126200199127197, 4.115099906921387, 4.114200115203857, 4.109300136566162, 4.1066999435424805, 4.101399898529053, 4.0883002281188965, 4.087500095367432, 4.074100017547607, 4.07390022277832, 4.063300132751465, 4.060400009155273, 4.059800148010254, 4.05620002746582, 4.051300048828125, 4.050000190734863, 4.043600082397461, 4.037300109863281, 4.035999774932861, 4.015699863433838, 3.9986000061035156, 3.993000030517578, 3.986599922180176, 3.9865000247955322, 3.984999895095825, 3.9844000339508057, 3.9825000762939453, 3.9298999309539795, 3.8243000507354736, 3.884200096130371, 3.8046998977661133, 3.6937999725341797, 3.8759000301361084, 3.6549999713897705, 3.6702001094818115, 3.5734000205993652, 3.536600112915039, 3.5201001167297363, 2.5560998916625977, 2.944200038909912, 2.66510009765625, 3.5055999755859375, 3.2207999229431152, 3.2827999591827393, 2.9458000659942627, 2.479099988937378, 1.945099949836731, 2.6486001014709473, 2.8557000160217285, 2.612799882888794, 1.8702000379562378, 1.8875000476837158, 1.2308000326156616, 2.8459999561309814, 2.4184000492095947, 1.720900058746338, 1.7066999673843384, 2.1742000579833984, 4.249899864196777, 4.221700191497803, 4.207799911499023, 4.1996002197265625, 4.194200038909912, 4.181099891662598, 4.1809000968933105, 4.178899765014648, 4.172500133514404, 4.171999931335449, 4.1691999435424805, 4.166299819946289, 4.1645002365112305, 4.158100128173828, 4.150899887084961, 4.150300025939941, 4.148099899291992, 4.145699977874756, 4.142600059509277, 4.1402997970581055, 4.1381001472473145, 4.1350998878479, 4.132599830627441, 4.124899864196777, 4.124199867248535, 4.119500160217285, 4.117499828338623, 4.110899925231934, 4.103600025177002, 4.102099895477295, 4.05079984664917, 4.06220006942749, 3.775899887084961, 3.8338000774383545, 3.9779999256134033, 3.9244000911712646, 3.9068000316619873, 3.1106998920440674, 3.57669997215271, 3.9131999015808105, 3.7374000549316406, 3.81850004196167, 3.3250999450683594, 3.6117000579833984, 3.771199941635132, 2.9621999263763428, 2.385999917984009, 2.2497000694274902, 3.3334999084472656, 2.0857999324798584, 3.0952999591827393, 1.5240000486373901, 2.1379001140594482, 2.9177000522613525, 1.8253999948501587, 2.477299928665161, 0.6876999735832214, 1.416599988937378, 2.5973000526428223, 4.375999927520752, 4.37470006942749, 4.373000144958496, 4.373000144958496, 4.371300220489502, 4.367099761962891, 4.367099761962891, 4.3649001121521, 4.349699974060059, 4.349699974060059, 4.349699974060059, 4.340400218963623, 4.338200092315674, 4.315800189971924, 4.315800189971924, 4.315800189971924, 4.311399936676025, 4.294000148773193, 4.286200046539307, 4.275400161743164, 4.269999980926514, 4.265699863433838, 4.233399868011475, 4.2204999923706055, 4.2083001136779785, 4.201700210571289, 4.183499813079834, 4.179800033569336, 4.1793999671936035, 4.137199878692627, 4.137199878692627, 4.028600215911865, 3.9042000770568848, 3.8559999465942383, 3.574899911880493, 3.7376999855041504, 3.279599905014038, 3.456899881362915, 2.8775999546051025, 3.273900032043457, 3.623699903488159, 3.0683000087738037, 1.9217000007629395, 2.8643999099731445, 2.752700090408325, 3.1594998836517334, 1.566100001335144, 4.799499988555908, 4.796299934387207, 4.792300224304199, 4.790200233459473, 4.78879976272583, 4.779600143432617, 4.776400089263916, 4.775300025939941, 4.77400016784668, 4.766600131988525, 4.758600234985352, 4.735300064086914, 4.732699871063232, 4.728499889373779, 4.722899913787842, 4.71750020980835, 4.715000152587891, 4.709099769592285, 4.703100204467773, 4.702600002288818, 4.700500011444092, 4.6855998039245605, 4.684299945831299, 4.682300090789795, 4.679100036621094, 4.67549991607666, 4.6645002365112305, 4.6641998291015625, 4.661099910736084, 4.659800052642822, 4.625899791717529, 4.5706000328063965, 4.427499771118164, 4.449699878692627, 4.4319000244140625, 4.059000015258789, 4.288899898529053, 4.268700122833252, 3.507699966430664, 3.859299898147583, 3.5720999240875244, 4.273600101470947, 4.240200042724609, 1.795199990272522, 4.163599967956543, 1.8730000257492065, 5.3028998374938965, 5.267099857330322, 5.176000118255615, 5.174499988555908, 5.1570000648498535, 5.153500080108643, 5.151700019836426, 5.140500068664551, 5.131800174713135, 5.116300106048584, 5.102499961853027, 5.053800106048584, 5.0432000160217285, 4.976799964904785, 4.97160005569458, 4.9319000244140625, 4.920000076293945, 4.907199859619141, 4.899499893188477, 4.88040018081665, 4.87529993057251, 4.837500095367432, 4.781499862670898, 4.743000030517578, 4.70989990234375, 4.664899826049805, 4.601200103759766, 4.5183000564575195, 4.5117998123168945, 4.399499893188477, 4.307199954986572, 3.962899923324585, 3.8357999324798584, 4.052000045776367, 3.141200065612793, 3.719399929046631, 3.020400047302246, 2.9900999069213867, 3.55430006980896, 3.015000104904175, 2.387500047683716, 2.2853000164031982, 2.958199977874756, 2.0866000652313232, 2.781399965286255, 2.2850000858306885, 1.7771999835968018, 1.1512999534606934, 5.75439977645874, 5.724899768829346, 5.704599857330322, 5.703000068664551, 5.648900032043457, 5.626999855041504, 5.611499786376953, 5.587900161743164, 5.573299884796143, 5.537399768829346, 5.524099826812744, 5.519499778747559, 5.5121002197265625, 5.499599933624268, 5.462299823760986, 5.459499835968018, 5.450300216674805, 5.440100193023682, 5.375100135803223, 5.366099834442139, 5.351500034332275, 5.277100086212158, 5.2769999504089355, 5.2769999504089355, 5.2769999504089355, 5.263500213623047, 5.249000072479248, 5.248700141906738, 5.201000213623047, 5.195700168609619, 5.053899765014648, 4.7866997718811035, 4.738900184631348, 4.561600208282471, 4.518899917602539, 5.025400161743164, 4.485499858856201, 4.374300003051758, 3.7885000705718994, 4.442699909210205, 4.304900169372559, 2.6953999996185303, 6.188600063323975, 6.0467000007629395, 6.033199787139893, 5.96589994430542, 5.952099800109863, 5.878499984741211, 5.796299934387207, 5.7743000984191895, 5.751399993896484, 5.72629976272583, 5.723400115966797, 5.649400234222412, 5.642300128936768, 5.565000057220459, 5.559500217437744, 5.509200096130371, 5.445899963378906, 5.44379997253418, 5.436299800872803, 5.3796000480651855, 5.377699851989746, 5.362500190734863, 5.360400199890137, 5.355199813842773, 5.3495001792907715, 5.244900226593018, 5.235599994659424, 5.2322001457214355, 5.15339994430542, 5.13730001449585, 5.018400192260742, 4.731599807739258, 4.89709997177124, 4.6529998779296875, 3.884500026702881, 3.50570011138916, 2.607100009918213, 2.352799892425537, 3.5973000526428223, 4.673799991607666, 6.3881001472473145, 6.37060022354126, 6.236000061035156, 6.189799785614014, 6.170000076293945, 6.161799907684326, 6.144499778747559, 6.104800224304199, 6.063899993896484, 6.046500205993652, 6.039700031280518, 6.019499778747559, 5.997600078582764, 5.918399810791016, 5.829999923706055, 5.829999923706055, 5.804900169372559, 5.710000038146973, 5.710000038146973, 5.517600059509277, 5.506700038909912, 5.476399898529053, 5.474800109863281, 5.382900238037109, 5.377500057220459, 5.354599952697754, 5.271900177001953, 5.271900177001953, 5.271900177001953, 5.263299942016602, 4.968400001525879, 4.4506001472473145, 4.231599807739258, 4.992000102996826, 4.106299877166748, 3.3122000694274902, 3.072999954223633, 6.903200149536133, 6.742800235748291, 6.548600196838379, 6.141499996185303, 6.069799900054932, 5.911900043487549, 5.8927001953125, 5.887400150299072, 5.57859992980957, 5.286300182342529, 4.9868998527526855, 4.9868998527526855, 4.9868998527526855, 4.9868998527526855, 4.9868998527526855, 4.9868998527526855, 4.9868998527526855, 4.973800182342529, 4.973800182342529, 4.901500225067139, 4.627299785614014, 4.594699859619141, 3.332900047302246, 3.26200008392334, 2.6429998874664307, 2.6429998874664307, 2.642899990081787, 2.642899990081787, 2.642899990081787, 2.642899990081787, 2.642899990081787, 2.642899990081787, 0.8166000247001648, 0.2630999982357025, 1.2210999727249146, 1.1440999507904053, 1.093500018119812, 1.7457000017166138, 5.861499786376953, 2.705399990081787, 2.705399990081787, 2.705399990081787, 2.705399990081787, 2.705399990081787, 2.705399990081787, 2.705399990081787, 2.705399990081787, 2.705399990081787, 2.705399990081787, 2.705399990081787, 2.705399990081787, 2.705399990081787, 2.705399990081787, 2.705399990081787, 2.705399990081787, 2.705399990081787, 2.705399990081787, 2.705399990081787, 2.705399990081787, 2.705399990081787, 2.705399990081787, 2.705399990081787, 2.705399990081787, 2.705399990081787, 2.705399990081787, 2.705399990081787, 2.705399990081787, 2.705399990081787, 2.705399990081787, 2.705399990081787, 2.705399990081787, 2.705399990081787, 2.705399990081787, 2.705399990081787, 2.705399990081787, 2.705399990081787, 2.705399990081787, 2.705399990081787, 2.705399990081787, 2.705399990081787, 2.705399990081787, 2.705399990081787, 2.705399990081787, 2.705399990081787, 2.705399990081787, 2.705399990081787, 2.705399990081787, 2.705399990081787, 2.705399990081787, 2.705399990081787, 2.705399990081787, 2.705399990081787, 2.705399990081787, 2.705399990081787, 2.705399990081787, 2.705399990081787, 2.705399990081787, 2.705399990081787, 2.705399990081787, 2.705399990081787, 2.705399990081787, 2.705399990081787, 2.705399990081787, 2.705399990081787, 2.705399990081787, 2.705399990081787, 2.705399990081787, 2.705399990081787, 2.705399990081787, 2.7053000926971436, 2.705399990081787, 2.7053000926971436, 0.42910000681877136, 0.8521000146865845, -4.004300117492676, -2.829400062561035, 1.2726999521255493, 1.0250999927520752, -4.220099925994873, -3.035900115966797, -1.3990999460220337, -3.933500051498413, -2.850399971008301, -3.779400110244751, -3.0350000858306885, -3.5676000118255615, -2.140700101852417, -2.2207000255584717, -3.784600019454956, -3.1284000873565674, -2.9409000873565674, -0.5654000043869019, -4.075200080871582, -3.5090999603271484, -2.7636001110076904, -3.1784000396728516, -2.6082000732421875, -2.9844000339508057, -4.165900230407715, -3.3945999145507812, -2.8262999057769775, 2.7070000171661377, 2.7070000171661377, 2.7070000171661377, 2.7070000171661377, 2.7070000171661377, 2.7070000171661377, 2.7070000171661377, 2.7070000171661377, 2.7070000171661377, 2.7070000171661377, 2.7070000171661377, 2.7070000171661377, 2.7070000171661377, 2.7070000171661377, 2.7070000171661377, 2.7070000171661377, 2.7070000171661377, 2.7070000171661377, 2.7070000171661377, 2.7070000171661377, 2.7070000171661377, 2.7070000171661377, 2.7070000171661377, 2.7070000171661377, 2.7070000171661377, 2.7070000171661377, 2.7070000171661377, 2.7070000171661377, 2.7070000171661377, 2.7070000171661377, -1.3069000244140625, -3.535799980163574, -3.8775999546051025, -4.218500137329102, -3.991499900817871, -4.151100158691406, -2.847899913787842, -4.002799987792969, -4.164299964904785, -4.073599815368652, -1.3687000274658203, -3.8508999347686768, -3.4268999099731445, -3.2748000621795654, -3.406599998474121, -3.507499933242798, -4.063399791717529, -3.3096001148223877, -3.437999963760376, -3.6946001052856445, -3.117799997329712, -2.8754000663757324, -3.1928999423980713, -2.5659000873565674, -3.1147000789642334, -1.9312000274658203, -1.927899956703186, -2.9856998920440674, -1.7991000413894653, -1.9737999439239502, 2.7070000171661377, 2.7070000171661377, 2.7070000171661377, 2.7070000171661377, 2.7070000171661377, 2.7070000171661377, 2.7070000171661377, 2.7070000171661377, 2.7070000171661377, 2.7070000171661377, 2.7070000171661377, 2.7070000171661377, 2.7070000171661377, 2.7070000171661377, 2.7070000171661377, 2.7070000171661377, 2.7070000171661377, 2.7070000171661377, 2.7070000171661377, 2.7070000171661377, 2.7070000171661377, 2.7070000171661377, 2.7070000171661377, 2.7070000171661377, 2.7070000171661377, 2.7070000171661377, 2.7070000171661377, 2.7070000171661377, 2.7070000171661377, 2.7070000171661377, -3.507499933242798, -4.164299964904785, -3.176800012588501, -3.1359000205993652, -3.0820999145507812, -1.7991000413894653, -2.3176000118255615, -1.6467000246047974, -3.610599994659424, -2.373500108718872, -3.991499900817871, -4.218500137329102, -3.8775999546051025, -4.073599815368652, -3.7778000831604004, -2.453000068664551, -4.063399791717529, -3.1178998947143555, -3.425800085067749, -4.002799987792969, -3.6946001052856445, -3.085200071334839, -3.865799903869629, -3.415299892425537, -2.580199956893921, -0.89410001039505, -1.708400011062622, -2.9874000549316406, -2.942699909210205, -3.2695000171661377]}, \"token.table\": {\"Topic\": [8, 4, 1, 7, 10, 15, 1, 6, 4, 7, 1, 5, 12, 4, 13, 1, 5, 1, 3, 5, 6, 9, 8, 2, 7, 4, 12, 4, 7, 14, 1, 3, 5, 7, 11, 12, 2, 4, 5, 7, 12, 7, 1, 5, 9, 4, 12, 2, 10, 1, 3, 11, 7, 2, 4, 7, 8, 2, 16, 14, 12, 16, 1, 5, 6, 9, 6, 3, 6, 13, 13, 11, 11, 11, 1, 5, 9, 3, 16, 6, 15, 1, 3, 5, 6, 6, 2, 15, 10, 1, 5, 1, 4, 5, 9, 1, 12, 1, 2, 5, 8, 2, 4, 7, 8, 14, 14, 4, 10, 7, 9, 12, 9, 10, 17, 5, 10, 3, 1, 5, 6, 16, 1, 6, 10, 9, 12, 8, 5, 10, 1, 5, 8, 3, 6, 14, 10, 1, 2, 3, 10, 1, 3, 4, 5, 7, 10, 3, 6, 14, 5, 4, 13, 5, 10, 1, 2, 3, 4, 5, 8, 2, 1, 2, 8, 7, 15, 1, 4, 5, 7, 8, 3, 4, 9, 13, 3, 1, 3, 5, 9, 2, 12, 2, 9, 1, 4, 7, 4, 7, 8, 1, 4, 1, 2, 3, 5, 6, 10, 1, 2, 3, 4, 7, 8, 1, 3, 4, 1, 2, 5, 8, 1, 2, 3, 4, 5, 8, 4, 4, 5, 7, 15, 1, 3, 4, 6, 7, 1, 3, 4, 5, 7, 12, 1, 3, 4, 7, 1, 15, 8, 6, 12, 1, 2, 3, 4, 5, 7, 7, 13, 3, 1, 2, 3, 1, 2, 3, 5, 9, 7, 1, 2, 4, 5, 7, 8, 11, 2, 9, 5, 14, 10, 10, 7, 9, 14, 5, 1, 4, 6, 8, 13, 11, 8, 1, 2, 3, 5, 6, 8, 12, 1, 2, 4, 5, 7, 8, 1, 2, 5, 8, 9, 1, 6, 6, 11, 14, 2, 10, 1, 2, 5, 8, 8, 1, 10, 2, 3, 9, 3, 1, 9, 12, 1, 2, 5, 6, 1, 2, 4, 7, 12, 12, 13, 1, 2, 3, 5, 6, 11, 12, 1, 2, 3, 5, 6, 8, 6, 1, 7, 1, 3, 5, 6, 2, 4, 11, 7, 1, 5, 8, 1, 2, 3, 5, 6, 10, 7, 7, 9, 9, 1, 3, 4, 5, 7, 1, 2, 3, 5, 6, 7, 8, 1, 1, 2, 3, 5, 6, 6, 10, 6, 5, 2, 11, 1, 2, 3, 5, 6, 10, 6, 10, 1, 3, 4, 11, 10, 1, 5, 6, 1, 3, 10, 10, 4, 1, 2, 4, 7, 8, 2, 4, 8, 1, 1, 1, 4, 4, 8, 1, 8, 1, 12, 2, 13, 1, 3, 4, 5, 6, 7, 8, 12, 14, 4, 5, 10, 2, 5, 2, 9, 1, 16, 5, 8, 14, 8, 4, 13, 3, 4, 13, 16, 13, 2, 1, 10, 13, 6, 1, 3, 6, 10, 1, 3, 10, 1, 2, 3, 5, 6, 7, 10, 5, 1, 3, 4, 5, 7, 4, 5, 7, 14, 15, 2, 12, 2, 3, 1, 2, 4, 1, 2, 1, 2, 3, 5, 7, 1, 8, 1, 12, 1, 3, 4, 7, 9, 11, 1, 5, 6, 11, 1, 2, 4, 5, 9, 12, 3, 6, 1, 6, 1, 2, 3, 5, 6, 9, 6, 1, 2, 3, 6, 1, 2, 3, 6, 6, 3, 8, 13, 5, 13, 8, 15, 15, 1, 2, 4, 8, 9, 9, 8, 1, 2, 3, 5, 6, 11, 3, 15, 1, 2, 4, 11, 2, 1, 7, 8, 15, 1, 5, 11, 17, 10, 1, 4, 5, 1, 8, 12, 1, 4, 5, 6, 1, 2, 3, 5, 8, 2, 3, 4, 7, 6, 1, 3, 9, 9, 10, 1, 12, 5, 11, 8, 16, 11, 1, 2, 4, 5, 8, 15, 11, 1, 2, 9, 3, 4, 8, 1, 3, 4, 5, 7, 8, 16, 14, 1, 3, 4, 8, 2, 5, 1, 9, 1, 2, 9, 12, 1, 3, 4, 5, 6, 7, 9, 2, 8, 8, 1, 2, 5, 9, 1, 6, 10, 1, 3, 4, 7, 3, 11, 2, 3, 6, 1, 2, 7, 15, 7, 15, 4, 8, 2, 12, 1, 2, 3, 5, 6, 9, 11, 5, 1, 2, 3, 5, 8, 1, 1, 2, 3, 5, 8, 1, 3, 4, 5, 6, 7, 1, 10, 3, 13, 1, 2, 3, 4, 5, 8, 6, 6, 1, 2, 3, 8, 12, 2, 2, 1, 2, 3, 4, 5, 9, 10, 11, 1, 2, 5, 6, 8, 1, 3, 5, 6, 10, 4, 2, 1, 10, 5, 14, 2, 15, 10, 1, 2, 3, 5, 8, 1, 4, 7, 1, 2, 3, 5, 6, 4, 16, 1, 2, 3, 4, 5, 6, 7, 10, 13, 1, 2, 3, 7, 1, 2, 3, 6, 13, 1, 9, 1, 2, 3, 4, 5, 7, 1, 14, 4, 13, 1, 7, 2, 4, 8, 1, 2, 3, 4, 8, 13, 6, 13, 14, 1, 5, 7, 9, 12, 12, 4, 7, 1, 9, 6, 11, 4, 14, 1, 3, 5, 14, 1, 2, 5, 1, 5, 7, 1, 2, 3, 5, 6, 4, 11, 1, 2, 3, 4, 5, 7, 8, 12, 5, 1, 10, 1, 8, 11, 13, 14, 2, 2, 1, 3, 5, 6, 9, 1, 1, 9, 9, 3, 9, 7, 1, 2, 3, 5, 6, 8, 1, 3, 4, 5, 6, 1, 5, 9, 1, 3, 4, 5, 9, 1, 5, 6, 9, 10, 8, 1, 5, 14, 8, 14, 9, 9, 2, 4, 8, 10, 4, 1, 3, 5, 6, 1, 2, 6, 11, 6, 8, 10, 3, 4, 7, 13, 4, 3, 6, 10, 10, 2, 12, 8, 1, 2, 3, 5, 9, 10, 3, 4, 7, 9, 10, 12, 3, 1, 3, 6, 16, 1, 2, 3, 4, 6, 7, 13, 3, 4, 4, 13, 4, 5, 12, 14, 1, 16, 12, 7, 1, 2, 3, 5, 8, 8, 9, 1, 3, 6, 1, 2, 3, 5, 1, 2, 5, 6, 13, 1, 16, 8, 14, 4, 1, 2, 3, 6, 1, 7, 6, 7, 1, 2, 4, 5, 1, 2, 3, 5, 6, 8, 5, 14, 15, 2, 1, 5, 6, 1, 2, 3, 4, 7, 1, 2, 3, 4, 5, 8, 13, 3, 4, 13, 15, 3, 1, 2, 4, 7, 8, 1, 2, 3, 5, 6, 10, 12, 14, 1, 8, 4, 16, 7, 8, 13, 1, 4, 5, 9, 15, 1, 6, 11, 6, 11, 2, 4, 9, 5, 1, 2, 3, 5, 6, 8, 10, 9, 3, 7, 3, 4, 1, 2, 8, 7, 6, 2, 3, 4, 14, 3, 7, 1, 10, 1, 4, 5, 6, 11, 1, 2, 3, 5, 6, 8, 13, 1, 3, 1, 4, 8, 8, 8, 12, 3, 7, 10, 4, 9, 3, 8, 7, 6, 5, 3, 6, 9, 11, 6, 1, 2, 5, 2, 3, 5, 13, 14, 3, 1, 3, 9, 3, 12, 3, 13, 1, 3, 3, 13, 3, 2, 4, 1, 2, 3, 4, 6, 7, 9, 2, 3, 4, 1, 2, 3, 5, 6, 7, 8, 2, 5, 14, 1, 2, 3, 4, 5, 6, 8, 5, 1, 7, 7, 7, 1, 1, 5, 6, 9, 11, 4, 7, 14, 1, 2, 3, 4, 5, 7, 1, 4, 7, 1, 5, 10, 11, 12, 9, 15, 16, 1, 4, 5, 7, 2, 8, 15, 3, 10, 3, 6, 9, 4, 13, 8, 4, 5, 2, 4, 1, 4, 1, 2, 3, 6, 9, 14, 1, 7, 4, 13, 10, 15, 1, 2, 5, 6, 9, 10, 1, 6, 10, 1, 2, 3, 4, 5, 7, 8, 16, 16, 2, 4, 6, 7, 3, 3, 7, 1, 8, 1, 2, 5, 6, 7, 9, 1, 2, 5, 5, 6, 4, 7, 1, 3, 4, 5, 6, 7, 9, 10, 2, 6, 4, 9, 1, 3, 4, 6, 7, 3, 9, 16, 10, 1, 2, 3, 9, 1, 12, 5, 1, 1, 2, 3, 5, 8, 4, 13, 4, 13, 7, 4, 1, 4, 5, 1, 1, 2, 5, 6, 8, 3, 7, 1, 5, 1, 2, 4, 5, 6, 1, 2, 3, 4, 5, 7, 3, 1, 5, 1, 2, 3, 4, 5, 7, 10, 6, 11, 6, 1, 2, 5, 7, 8, 1, 2, 5, 10, 10, 4, 13, 1, 9, 6, 11, 6, 2, 2, 15, 1, 2, 5, 6, 10, 10, 1, 2, 9, 14, 1, 9, 13, 6, 10, 1, 7, 14, 14, 2, 14, 5, 3, 6, 1, 2, 3, 4, 5, 6, 5, 4, 1, 12, 1, 2, 5, 9, 1, 2, 3, 5, 6, 8, 10, 3, 1, 8, 9, 2, 2, 3, 6, 1, 2, 3, 5, 9, 1, 2, 3, 4, 8, 13, 15, 3, 6, 7, 1, 2, 3, 4, 5, 7, 9, 5, 1, 2, 1, 1, 5, 8, 5, 15, 1, 4, 5, 12, 9, 1, 5, 7, 12, 2, 4, 1, 3, 4, 5, 6, 8, 11, 7, 8, 1, 2, 5, 6, 7, 9, 10, 1, 3, 5, 6, 9, 10, 1, 2, 4, 6, 11, 1, 4, 13, 14, 4, 13, 3, 1, 5, 8, 5, 1, 16, 5, 1, 2, 12, 1, 2, 4, 3, 4, 7, 9, 3, 4, 7, 9, 9, 1, 3, 4, 7, 1, 2, 4, 5, 7, 1, 1, 3, 5, 8, 11, 1, 3, 6, 7, 3, 1, 4, 5, 6, 7, 12, 1, 5, 9, 10, 12, 5, 15, 5, 15, 1, 2, 3, 1, 2, 8, 1, 3, 5, 8, 10, 11, 10, 1, 2, 3, 5, 8, 1, 4, 5, 7, 2, 7, 4, 7, 14, 4, 6, 9, 10, 14, 12, 16, 1, 2, 3, 5, 6, 8, 2, 7, 4, 5, 7, 4, 11, 2, 3, 4, 13, 4, 1, 2, 3, 5, 6, 8, 1, 2, 3, 8, 1, 3, 5, 7, 5, 2, 10, 1, 3, 5, 6, 8, 9, 10, 2, 5, 6, 8, 8, 15, 2, 5, 6, 1, 2, 3, 5, 6, 3, 7, 1, 3, 7, 9, 1, 2, 4, 8, 11, 15, 1, 15, 5, 1, 2, 3, 4, 6, 7, 3, 10, 4, 4, 1, 2, 3, 5, 6, 7, 8, 13, 1, 2, 5, 11, 13, 2, 3, 6, 9, 16, 7, 8, 16, 3, 1, 2, 5, 6, 1, 4, 5, 6, 12, 1, 2, 5, 7, 1, 1, 2, 5, 7, 12, 5, 2, 10, 14, 8, 9, 3, 5, 7, 12, 11, 11, 2, 8, 10, 13, 14, 12, 1, 2, 3, 5, 8, 1, 2, 3, 5, 8, 7, 8, 2, 7, 11, 1, 2, 5, 3, 2, 1, 3, 4, 5, 8, 3, 5, 2, 4, 2, 7, 8, 1, 3, 15, 6, 12, 2, 8, 13, 11, 2, 1, 3, 4, 7, 4, 11, 7, 7, 12, 1, 2, 3, 4, 5, 11, 16, 1, 3, 10, 6, 1, 3, 1, 14, 1, 3, 6, 11, 1, 2, 4, 7, 9, 1, 2, 4, 11, 1, 2, 8, 2, 9, 16, 1, 2, 1, 2, 12, 1, 12, 9, 1, 4, 6, 7, 3, 9, 10, 15, 10, 2, 4, 12, 9, 1, 4, 7, 12, 1, 2, 3, 6, 9, 3, 11, 2, 10, 1, 3, 4, 13, 7, 1, 2, 3, 5, 8, 12, 14, 1, 2, 5, 1, 2, 5, 1, 2, 3, 5, 6, 8, 13, 8, 5, 1, 2, 3, 5, 6, 8, 2, 6, 11, 1, 2, 3, 4, 5, 8, 8, 13, 1, 2, 4, 5, 7, 8, 1, 4, 7, 12, 6, 11, 2, 4, 12, 7, 1, 2, 3, 5, 8, 2, 10, 11, 1, 4, 1, 2, 3, 4, 5, 7, 8, 1, 2, 3, 4, 5, 8, 15, 5, 16, 1, 2, 14, 1, 2, 3, 5, 6, 7, 8, 9, 1, 2, 6, 7, 8, 1, 3, 5, 14, 1, 2, 3, 5, 6, 8, 9, 1, 6, 10, 16, 14, 1, 7, 1, 3, 4, 5, 7], \"Freq\": [0.933746874332428, 0.9751063585281372, 0.9310357570648193, 0.054766811430454254, 0.8473528623580933, 0.8324945569038391, 0.9875614643096924, 0.9792736172676086, 0.8696857690811157, 0.10871072113513947, 0.6698688268661499, 0.025764185935258865, 0.2834060490131378, 0.15442457795143127, 0.772122859954834, 0.07113218307495117, 0.9247183799743652, 0.3752480149269104, 0.121403768658638, 0.011036706157028675, 0.4635416567325592, 0.02207341231405735, 0.9886080622673035, 0.9640798568725586, 0.03324413299560547, 0.9702066779136658, 0.9011601209640503, 0.3896661698818207, 0.2597774565219879, 0.2597774565219879, 0.2456287443637848, 0.21833665668964386, 0.10916832834482193, 0.0818762481212616, 0.30021291971206665, 0.027292082086205482, 0.9794394373893738, 0.07831759750843048, 0.07831759750843048, 0.841914176940918, 0.8692134022712708, 0.9772542715072632, 0.9816830158233643, 0.930250346660614, 0.7796631455421448, 0.9482144117355347, 0.9355161786079407, 0.9577564597129822, 0.9502463340759277, 0.13017641007900238, 0.8678427338600159, 0.6690424084663391, 0.9861698150634766, 0.10456077009439468, 0.5315172672271729, 0.05228038504719734, 0.304968923330307, 0.8505188822746277, 0.1701037734746933, 0.7756786942481995, 0.7437692880630493, 0.944489598274231, 0.2282697707414627, 0.31606581807136536, 0.2282697707414627, 0.2194901555776596, 0.9722850322723389, 0.46834325790405273, 0.13381235301494598, 0.36798399686813354, 0.47707992792129517, 0.7401915788650513, 0.9736961722373962, 0.9924209713935852, 0.1737184077501297, 0.6948736310005188, 0.13028880953788757, 0.989769458770752, 0.5304152965545654, 0.9892147779464722, 0.923740565776825, 0.25120851397514343, 0.06748885661363602, 0.0037493810523301363, 0.674888551235199, 0.9316227436065674, 0.9914498925209045, 0.5829204320907593, 0.9660837054252625, 0.21742667257785797, 0.7827360033988953, 0.3821811378002167, 0.023886321112513542, 0.047772642225027084, 0.5493854284286499, 0.0454668253660202, 0.909336507320404, 0.29407626390457153, 0.2569855749607086, 0.4185950458049774, 0.026493357494473457, 0.9678150415420532, 0.032260503619909286, 0.1110725924372673, 0.8608125448226929, 0.916094958782196, 0.48615723848342896, 0.2903694808483124, 0.6533313393592834, 0.9142299294471741, 0.7866252660751343, 0.9657845497131348, 0.9605520367622375, 0.43180203437805176, 0.43180203437805176, 0.21822503209114075, 0.7274167537689209, 0.9846053123474121, 0.5512035489082336, 0.23308037221431732, 0.21418195962905884, 0.683279812335968, 0.1368265151977539, 0.7329991459846497, 0.11727986484766006, 0.9635738730430603, 0.9301192760467529, 0.9259324669837952, 0.2519834339618683, 0.6719557642936707, 0.12853960692882538, 0.06426980346441269, 0.8033725619316101, 0.8892971277236938, 0.11058616638183594, 0.6309440732002258, 0.8273031115531921, 0.05746064707636833, 0.0172381941229105, 0.8734018206596375, 0.045968517661094666, 0.061713360249996185, 0.4794653356075287, 0.3038196265697479, 0.009494363330304623, 0.14716263115406036, 0.895463764667511, 0.704153835773468, 0.28888362646102905, 0.4763528108596802, 0.9681457281112671, 0.25425031781196594, 0.7627509832382202, 0.1581038385629654, 0.7905192375183105, 0.3910614550113678, 0.5449898838996887, 0.004160228185355663, 0.008320456370711327, 0.04160228371620178, 0.008320456370711327, 0.9942747354507446, 0.020497377961874008, 0.40994754433631897, 0.5534291863441467, 0.4100705087184906, 0.4100705087184906, 0.7851158380508423, 0.07083752006292343, 0.09887737035751343, 0.03984610736370087, 0.0044273450039327145, 0.1371101438999176, 0.1371101438999176, 0.616995632648468, 0.1028326079249382, 0.9676510691642761, 0.22355036437511444, 0.6629424691200256, 0.015417265705764294, 0.09250359982252121, 0.7293424606323242, 0.2585011422634125, 0.8587353825569153, 0.13279412686824799, 0.12566064298152924, 0.03015855699777603, 0.8444395661354065, 0.9705621004104614, 0.9436321258544922, 0.9253257513046265, 0.991169273853302, 0.9369872808456421, 0.06460817158222198, 0.11517108976840973, 0.025281457230448723, 0.1348344385623932, 0.3427042067050934, 0.3146136999130249, 0.10584032535552979, 0.4482648968696594, 0.01867770403623581, 0.28016558289527893, 0.13696983456611633, 0.006225901655852795, 0.029763950034976006, 0.1264967918395996, 0.8408315777778625, 0.9235574007034302, 0.03162867948412895, 0.0063257357105612755, 0.025302942842245102, 0.7944736480712891, 0.055267732590436935, 0.0034542332869023085, 0.0034542332869023085, 0.06908466666936874, 0.0759931281208992, 0.9863207936286926, 0.7959911823272705, 0.19899779558181763, 0.9842899441719055, 0.47141721844673157, 0.17908425629138947, 0.06229017674922943, 0.17129798233509064, 0.14793916046619415, 0.4360312223434448, 0.0680694654583931, 0.0042543415911495686, 0.09359551966190338, 0.17017367482185364, 0.6594229936599731, 0.008508683182299137, 0.024814236909151077, 0.024814236909151077, 0.9429409503936768, 0.0035448907874524593, 0.8565958738327026, 0.11421278119087219, 0.9761005640029907, 0.4219830334186554, 0.5626440644264221, 0.021844256669282913, 0.8601176142692566, 0.002730532083660364, 0.07645490020513535, 0.002730532083660364, 0.03276638686656952, 0.9438623189926147, 0.7801232933998108, 0.9869296550750732, 0.1985509693622589, 0.769385039806366, 0.024818871170282364, 0.10115688294172287, 0.2697516977787018, 0.09272713959217072, 0.23603272438049316, 0.29504090547561646, 0.9683122634887695, 0.18248294293880463, 0.16174624860286713, 0.30275580286979675, 0.07465211302042007, 0.00829467922449112, 0.0414733961224556, 0.21980899572372437, 0.7289618253707886, 0.2663514316082001, 0.9779677987098694, 0.8544608354568481, 0.9160795211791992, 0.8714870810508728, 0.9912072420120239, 0.4690878093242645, 0.4690878093242645, 0.9891278147697449, 0.030603649094700813, 0.15301825106143951, 0.09181094914674759, 0.703883945941925, 0.9359285831451416, 0.9277753829956055, 0.9799362421035767, 0.4172232747077942, 0.25629428029060364, 0.03874215856194496, 0.10430581867694855, 0.06854382157325745, 0.11324631422758102, 0.8457371592521667, 0.15974126756191254, 0.0015359737444669008, 0.7034759521484375, 0.015359736979007721, 0.0860145315527916, 0.033791422843933105, 0.7107306718826294, 0.023302646353840828, 0.1951596587896347, 0.055343784391880035, 0.014564153738319874, 0.22416529059410095, 0.7771063446998596, 0.99038165807724, 0.8342210650444031, 0.6907755732536316, 0.9851978421211243, 0.8858492374420166, 0.3901301920413971, 0.04501502215862274, 0.17255759239196777, 0.3901301920413971, 0.9352577328681946, 0.99267578125, 0.8631977438926697, 0.9596476554870605, 0.9712309241294861, 0.9366090297698975, 0.9325765371322632, 0.9822475910186768, 0.7692625522613525, 0.19231563806533813, 0.8061212301254272, 0.10479576140642166, 0.02015303075313568, 0.0644896999001503, 0.34991419315338135, 0.07392553240060806, 0.4386248290538788, 0.12320922315120697, 0.009856738150119781, 0.9701234102249146, 0.5502842664718628, 0.5080721974372864, 0.045019056648015976, 0.2551079988479614, 0.004287529271095991, 0.18865129351615906, 0.8568028211593628, 0.9703518152236938, 0.5782817602157593, 0.12649913132190704, 0.03162478283047676, 0.06324956566095352, 0.018071305006742477, 0.17619521915912628, 0.9867478013038635, 0.03748203441500664, 0.9370508790016174, 0.33777350187301636, 0.015012155286967754, 0.12009724229574203, 0.5179193615913391, 0.247537299990654, 0.08251243084669113, 0.6188432574272156, 0.9714952707290649, 0.25076717138290405, 0.621902585029602, 0.12036824226379395, 0.55350661277771, 0.0664207935333252, 0.0332103967666626, 0.16605199873447418, 0.11623639613389969, 0.055350665003061295, 0.9338850378990173, 0.9700320959091187, 0.8116654753684998, 0.7475185394287109, 0.011979504488408566, 0.11380529403686523, 0.08385653048753738, 0.011979504488408566, 0.7786678075790405, 0.362775981426239, 0.39068180322647095, 0.10697240382432938, 0.027905844151973724, 0.023254869505763054, 0.05581168830394745, 0.027905844151973724, 0.9378021359443665, 0.2807462513446808, 0.0350932814180851, 0.22225745022296906, 0.0526399202644825, 0.4035727381706238, 0.9648844599723816, 0.03156164288520813, 0.9871031641960144, 0.9799768924713135, 0.46099740266799927, 0.5378302931785583, 0.26302438974380493, 0.14162851870059967, 0.10116323083639145, 0.24279175698757172, 0.06069793924689293, 0.1820938140153885, 0.9460301399230957, 0.02956344187259674, 0.017031241208314896, 0.15328116714954376, 0.834530770778656, 0.9286568760871887, 0.8967012763023376, 0.9364662170410156, 0.0297290850430727, 0.022296814247965813, 0.12646453082561493, 0.8536355495452881, 0.8776419162750244, 0.7995941638946533, 0.9820321798324585, 0.13968244194984436, 0.42639902234077454, 0.036758534610271454, 0.007351707201451063, 0.3896404802799225, 0.08610696345567703, 0.11480928212404251, 0.7749626636505127, 0.9949706196784973, 0.9979467988014221, 0.8567208051681519, 0.1406167894601822, 0.1479407697916031, 0.8383310437202454, 0.42343541979789734, 0.5707172751426697, 0.09238287061452866, 0.8314458727836609, 0.7205096483230591, 0.26200351119041443, 0.2358666956424713, 0.006551852449774742, 0.3931111693382263, 0.03931111469864845, 0.013103704899549484, 0.2784537374973297, 0.02620740979909897, 0.006551852449774742, 0.6537778973579407, 0.977571964263916, 0.015767289325594902, 0.9086933135986328, 0.051485173404216766, 0.926733136177063, 0.95255446434021, 0.9757094979286194, 0.9912047982215881, 0.6039354205131531, 0.9575587511062622, 0.946151077747345, 0.5547575950622559, 0.9338167309761047, 0.199839249253273, 0.5995177626609802, 0.0525810532271862, 0.3154863119125366, 0.6309726238250732, 0.49400487542152405, 0.8664451241493225, 0.9906565546989441, 0.2897120714187622, 0.7242801785469055, 0.7853755950927734, 0.9828577041625977, 0.5019585490226746, 0.2426133006811142, 0.24679628014564514, 0.004182987846434116, 0.10118928551673889, 0.5059464573860168, 0.40475714206695557, 0.35348010063171387, 0.05754327401518822, 0.18085028231143951, 0.00822046771645546, 0.2260628491640091, 0.11097630858421326, 0.06576374173164368, 0.9776610136032104, 0.036259498447179794, 0.009064874611794949, 0.8128170967102051, 0.009064874611794949, 0.1329514980316162, 0.9395857453346252, 0.059204988181591034, 0.9176773428916931, 0.8133962750434875, 0.7960426211357117, 0.5236237645149231, 0.46078890562057495, 0.989384114742279, 0.9430757164955139, 0.0073381997644901276, 0.9906569123268127, 0.9493091106414795, 0.9690712690353394, 0.016151187941432, 0.030404141172766685, 0.8538496494293213, 0.07347667217254639, 0.03547149896621704, 0.005067356862127781, 0.9771367907524109, 0.01416140329092741, 0.372616171836853, 0.5589242577552795, 0.2416108399629593, 0.10354750603437424, 0.008628958836197853, 0.6040270924568176, 0.008628958836197853, 0.02588687650859356, 0.9381511211395264, 0.009288624860346317, 0.04644312337040901, 0.9506853222846985, 0.9814752340316772, 0.762542724609375, 0.1936616450548172, 0.0363115556538105, 0.012103852815926075, 0.7488034963607788, 0.9874149560928345, 0.01066322810947895, 0.059305209666490555, 0.9192307591438293, 0.05427933484315872, 0.04885140061378479, 0.20626147091388702, 0.06513520330190659, 0.6133564710617065, 0.005427933298051357, 0.9823597073554993, 0.04516461491584778, 0.1942078322172165, 0.7090844511985779, 0.04968107491731644, 0.08445124328136444, 0.014075206592679024, 0.6580159068107605, 0.24279731512069702, 0.9952435493469238, 0.25511714816093445, 0.1700780987739563, 0.5102342963218689, 0.9741051197052002, 0.690401554107666, 0.943830132484436, 0.5382424592971802, 0.7268669009208679, 0.6794317364692688, 0.03088326007127762, 0.03088326007127762, 0.2547869086265564, 0.8394111394882202, 0.8710519671440125, 0.9845402240753174, 0.5606202483177185, 0.17733906209468842, 0.028603075072169304, 0.04576491937041283, 0.1315741389989853, 0.05720615014433861, 0.9789552092552185, 0.7911889553070068, 0.264960378408432, 0.13704846799373627, 0.511647641658783, 0.08679736405611038, 0.9494049549102783, 0.997153103351593, 0.1074640303850174, 0.8328462243080139, 0.02686600759625435, 0.38144299387931824, 0.03467663750052452, 0.5895028114318848, 0.7826168537139893, 0.9376063942909241, 0.28040826320648193, 0.06008748337626457, 0.6609622836112976, 0.5466141700744629, 0.4441239833831787, 0.6353023052215576, 0.395995557308197, 0.0548301562666893, 0.030461197718977928, 0.5117481350898743, 0.5232768654823303, 0.2847241759300232, 0.030780991539359093, 0.13081921637058258, 0.026933366432785988, 0.21961401402950287, 0.10457810014486313, 0.6588420271873474, 0.010457810014486313, 0.9916794896125793, 0.24862171709537506, 0.041436951607465744, 0.7044281959533691, 0.8127210140228271, 0.8332270383834839, 0.3671804666519165, 0.5507706999778748, 0.480142205953598, 0.480142205953598, 0.8118768334388733, 0.08118768036365509, 0.9918508529663086, 0.04436290264129639, 0.013308871537446976, 0.048799194395542145, 0.7807871103286743, 0.1064709722995758, 0.5803791880607605, 0.9888163805007935, 0.9745146632194519, 0.45011648535728455, 0.5358529686927795, 0.9919368624687195, 0.26324400305747986, 0.7019840478897095, 0.09406886994838715, 0.010452096350491047, 0.5591871738433838, 0.020904192700982094, 0.22994612157344818, 0.08361677080392838, 0.9013802409172058, 0.8459063768386841, 0.06358164548873901, 0.9219338297843933, 0.12671571969985962, 0.8553311824798584, 0.960509181022644, 0.9749286770820618, 0.2772328853607178, 0.6776804327964783, 0.1303272843360901, 0.5321696996688843, 0.2932363748550415, 0.03258182108402252, 0.5751727223396301, 0.025726573541760445, 0.001837612478993833, 0.04410269856452942, 0.22418871521949768, 0.020213736221194267, 0.10841913521289825, 0.23737084865570068, 0.7552708983421326, 0.9457116723060608, 0.21230767667293549, 0.6103845834732056, 0.11499998718500137, 0.05307691916823387, 0.11966276913881302, 0.8735381960868835, 0.8841714262962341, 0.5422259569168091, 0.003614839632064104, 0.003614839632064104, 0.451854944229126, 0.9430147409439087, 0.848371148109436, 0.13007383048534393, 0.1951107531785965, 0.6612086892127991, 0.17952661216259003, 0.17952661216259003, 0.35905322432518005, 0.17952661216259003, 0.7187440991401672, 0.1796860247850418, 0.9551135301589966, 0.051627758890390396, 0.24762800335884094, 0.6603413224220276, 0.80861496925354, 0.07506130635738373, 0.01023563276976347, 0.07164943218231201, 0.006823755335062742, 0.003411877667531371, 0.02729502134025097, 0.9585577249526978, 0.6324515342712402, 0.07905644178390503, 0.07411541044712067, 0.1531718522310257, 0.05929233133792877, 0.9963550567626953, 0.32458367943763733, 0.08772531896829605, 0.10965664684772491, 0.1754506379365921, 0.29826608300209045, 0.6673738360404968, 0.08924184739589691, 0.029100602492690086, 0.029100602492690086, 0.1571432501077652, 0.029100602492690086, 0.12213838845491409, 0.8549687266349792, 0.5097423791885376, 0.5097423791885376, 0.48757481575012207, 0.09916775673627853, 0.06611184030771255, 0.11569571495056152, 0.21899546682834625, 0.00826398003846407, 0.9977416396141052, 0.9902753233909607, 0.12224236875772476, 0.7804704904556274, 0.03761303797364235, 0.014104888774454594, 0.04701629653573036, 0.9796544313430786, 0.9700334072113037, 0.6081250309944153, 0.0047324905171990395, 0.0875510722398758, 0.12777723371982574, 0.09938229620456696, 0.05205739289522171, 0.0023662452585995197, 0.016563715413212776, 0.4304460287094116, 0.3013122081756592, 0.02391366846859455, 0.08608920127153397, 0.15304747223854065, 0.3651719093322754, 0.024077270179986954, 0.052167415618896484, 0.4454294741153717, 0.11236058920621872, 0.9590162634849548, 0.9849555492401123, 0.18831051886081696, 0.7532420754432678, 0.9641821980476379, 0.6658262610435486, 0.781127393245697, 0.13018789887428284, 0.8714742064476013, 0.6765204668045044, 0.07927974313497543, 0.07927974313497543, 0.05813847482204437, 0.10570631921291351, 0.3631688952445984, 0.07601209729909897, 0.5602372884750366, 0.8026469349861145, 0.09462098032236099, 0.016313962638378143, 0.07830701768398285, 0.006525584962219, 0.956198513507843, 0.5813059210777283, 0.6468290090560913, 0.06160276383161545, 0.02464110404253006, 0.16016718745231628, 0.01232055202126503, 0.03696165606379509, 0.0523623488843441, 0.006160276010632515, 0.9737544655799866, 0.286281019449234, 0.5589295625686646, 0.08179457485675812, 0.054529715329408646, 0.7304726839065552, 0.009246489964425564, 0.09246490150690079, 0.07397191971540451, 0.09246490150690079, 0.4713732600212097, 0.5076327323913574, 0.12653318047523499, 0.49601003527641296, 0.14677847921848297, 0.14677847921848297, 0.050613269209861755, 0.030367961153388023, 0.6328693628311157, 0.3616396188735962, 0.41634851694107056, 0.4996182322502136, 0.10788728296756744, 0.8785107731819153, 0.8722369074821472, 0.05207384377717972, 0.0650923028588295, 0.28338420391082764, 0.3249472379684448, 0.20025818049907684, 0.14735978841781616, 0.02644919417798519, 0.015113824978470802, 0.9903817772865295, 0.8479911088943481, 0.8285889625549316, 0.05619300156831741, 0.9178190231323242, 0.5683774948120117, 0.4092318117618561, 0.779707670211792, 0.8757503032684326, 0.06693147122859955, 0.9370405673980713, 0.9795652031898499, 0.9294764399528503, 0.9958052635192871, 0.9726266860961914, 0.7069159150123596, 0.26044270396232605, 0.7635629773139954, 0.015776095911860466, 0.21771010756492615, 0.7797051668167114, 0.8970996737480164, 0.005677846260368824, 0.09652338176965714, 0.9654685258865356, 0.02413671277463436, 0.905147910118103, 0.6513040065765381, 0.077128104865551, 0.051418736577034, 0.102837473154068, 0.11569216102361679, 0.07969614118337631, 0.8766575455665588, 0.6462132334709167, 0.09144526720046997, 0.006096350960433483, 0.08839709311723709, 0.07010804116725922, 0.08230073750019073, 0.015240877866744995, 0.0030481754802167416, 0.9735609292984009, 0.0609598383307457, 0.9143975377082825, 0.9961915016174316, 0.9827486872673035, 0.6690424680709839, 0.543217658996582, 0.918952465057373, 0.9911174774169922, 0.9563769698143005, 0.3717409372329712, 0.24782730638980865, 0.017701949924230576, 0.10621169954538345, 0.26552924513816833, 0.5710350275039673, 0.4599442780017853, 0.49827298521995544, 0.7266303896903992, 0.9764957427978516, 0.8635627031326294, 0.9615863561630249, 0.48197776079177856, 0.08721502870321274, 0.018361058086156845, 0.004590264521539211, 0.35345035791397095, 0.055083174258470535, 0.5732741951942444, 0.0477728471159935, 0.2559259533882141, 0.017061730846762657, 0.10237038880586624, 0.40943804383277893, 0.5641146302223206, 0.022746557369828224, 0.459784597158432, 0.01986723579466343, 0.014190882444381714, 0.30652305483818054, 0.198672354221344, 0.1953195035457611, 0.3906390070915222, 0.10016384720802307, 0.18530312180519104, 0.1352211982011795, 0.9616965055465698, 0.11053379625082016, 0.6263582110404968, 0.25791218876838684, 0.2977597415447235, 0.6699594259262085, 0.8914845585823059, 0.8824335932731628, 0.0963614210486412, 0.289084255695343, 0.5368707776069641, 0.06882958859205246, 0.9915493130683899, 0.8746209740638733, 0.038026999682188034, 0.010864856652915478, 0.0706215649843216, 0.02836422622203827, 0.8083804845809937, 0.15600325167179108, 0.9688949584960938, 0.8427479863166809, 0.14951980113983154, 0.8376467227935791, 0.05665626749396324, 0.11331253498792648, 0.7818565368652344, 0.04532501474022865, 0.9786539673805237, 0.3040643632411957, 0.05067739263176918, 0.6588061451911926, 0.9634202718734741, 0.31421321630477905, 0.6633390188217163, 0.9317835569381714, 0.6476169228553772, 0.007276594638824463, 0.20374464988708496, 0.05093616247177124, 0.007276594638824463, 0.08731913566589355, 0.08891133219003677, 0.04001009836792946, 0.8491032123565674, 0.008891133591532707, 0.004445566795766354, 0.004445566795766354, 0.9756198525428772, 0.96090167760849, 0.0369577556848526, 0.9190829992294312, 0.770484209060669, 0.14915256202220917, 0.24858759343624115, 0.29830512404441833, 0.012429379858076572, 0.12429379671812057, 0.08700565993785858, 0.09943503886461258, 0.5962390899658203, 0.980424165725708, 0.2736242711544037, 0.5472485423088074, 0.9822151064872742, 0.946871280670166, 0.8440449833869934, 0.09378277510404587, 0.7213980555534363, 0.24046601355075836, 0.9198591709136963, 0.892104983329773, 0.5407310724258423, 0.12080162018537521, 0.0920393317937851, 0.06327703595161438, 0.1840786635875702, 0.9641516208648682, 0.9543505907058716, 0.0960140973329544, 0.7955453991889954, 0.0960140973329544, 0.5253896117210388, 0.2508617043495178, 0.08046507835388184, 0.14199720323085785, 0.2691153585910797, 0.3611811399459839, 0.12039371579885483, 0.21954147517681122, 0.028327932581305504, 0.9961487650871277, 0.8235762715339661, 0.23735618591308594, 0.7120685577392578, 0.988395094871521, 0.15650777518749237, 0.06402590870857239, 0.7505258917808533, 0.028455957770347595, 0.9602596759796143, 0.03623621165752411, 0.9634049534797668, 0.9508087635040283, 0.06619010865688324, 0.8770189881324768, 0.03309505432844162, 0.01654752716422081, 0.4567287266254425, 0.29230639338493347, 0.02131400816142559, 0.09439060837030411, 0.00608971668407321, 0.1309289038181305, 0.3546809256076813, 0.3546809256076813, 0.6437345743179321, 0.9522613286972046, 0.03702159225940704, 0.1974484920501709, 0.7527723908424377, 0.5064268112182617, 0.2965262234210968, 0.009995265863835812, 0.10328441113233566, 0.07996212691068649, 0.052313223481178284, 0.23303163051605225, 0.08084771037101746, 0.504109263420105, 0.0380459800362587, 0.04280173033475876, 0.052313223481178284, 0.3361540734767914, 0.4370002746582031, 0.20169243216514587, 0.6967967748641968, 0.9547790884971619, 0.14104653894901276, 0.10074752569198608, 0.06044851616024971, 0.040299009531736374, 0.6246346831321716, 0.5234990119934082, 0.13087475299835205, 0.018051691353321075, 0.12636183202266693, 0.1669781357049942, 0.03610338270664215, 0.8890783190727234, 0.06839063763618469, 0.67488032579422, 0.9939088225364685, 0.5286474823951721, 0.26432374119758606, 0.9569450616836548, 0.9438334107398987, 0.8722406029701233, 0.5866982936859131, 0.06400345265865326, 0.16000863909721375, 0.1706758737564087, 0.8313482403755188, 0.16008809208869934, 0.42023125290870667, 0.40022024512290955, 0.9400398135185242, 0.04272908344864845, 0.1804892122745514, 0.2062733769416809, 0.5930359959602356, 0.9766455888748169, 0.5775699019432068, 0.023478450253605843, 0.06104397028684616, 0.129131481051445, 0.1526099294424057, 0.02582629583775997, 0.0281741414219141, 0.9534619450569153, 0.09813395887613297, 0.9028323888778687, 0.02422349341213703, 0.9689397215843201, 0.040046047419309616, 0.4805525839328766, 0.46720391511917114, 0.990986704826355, 0.9413153529167175, 0.52460116147995, 0.16691854596138, 0.2861460745334625, 0.7874987721443176, 0.9490552544593811, 0.9795436263084412, 0.447149395942688, 0.5365793108940125, 0.2338254451751709, 0.032251786440610886, 0.16932187974452972, 0.2418883889913559, 0.33058080077171326, 0.5028226971626282, 0.04623657092452049, 0.017338713631033897, 0.06935485452413559, 0.20806457102298737, 0.11559142917394638, 0.034677427262067795, 0.1544133871793747, 0.8382440805435181, 0.021131666377186775, 0.9720566272735596, 0.9624574780464172, 0.9672675728797913, 0.9494436979293823, 0.883147120475769, 0.1673099398612976, 0.7850697636604309, 0.03860998526215553, 0.06676104664802551, 0.9346545934677124, 0.9537023305892944, 0.9494962096214294, 0.9729123711585999, 0.9745864272117615, 0.978565514087677, 0.4695166349411011, 0.5086430311203003, 0.023475831374526024, 0.8575653433799744, 0.9928586483001709, 0.7287270426750183, 0.02429090067744255, 0.2429090142250061, 0.2062501609325409, 0.2062501609325409, 0.2062501609325409, 0.33000025153160095, 0.6534943580627441, 0.9787684082984924, 0.3123914897441864, 0.3123914897441864, 0.3123914897441864, 0.24708618223667145, 0.6588964462280273, 0.7973885536193848, 0.18122467398643494, 0.036295924335718155, 0.9073981642723083, 0.48562565445899963, 0.48562565445899963, 0.9876423478126526, 0.8999001383781433, 0.09573405981063843, 0.1252235472202301, 0.1252235472202301, 0.33810359239578247, 0.22540238499641418, 0.05008941888809204, 0.1252235472202301, 0.01252235472202301, 0.935309648513794, 0.045624859631061554, 0.9353152513504028, 0.736184298992157, 0.08637895435094833, 0.003926316276192665, 0.0510421097278595, 0.10012105852365494, 0.005889474414288998, 0.013742106966674328, 0.9888254404067993, 0.3932739198207855, 0.5899108648300171, 0.602479100227356, 0.26834556460380554, 0.02250640280544758, 0.010387570597231388, 0.04674406722187996, 0.03116271086037159, 0.015581355430185795, 0.9816105961799622, 0.009345321916043758, 0.9859314560890198, 0.9911180138587952, 0.9756775498390198, 0.9868204593658447, 0.30899396538734436, 0.04119919613003731, 0.26779478788375854, 0.04119919613003731, 0.32959356904029846, 0.9937995076179504, 0.9378198385238647, 0.698296844959259, 0.16320504248142242, 0.07730764895677567, 0.12025634199380875, 0.10307686775922775, 0.06012817099690437, 0.4724356234073639, 0.10338977724313736, 0.4394065737724304, 0.45491501688957214, 0.28903061151504517, 0.09634353965520859, 0.6101757287979126, 0.9162461161613464, 0.9238699674606323, 0.9741630554199219, 0.8559836745262146, 0.08559837192296982, 0.9235497713088989, 0.008631306700408459, 0.008631306700408459, 0.0517878383398056, 0.5656498074531555, 0.353531152009964, 0.07070622593164444, 0.9359740614891052, 0.04926179349422455, 0.9439935684204102, 0.939467191696167, 0.7776728272438049, 0.24067987501621246, 0.7220396399497986, 0.9660391211509705, 0.9069789052009583, 0.09069789201021194, 0.8593320846557617, 0.13020183145999908, 0.9248917102813721, 0.06994979083538055, 0.013572322204709053, 0.027144644409418106, 0.8686286211013794, 0.03393080458045006, 0.04750312864780426, 0.8654532432556152, 0.08577203005552292, 0.9006062746047974, 0.5295695066452026, 0.441307932138443, 0.9133381247520447, 0.8182263970375061, 0.692072331905365, 0.06647022068500519, 0.07820026576519012, 0.06256020814180374, 0.1016603410243988, 0.8292275667190552, 0.02037542499601841, 0.9576449394226074, 0.010187712498009205, 0.4289884865283966, 0.04465307667851448, 0.09727991372346878, 0.22007587552070618, 0.06697961688041687, 0.055816344916820526, 0.08611664921045303, 0.8235806822776794, 0.7463842630386353, 0.0517200343310833, 0.2198101431131363, 0.0775800496339798, 0.6594304442405701, 0.9660134315490723, 0.02947268821299076, 0.9725987315177917, 0.20931850373744965, 0.7849443554878235, 0.6098294258117676, 0.10875938832759857, 0.2058659940958023, 0.058263957500457764, 0.00776852760463953, 0.003884263802319765, 0.050109073519706726, 0.8769087791442871, 0.06681209802627563, 0.7108151912689209, 0.23693840205669403, 0.9524774551391602, 0.03968656063079834, 0.4299710690975189, 0.19153256714344025, 0.1329001486301422, 0.003908827900886536, 0.22280319035053253, 0.003908827900886536, 0.007817655801773071, 0.003908827900886536, 0.07210365682840347, 0.9133129715919495, 0.18627862632274628, 0.7916841506958008, 0.06303326785564423, 0.5386478900909424, 0.13752712309360504, 0.2521330714225769, 0.005730296950787306, 0.9172098636627197, 0.07861799001693726, 0.4699353873729706, 0.8991077542304993, 0.06517341732978821, 0.8146677017211914, 0.09776012599468231, 0.020366692915558815, 0.3825773298740387, 0.5738660097122192, 0.9285649657249451, 0.9882423877716064, 0.4006038308143616, 0.15350240468978882, 0.0711352601647377, 0.3481883704662323, 0.022463764995336533, 0.3163449168205261, 0.6326898336410522, 0.2144964039325714, 0.6434892416000366, 0.9911956787109375, 0.9325715899467468, 0.9331979155540466, 0.05268052965402603, 0.9852700233459473, 0.9877542853355408, 0.540412962436676, 0.005298166070133448, 0.2649083137512207, 0.04238532856106758, 0.14834865927696228, 0.015282883308827877, 0.9842177033424377, 0.3391101360321045, 0.6473920941352844, 0.6098472476005554, 0.014874323271214962, 0.11403647810220718, 0.0198324304074049, 0.2379891723394394, 0.27388814091682434, 0.5066930651664734, 0.11640245467424393, 0.058201227337121964, 0.02396521158516407, 0.01711800880730152, 0.9714727997779846, 0.9788463115692139, 0.010876069776713848, 0.5419784188270569, 0.024087930098176003, 0.19270344078540802, 0.17764848470687866, 0.009032974019646645, 0.05419784039258957, 0.802975594997406, 0.5500054955482483, 0.4452425241470337, 0.9776776432991028, 0.5113816261291504, 0.008248090744018555, 0.4206526577472687, 0.04948854818940163, 0.008248090744018555, 0.095749132335186, 0.2106480896472931, 0.191498264670372, 0.4978954792022705, 0.9330604076385498, 0.8183993101119995, 0.16932399570941925, 0.07896274328231812, 0.8685901165008545, 0.8319135904312134, 0.15280045568943024, 0.9776779413223267, 0.9659522175788879, 0.9859325885772705, 0.7119870185852051, 0.21802355349063873, 0.05102678760886192, 0.06030438467860222, 0.6308766603469849, 0.03711039200425148, 0.9627993702888489, 0.4097151756286621, 0.5462868809700012, 0.7719628810882568, 0.630944013595581, 0.8668573498725891, 0.02015947364270687, 0.11087710410356522, 0.7999628186225891, 0.2133234143257141, 0.30091211199760437, 0.45136818289756775, 0.30091211199760437, 0.6309442520141602, 0.7093446850776672, 0.2026699036359787, 0.983903706073761, 0.9209993481636047, 0.07007603347301483, 0.015785420313477516, 0.03157084062695503, 0.21310317516326904, 0.07892709970474243, 0.015785420313477516, 0.64720219373703, 0.986240804195404, 0.9716097712516785, 0.9752484560012817, 0.7309845089912415, 0.9009952545166016, 0.004717252682894468, 0.08962780237197876, 0.004717252682894468, 0.2900664210319519, 0.053277503699064255, 0.42030030488967896, 0.04735778272151947, 0.12431417405605316, 0.011839445680379868, 0.04143805801868439, 0.9368076920509338, 0.9798151850700378, 0.18640059232711792, 0.7456023693084717, 0.9867858290672302, 0.9403256177902222, 0.0529760904610157, 0.9698143005371094, 0.4394626021385193, 0.014176213182508945, 0.08978268504142761, 0.36858153343200684, 0.08505728095769882, 0.6532718539237976, 0.13400447368621826, 0.05025167763233185, 0.016750559210777283, 0.05025167763233185, 0.06700223684310913, 0.7898258566856384, 0.014024272561073303, 0.09816990792751312, 0.8835291862487793, 0.506626307964325, 0.06886182725429535, 0.004918701946735382, 0.04426831752061844, 0.01967480778694153, 0.31971561908721924, 0.029512209817767143, 0.9437759518623352, 0.029991338029503822, 0.9597228169441223, 0.9844993948936462, 0.9830318689346313, 0.06648290157318115, 0.9307606816291809, 0.977252721786499, 0.5182820558547974, 0.2242017239332199, 0.16520127654075623, 0.6018046140670776, 0.9664573669433594, 0.9227489233016968, 0.03530941531062126, 0.0882735401391983, 0.8650806546211243, 0.7312638759613037, 0.9088022708892822, 0.06649772822856903, 0.6725388169288635, 0.1098022609949112, 0.06519509106874466, 0.0274505652487278, 0.07205773144960403, 0.0274505652487278, 0.02401924505829811, 0.05506286025047302, 0.936068594455719, 0.27343079447746277, 0.11635353416204453, 0.08726514875888824, 0.3316075801849365, 0.02908838354051113, 0.005817676894366741, 0.15125960111618042, 0.616619348526001, 0.07149209827184677, 0.008936512283980846, 0.19660326838493347, 0.1027698889374733, 0.994188666343689, 0.9920270442962646, 0.925261914730072, 0.017793498933315277, 0.035586997866630554, 0.9244884848594666, 0.03918575122952461, 0.9124681949615479, 0.04478371515870094, 0.8038094639778137, 0.4359738528728485, 0.5231686234474182, 0.9243854880332947, 0.2557078003883362, 0.6687742471694946, 0.06884440779685974, 0.9408227205276489, 0.9811167120933533, 0.8088061809539795, 0.9789564609527588, 0.7840746641159058, 0.16037891805171967, 0.053459636867046356, 0.13472731411457062, 0.040418192744255066, 0.8218365907669067, 0.054987143725156784, 0.6818405985832214, 0.23094600439071655, 0.021994857117533684, 0.03977380692958832, 0.8551368713378906, 0.07954761385917664, 0.01988690346479416, 0.8781840801239014, 0.21799644827842712, 0.2452460080385208, 0.2111840546131134, 0.3269946873188019, 0.7736815810203552, 0.01013556681573391, 0.0506778322160244, 0.14527645707130432, 0.016892611980438232, 0.9844806790351868, 0.4704916775226593, 0.10909952223300934, 0.3272985517978668, 0.08864335715770721, 0.8496057987213135, 0.37462708353996277, 0.007970789447426796, 0.007970789447426796, 0.5978091955184937, 0.9441331624984741, 0.003926211502403021, 0.34697893261909485, 0.003926211502403021, 0.007852423004806042, 0.6370278000831604, 0.9160739183425903, 0.05749613419175148, 0.17248840630054474, 0.383307546377182, 0.383307546377182, 0.8858615756034851, 0.6193609237670898, 0.3096804618835449, 0.3482271730899811, 0.3482271730899811, 0.3294422924518585, 0.12978029251098633, 0.5390874147415161, 0.06479015201330185, 0.8746670484542847, 0.04859261214733124, 0.39875343441963196, 0.13291780650615692, 0.06645890325307846, 0.16614726185798645, 0.049844179302453995, 0.19937671720981598, 0.9674544930458069, 0.4454641044139862, 0.15210969746112823, 0.09235231578350067, 0.2987869083881378, 0.010864977724850178, 0.7233455777168274, 0.04564801976084709, 0.05618217960000038, 0.1755693107843399, 0.9960154294967651, 0.9644454121589661, 0.2982429563999176, 0.3728036880493164, 0.2982429563999176, 0.9635366201400757, 0.6358193159103394, 0.07947741448879242, 0.26492470502853394, 0.7883144021034241, 0.3073408007621765, 0.614681601524353, 0.46104896068573, 0.033328842371702194, 0.08887691050767899, 0.16108940541744232, 0.07221248745918274, 0.17775382101535797, 0.9463220834732056, 0.0511525422334671, 0.7578160762786865, 0.20550945401191711, 0.02568868175148964, 0.9493041634559631, 0.9506853222846985, 0.2726830542087555, 0.01514905784279108, 0.6211113929748535, 0.09089434891939163, 0.9514949917793274, 0.6500160098075867, 0.044218774884939194, 0.030953142791986465, 0.07517191767692566, 0.026531264185905457, 0.16803134977817535, 0.04358955845236778, 0.24700750410556793, 0.6974329352378845, 0.9181589484214783, 0.9820024967193604, 0.05847325921058655, 0.13643760979175568, 0.7991345524787903, 0.9677980542182922, 0.0760752409696579, 0.9129028916358948, 0.2530304789543152, 0.010121218860149384, 0.1923031508922577, 0.020242437720298767, 0.040484875440597534, 0.21254558861255646, 0.27327290177345276, 0.26143476366996765, 0.16993258893489838, 0.09150216728448868, 0.4705825448036194, 0.9421514272689819, 0.7080219984054565, 0.5580293536186218, 0.43120449781417847, 0.9450879693031311, 0.49648886919021606, 0.007880776189267635, 0.3861580193042755, 0.0709269791841507, 0.03152310475707054, 0.04420913755893707, 0.9283918738365173, 0.320692241191864, 0.03206922486424446, 0.03206922486424446, 0.6253498792648315, 0.1676611453294754, 0.1490321308374405, 0.03725803270936012, 0.42846739292144775, 0.22354820370674133, 0.8791019320487976, 0.9864480495452881, 0.6494185924530029, 0.9878016114234924, 0.7063826322555542, 0.003549661487340927, 0.04614559933543205, 0.23072798550128937, 0.010648984462022781, 0.003549661487340927, 0.33052873611450195, 0.5949516892433167, 0.9652464985847473, 0.9917110800743103, 0.6108567714691162, 0.11230998486280441, 0.01643560826778412, 0.049306824803352356, 0.11230998486280441, 0.01095707155764103, 0.0821780413389206, 0.005478535778820515, 0.8990307450294495, 0.060745321214199066, 0.0364471934735775, 0.9506853222846985, 0.9057454466819763, 0.9748210310935974, 0.5795003771781921, 0.21731263399124146, 0.14487509429454803, 0.07243754714727402, 0.9871323108673096, 0.9751558303833008, 0.5870862007141113, 0.9251323342323303, 0.06349481642246246, 0.2063581496477127, 0.21429499983787537, 0.5158953666687012, 0.2327839434146881, 0.30809640884399414, 0.006846586707979441, 0.4450281262397766, 0.9544095993041992, 0.6296045184135437, 0.017249438911676407, 0.05606067553162575, 0.2932404577732086, 0.9874420762062073, 0.660306990146637, 0.08520089834928513, 0.007100075017660856, 0.22010232508182526, 0.02130022458732128, 0.9408231973648071, 0.544405996799469, 0.10888119786977768, 0.21776239573955536, 0.9331559538841248, 0.7715479731559753, 0.6703026294708252, 0.22008207440376282, 0.6602462530136108, 0.9690837860107422, 0.9486573934555054, 0.9948846697807312, 0.45471876859664917, 0.23818601667881012, 0.04330654814839363, 0.23818601667881012, 0.5467573404312134, 0.9017454385757446, 0.5241890549659729, 0.07400316745042801, 0.09867088496685028, 0.0061669303104281425, 0.29601266980171204, 0.7519860863685608, 0.07840613275766373, 0.03920306637883186, 0.028511321172118187, 0.09978961944580078, 0.9937027096748352, 0.9235888123512268, 0.9642190933227539, 0.982895016670227, 0.8601533770561218, 0.8913567066192627, 0.1521386057138443, 0.8367623686790466, 0.9799851179122925, 0.9842908978462219, 0.15459516644477844, 0.7296891808509827, 0.01855142042040825, 0.074205681681633, 0.01855142042040825, 0.9649264812469482, 0.9464069604873657, 0.683139443397522, 0.31229230761528015, 0.39388078451156616, 0.3012029528617859, 0.2780334949493408, 0.1399027556180954, 0.8044407963752747, 0.03497568890452385, 0.9793213605880737, 0.7824166417121887, 0.9803294539451599, 0.9145584106445312, 0.651702344417572, 0.9162459373474121, 0.9687134027481079, 0.30268800258636475, 0.0555957555770874, 0.185319185256958, 0.4571206569671631, 0.9766848683357239, 0.9162459373474121, 0.8649413585662842, 0.7849680185317993, 0.9369435906410217, 0.30213624238967896, 0.0344904400408268, 0.544948935508728, 0.11036940664052963, 0.006898087915033102, 0.9931785464286804, 0.5664834976196289, 0.47788721323013306, 0.19115488231182098, 0.31859147548675537, 0.932309627532959, 0.13702929019927979, 0.8495815992355347, 0.9886090755462646, 0.5677075386047363, 0.02899778261780739, 0.8506016135215759, 0.08699335157871246, 0.02899778261780739, 0.17192794382572174, 0.10745496302843094, 0.15473514795303345, 0.33525949716567993, 0.21920812129974365, 0.025665396824479103, 0.9239543080329895, 0.03849809616804123, 0.9931786060333252, 0.5395835041999817, 0.45464906096458435, 0.004996143747121096, 0.9541521668434143, 0.7773680090904236, 0.4777267277240753, 0.10185007005929947, 0.8875505924224854, 0.09413356333971024, 0.5177345871925354, 0.37653425335884094, 0.20667687058448792, 0.7233690023422241, 0.8651123046875, 0.28981688618659973, 0.010733958333730698, 0.04293583333492279, 0.6547714471817017, 0.9904951453208923, 0.9500105381011963, 0.4875226318836212, 0.2437613159418106, 0.9492758512496948, 0.9416069984436035, 0.027694324031472206, 0.880778968334198, 0.8715601563453674, 0.04493314400315285, 0.838752031326294, 0.07488857209682465, 0.0149777140468359, 0.015032481402158737, 0.010021653957664967, 0.8317973017692566, 0.055119097232818604, 0.08518406003713608, 0.9724583029747009, 0.8318637609481812, 0.3986627459526062, 0.5695182085037231, 0.17560610175132751, 0.009755894541740417, 0.7121802568435669, 0.09755894541740417, 0.9690981507301331, 0.3568013906478882, 0.2158428132534027, 0.1277437061071396, 0.10571892559528351, 0.19381803274154663, 0.8851431608200073, 0.6418688893318176, 0.006578553002327681, 0.24998502433300018, 0.7367979288101196, 0.13853521645069122, 0.8352859020233154, 0.02444739080965519, 0.7952331900596619, 0.07405005395412445, 0.016097838059067726, 0.04507394880056381, 0.016097838059067726, 0.05151308327913284, 0.4821031391620636, 0.9590599536895752, 0.9858554601669312, 0.30698636174201965, 0.026928629726171494, 0.26928630471229553, 0.16695749759674072, 0.15080031752586365, 0.08078588545322418, 0.1749333292245865, 0.08746666461229324, 0.699733316898346, 0.7581209540367126, 0.1646738052368164, 0.0310705304145813, 0.006214105989784002, 0.04039168730378151, 0.003107052994892001, 0.9434341192245483, 0.8600587248802185, 0.08242334425449371, 0.11905594170093536, 0.6227541565895081, 0.06410704553127289, 0.03663259744644165, 0.06410704553127289, 0.9879350662231445, 0.08773794025182724, 0.35095176100730896, 0.5264276266098022, 0.7184511423110962, 0.2694191634654999, 0.016248947009444237, 0.9424389004707336, 0.032497894018888474, 0.9806228280067444, 0.45376357436180115, 0.1368493288755417, 0.15125451982021332, 0.2448882758617401, 0.01440519280731678, 0.9750654697418213, 0.020969148725271225, 0.9688949584960938, 0.39412885904312134, 0.6050710678100586, 0.8361428380012512, 0.017721718177199364, 0.0016110652359202504, 0.037054501473903656, 0.038665566593408585, 0.004833195824176073, 0.061220478266477585, 0.5957944989204407, 0.2729894518852234, 0.029889356344938278, 0.0019926237873733044, 0.06974183022975922, 0.027896732091903687, 0.7475692629814148, 0.9289370179176331, 0.7632948160171509, 0.2396257072687149, 0.684644877910614, 0.0342322438955307, 0.33551594614982605, 0.366328626871109, 0.046219032257795334, 0.23451879620552063, 0.0068472642451524734, 0.0017118160612881184, 0.0017118160612881184, 0.0068472642451524734, 0.24268275499343872, 0.09437663108110428, 0.1348237544298172, 0.10785900056362152, 0.41795364022254944, 0.2664839029312134, 0.2664839029312134, 0.3197806775569916, 0.10659356415271759, 0.6709698438644409, 0.12580683827400208, 0.05824390798807144, 0.027957076206803322, 0.044265370815992355, 0.06989268958568573, 0.002329756272956729, 0.3944356441497803, 0.42730528116226196, 0.16434818506240845, 0.7463846802711487, 0.6308246850967407, 0.1890709549188614, 0.7940980195999146, 0.21369896829128265, 0.12078636884689331, 0.6039318442344666, 0.027873778715729713, 0.03251940757036209], \"Term\": [\"abbey\", \"academy\", \"access\", \"access\", \"accumulation\", \"acutely\", \"additional\", \"adjustment\", \"adult\", \"adult\", \"adviser\", \"adviser\", \"adviser\", \"afternoon\", \"afternoon\", \"agent\", \"agent\", \"agree\", \"agree\", \"agree\", \"agree\", \"agree\", \"aig\", \"airport\", \"airport\", \"alexander\", \"alison\", \"ally\", \"ally\", \"ally\", \"america\", \"america\", \"america\", \"america\", \"america\", \"america\", \"analyse\", \"andrew\", \"andrew\", \"andrew\", \"anna\", \"anne\", \"answer\", \"anticipate\", \"appall\", \"apprenticeship\", \"archaeology\", \"architect\", \"argentina\", \"argument\", \"argument\", \"arial\", \"army\", \"art\", \"art\", \"art\", \"art\", \"artificial\", \"artificial\", \"artillery\", \"ash\", \"assemble\", \"asset\", \"asset\", \"asset\", \"asset\", \"athens\", \"attend\", \"attend\", \"attend\", \"attendance\", \"attribution\", \"austin_news\", \"austin_news_deck_web\", \"australia\", \"australia\", \"australia\", \"baby\", \"bag\", \"bailout\", \"banana\", \"bank\", \"bank\", \"bank\", \"bank\", \"banker\", \"barcelona\", \"barely\", \"barrel\", \"barrier\", \"barrier\", \"basic\", \"basic\", \"basic\", \"basic\", \"battery\", \"battery\", \"be\", \"be\", \"be\", \"be\", \"beach\", \"beach\", \"beauty\", \"beauty\", \"bee\", \"belgium\", \"berkshire\", \"berkshire\", \"bermuda\", \"betfair\", \"biogas\", \"bleach\", \"blend\", \"blend\", \"bless\", \"bless\", \"bloc\", \"bn\", \"bn\", \"bn\", \"boe\", \"bond\", \"bond\", \"bond\", \"bonus\", \"borough\", \"boutique\", \"bp\", \"bp\", \"brand\", \"brand\", \"brand\", \"brexit\", \"brexit\", \"bricklayer\", \"brig\", \"britain\", \"britain\", \"britain\", \"britain\", \"british\", \"british\", \"british\", \"british\", \"british\", \"broadly\", \"brussels\", \"brussels\", \"brutal\", \"bt\", \"buckingham\", \"buckingham\", \"buffett\", \"buffett\", \"build\", \"build\", \"build\", \"build\", \"build\", \"build\", \"building\", \"burn\", \"burn\", \"burn\", \"burr\", \"burr\", \"business\", \"business\", \"business\", \"business\", \"business\", \"cambridge\", \"cambridge\", \"cambridge\", \"cambridge\", \"cameron\", \"campaign\", \"campaign\", \"campaign\", \"campaign\", \"car\", \"car\", \"carbon\", \"carbon\", \"care\", \"care\", \"care\", \"carer\", \"caroline\", \"carpet\", \"case\", \"cdr\", \"cent\", \"cent\", \"cent\", \"cent\", \"cent\", \"cent\", \"centre\", \"centre\", \"centre\", \"centre\", \"centre\", \"centre\", \"chair\", \"chair\", \"chair\", \"challenge\", \"challenge\", \"challenge\", \"challenge\", \"change\", \"change\", \"change\", \"change\", \"change\", \"change\", \"charitable\", \"charity\", \"charity\", \"charles\", \"cheer\", \"chief\", \"chief\", \"chief\", \"chief\", \"chief\", \"chief_executive\", \"chief_executive\", \"chief_executive\", \"chief_executive\", \"chief_executive\", \"chief_executive\", \"child\", \"child\", \"child\", \"child\", \"chinese\", \"chinese\", \"chip\", \"christine\", \"christine\", \"city\", \"city\", \"city\", \"city\", \"city\", \"city\", \"claire\", \"clarence\", \"clark\", \"clean\", \"clean\", \"clean\", \"climate_change\", \"climate_change\", \"climate_change\", \"climate_change\", \"climate_change\", \"clinical\", \"co\", \"co\", \"co\", \"co\", \"co\", \"co\", \"co\", \"coal\", \"coal\", \"coalition\", \"cocktail\", \"coincide\", \"coke\", \"col\", \"cold\", \"cold\", \"collect\", \"collection\", \"collection\", \"collection\", \"collection\", \"colonel\", \"color\", \"colour\", \"come\", \"come\", \"come\", \"come\", \"come\", \"come\", \"commander\", \"community\", \"community\", \"community\", \"community\", \"community\", \"community\", \"company\", \"company\", \"company\", \"company\", \"company\", \"component\", \"component\", \"component_quote\", \"composition\", \"conceive\", \"concrete\", \"consolidation\", \"consumer\", \"consumer\", \"consumer\", \"consumer\", \"contemporary\", \"context\", \"continental\", \"convert\", \"cooperation\", \"coral\", \"corbyn\", \"corporate\", \"cosmetic\", \"cosmetic\", \"cost\", \"cost\", \"cost\", \"cost\", \"council\", \"council\", \"council\", \"council\", \"council\", \"counterpart\", \"countess\", \"country\", \"country\", \"country\", \"country\", \"country\", \"coutts\", \"cox\", \"create\", \"create\", \"create\", \"create\", \"create\", \"create\", \"creditor\", \"cricket\", \"cricket\", \"crisis\", \"crisis\", \"crisis\", \"crisis\", \"cup\", \"cup\", \"cup\", \"custom\", \"customer\", \"customer\", \"customer\", \"cut\", \"cut\", \"cut\", \"cut\", \"cut\", \"cut\", \"dame\", \"dance\", \"dare\", \"daughter\", \"david\", \"david\", \"david\", \"david\", \"david\", \"day\", \"day\", \"day\", \"day\", \"day\", \"day\", \"day\", \"dc\", \"deal\", \"deal\", \"deal\", \"deal\", \"deal\", \"debt\", \"debt\", \"debt_relief\", \"decent\", \"deck\", \"deck\", \"decline\", \"decline\", \"decline\", \"decline\", \"decline\", \"decline\", \"default\", \"default\", \"defence\", \"defence\", \"defence\", \"defender\", \"deflation\", \"deliver\", \"deliver\", \"deliver\", \"democratic\", \"democratic\", \"denial\", \"dependency\", \"deputy\", \"design\", \"design\", \"design\", \"design\", \"design\", \"designer\", \"designer\", \"designer\", \"develop\", \"develope\", \"development\", \"development\", \"diamond\", \"diamond\", \"didn\", \"didn\", \"diesel\", \"diesel\", \"dinner\", \"dinner\", \"director\", \"director\", \"director\", \"director\", \"director\", \"director\", \"director\", \"director\", \"dirk\", \"disability\", \"disability\", \"distress\", \"distribute\", \"distribute\", \"distribution\", \"divest\", \"dividend\", \"domestically\", \"donate\", \"donation\", \"dp\", \"dress\", \"duchess\", \"duchess\", \"duke\", \"duke\", \"duke\", \"dust\", \"earl\", \"earth\", \"eastern\", \"eastern\", \"ec\", \"ecb\", \"economic\", \"economic\", \"economic\", \"economic\", \"economist\", \"economist\", \"economist\", \"economy\", \"economy\", \"economy\", \"economy\", \"economy\", \"economy\", \"economy\", \"edible\", \"education\", \"education\", \"education\", \"education\", \"education\", \"educational\", \"edward\", \"edward\", \"eir\", \"elaborate\", \"electric\", \"electric\", \"electricity\", \"eliminate\", \"emission\", \"emission\", \"empire\", \"enable\", \"enable\", \"energy\", \"energy\", \"energy\", \"energy\", \"energy\", \"engage\", \"engage\", \"engine\", \"engine\", \"england\", \"england\", \"england\", \"england\", \"england\", \"england\", \"ensure\", \"ensure\", \"ensure\", \"eot\", \"equity\", \"estate\", \"estate\", \"estate\", \"estate\", \"ethnic\", \"eu\", \"eu\", \"eur\", \"eur\", \"euro\", \"euro\", \"euro\", \"euro\", \"euro\", \"euro\", \"eurogroup\", \"europe\", \"europe\", \"europe\", \"europe\", \"european\", \"european\", \"european\", \"european\", \"eurozone\", \"even\", \"even\", \"even\", \"evolve\", \"excellency\", \"exclusive\", \"exhaust\", \"expedition\", \"experience\", \"experience\", \"experience\", \"experience\", \"exploitation\", \"exxon\", \"fabric\", \"face\", \"face\", \"face\", \"face\", \"face\", \"face\", \"facebook\", \"fame\", \"family\", \"family\", \"family\", \"family\", \"famous\", \"farmer\", \"fashion\", \"fashion\", \"fashion\", \"fat\", \"fat\", \"fat\", \"fca\", \"fearful\", \"fee\", \"fee\", \"fee\", \"feel\", \"feel\", \"filing\", \"finance\", \"finance\", \"finance\", \"finance\", \"find\", \"find\", \"find\", \"find\", \"find\", \"fire\", \"fire\", \"fire\", \"fire\", \"fiscal\", \"fish\", \"fish\", \"fish\", \"fisherman\", \"flash\", \"fleet\", \"fleet\", \"float\", \"float\", \"flower\", \"flower\", \"font\", \"food\", \"food\", \"food\", \"food\", \"food\", \"forever\", \"format\", \"forward\", \"fossil\", \"fossil\", \"foster\", \"found\", \"found\", \"founder\", \"founder\", \"founder\", \"founder\", \"founder\", \"founder\", \"fragrance\", \"frances\", \"freedom\", \"freedom\", \"friend\", \"friend\", \"friendly\", \"fruit\", \"ftse\", \"ftse\", \"fuel\", \"fuel\", \"fuel\", \"fuel\", \"fund\", \"fund\", \"fund\", \"fund\", \"fund\", \"fund\", \"fund\", \"furniture\", \"furniture\", \"garment\", \"gas\", \"gas\", \"gas\", \"gas\", \"gdp\", \"gdp\", \"gen\", \"general\", \"general\", \"general\", \"general\", \"geneva\", \"georgia\", \"germany\", \"germany\", \"germany\", \"getty\", \"getty\", \"getty\", \"getty\", \"gillian\", \"gillian\", \"girl\", \"girl\", \"glasgow\", \"glasgow\", \"global\", \"global\", \"global\", \"global\", \"global\", \"global\", \"global\", \"globally\", \"go\", \"go\", \"go\", \"go\", \"go\", \"goal\", \"good\", \"good\", \"good\", \"good\", \"good\", \"government\", \"government\", \"government\", \"government\", \"government\", \"government\", \"gradual\", \"gradual\", \"grayling\", \"grayling\", \"great\", \"great\", \"great\", \"great\", \"great\", \"great\", \"greece\", \"greek\", \"green\", \"green\", \"green\", \"green\", \"green\", \"greenhouse\", \"grid\", \"group\", \"group\", \"group\", \"group\", \"group\", \"group\", \"group\", \"group\", \"grow\", \"grow\", \"grow\", \"grow\", \"grow\", \"growth\", \"growth\", \"growth\", \"growth\", \"growth\", \"guard\", \"guest\", \"gulf\", \"gulf\", \"hail\", \"hancock\", \"harvest\", \"harvest\", \"hathaway\", \"have\", \"have\", \"have\", \"have\", \"have\", \"health\", \"health\", \"health\", \"help\", \"help\", \"help\", \"help\", \"help\", \"henry\", \"herb\", \"high\", \"high\", \"high\", \"high\", \"high\", \"high\", \"high\", \"high\", \"highness\", \"history\", \"history\", \"history\", \"history\", \"hold\", \"hold\", \"hold\", \"hold\", \"hold\", \"holding\", \"holding\", \"home\", \"home\", \"home\", \"home\", \"home\", \"home\", \"homeless\", \"homeless\", \"hon\", \"hon\", \"hospital\", \"hospital\", \"hotel\", \"hotel\", \"hotel\", \"house\", \"house\", \"house\", \"house\", \"house\", \"house\", \"html_embed\", \"hubbert\", \"hudson\", \"humanitarian\", \"humanitarian\", \"hunt\", \"hunt\", \"hybrid\", \"hydrogen\", \"ian\", \"ian\", \"identify\", \"illegal\", \"imf\", \"img\", \"immigration\", \"immigration\", \"impact\", \"impact\", \"impact\", \"impress\", \"improve\", \"improve\", \"improve\", \"income\", \"income\", \"incorporate\", \"increase\", \"increase\", \"increase\", \"increase\", \"increase\", \"indigenous\", \"indigenous\", \"industry\", \"industry\", \"industry\", \"industry\", \"industry\", \"industry\", \"industry\", \"industry\", \"inevitable\", \"inflation\", \"inflation\", \"influence\", \"initially\", \"inline\", \"inman\", \"insect\", \"install\", \"installation\", \"institution\", \"institution\", \"institution\", \"institution\", \"institution\", \"insufficiently\", \"insurance\", \"insurance\", \"insurer\", \"integration\", \"intense\", \"inter\", \"interest\", \"interest\", \"interest\", \"interest\", \"interest\", \"interest\", \"international\", \"international\", \"international\", \"international\", \"international\", \"invest\", \"invest\", \"invest\", \"investment\", \"investment\", \"investment\", \"investment\", \"investment\", \"investor\", \"investor\", \"investor\", \"investor\", \"investor\", \"iona\", \"ireland\", \"ireland\", \"ireland\", \"irish\", \"irish\", \"isa\", \"isas\", \"island\", \"island\", \"island\", \"island\", \"isle\", \"issue\", \"issue\", \"issue\", \"issue\", \"italian\", \"italian\", \"italian\", \"italic\", \"italy\", \"italy\", \"jackie\", \"james\", \"james\", \"james\", \"james\", \"jane\", \"japan\", \"japan\", \"japan\", \"japanese\", \"jean\", \"jean\", \"jewellery\", \"job\", \"job\", \"job\", \"job\", \"job\", \"job\", \"john\", \"john\", \"john\", \"john\", \"john\", \"john\", \"johnson\", \"join\", \"join\", \"journal\", \"judgment\", \"june\", \"june\", \"june\", \"june\", \"june\", \"june\", \"june\", \"jungle\", \"kenneth\", \"kensington\", \"kensington\", \"kent\", \"kenya\", \"kevin\", \"kevin\", \"kg\", \"kg\", \"kiss\", \"klein\", \"know\", \"know\", \"know\", \"know\", \"know\", \"label\", \"labor\", \"labour\", \"labour\", \"labour\", \"large\", \"large\", \"large\", \"large\", \"late\", \"late\", \"late\", \"late\", \"late\", \"lawyer\", \"lb\", \"le\", \"le\", \"lean\", \"leave\", \"leave\", \"leave\", \"leave\", \"legal\", \"legal\", \"lend\", \"libya\", \"light\", \"light\", \"light\", \"light\", \"like\", \"like\", \"like\", \"like\", \"like\", \"like\", \"lion\", \"lion\", \"lipton\", \"litre\", \"loan\", \"loan\", \"loan\", \"local\", \"local\", \"local\", \"local\", \"local\", \"london\", \"london\", \"london\", \"london\", \"london\", \"london\", \"london\", \"lord\", \"lord\", \"lord\", \"louis\", \"louise\", \"love\", \"love\", \"love\", \"love\", \"love\", \"low\", \"low\", \"low\", \"low\", \"low\", \"low\", \"ltd\", \"ltd\", \"lunchtime\", \"luxury\", \"madagascar\", \"madagascar\", \"magazine\", \"maintenance\", \"majesty\", \"management\", \"management\", \"management\", \"management\", \"mandarin\", \"margin\", \"margin\", \"margin\", \"margin_leave\", \"margin_leave\", \"marine\", \"marine\", \"marine\", \"mark\", \"market\", \"market\", \"market\", \"market\", \"market\", \"market\", \"market\", \"marry\", \"martin\", \"martin\", \"mary\", \"mary\", \"material\", \"material\", \"material\", \"matthew\", \"maturity\", \"mayor\", \"mayor\", \"mayor\", \"mccgwire\", \"meat\", \"medical\", \"medicine\", \"medicine\", \"medium\", \"medium\", \"medium\", \"medium\", \"medium\", \"meet\", \"meet\", \"meet\", \"meet\", \"meet\", \"meet\", \"meet\", \"membership\", \"membership\", \"mental\", \"mental\", \"menu\", \"merger\", \"metal\", \"metropolitan\", \"michael\", \"michael\", \"michael\", \"migrant\", \"migrant\", \"mill\", \"millennials\", \"miller\", \"min\", \"miner\", \"minister\", \"minister\", \"minister\", \"minor\", \"monetary\", \"money\", \"money\", \"money\", \"morning\", \"morning\", \"morning\", \"morning\", \"moscow\", \"mother\", \"motion\", \"motion\", \"motion\", \"motor\", \"motor\", \"mp\", \"mp\", \"mps\", \"mps\", \"mrs\", \"mrs\", \"murphy\", \"museum\", \"museum\", \"national\", \"national\", \"national\", \"national\", \"national\", \"national\", \"national\", \"nature\", \"nature\", \"navy\", \"need\", \"need\", \"need\", \"need\", \"need\", \"need\", \"need\", \"neighbour\", \"neoliberal\", \"neoliberal\", \"new\", \"new\", \"new\", \"new\", \"new\", \"new\", \"new\", \"newspaper\", \"nhs\", \"nhs\", \"nicholas\", \"nigel\", \"non\", \"normal\", \"normal\", \"normal\", \"normal\", \"normal\", \"northern_ireland\", \"nursery\", \"offend\", \"office\", \"office\", \"office\", \"office\", \"office\", \"office\", \"officer\", \"officer\", \"officer\", \"oil\", \"oil\", \"oil\", \"opentype\", \"operative\", \"opponent\", \"organic\", \"organic\", \"organisation\", \"organisation\", \"organisation\", \"organisation\", \"origin\", \"origin\", \"origin\", \"osborne\", \"osborne\", \"outcome\", \"pad\", \"paddy\", \"palace\", \"palace\", \"palm\", \"parent\", \"parent\", \"park\", \"park\", \"partner\", \"partner\", \"party\", \"party\", \"party\", \"party\", \"party\", \"passport\", \"patient\", \"patient\", \"patron\", \"patron\", \"paulo\", \"paulson\", \"pay\", \"pay\", \"pay\", \"pay\", \"pay\", \"payout\", \"pc\", \"pc\", \"pc\", \"people\", \"people\", \"people\", \"people\", \"people\", \"people\", \"people\", \"perfume\", \"perfumer\", \"peter\", \"peter\", \"peter\", \"peter\", \"phase\", \"philip\", \"philip\", \"piece\", \"piece\", \"plan\", \"plan\", \"plan\", \"plan\", \"plan\", \"plan\", \"plant\", \"plant\", \"plant\", \"plunge\", \"plunge\", \"police\", \"police\", \"policy\", \"policy\", \"policy\", \"policy\", \"policy\", \"policy\", \"policy\", \"policy\", \"policymaker\", \"policymaker\", \"politic\", \"politic\", \"political\", \"political\", \"political\", \"political\", \"political\", \"poll\", \"poll\", \"potency\", \"potent\", \"power\", \"power\", \"power\", \"power\", \"practitioner\", \"practitioner\", \"premier\", \"prevent\", \"price\", \"price\", \"price\", \"price\", \"price\", \"prince\", \"prince\", \"princess\", \"princess\", \"principal\", \"prison\", \"private\", \"private\", \"procurement\", \"producer\", \"product\", \"product\", \"product\", \"product\", \"product\", \"professor\", \"professor\", \"profit\", \"profit\", \"programme\", \"programme\", \"programme\", \"programme\", \"programme\", \"project\", \"project\", \"project\", \"project\", \"project\", \"project\", \"prominent\", \"promise\", \"promise\", \"public\", \"public\", \"public\", \"public\", \"public\", \"public\", \"puerto\", \"px\", \"px\", \"px_html_embed_component\", \"quality\", \"quality\", \"quality\", \"quality\", \"quality\", \"quarter\", \"quarter\", \"quarter\", \"quarter\", \"quarterly\", \"queen\", \"queen\", \"quota\", \"quota\", \"quote\", \"quote\", \"quote_component\", \"raft\", \"rainforest\", \"rampant\", \"rate\", \"rate\", \"rate\", \"rate\", \"rate\", \"ratio\", \"raw\", \"raw\", \"rebel\", \"rec\", \"receive\", \"receive\", \"receive\", \"recession\", \"recession\", \"recruit\", \"recruit\", \"recruit\", \"recruiter\", \"recruitment\", \"recruitment\", \"redistribute\", \"referendum\", \"referendum\", \"reform\", \"reform\", \"reform\", \"reform\", \"reform\", \"reform\", \"refugee\", \"regiment\", \"regulatory\", \"reid\", \"relate\", \"relate\", \"relate\", \"relate\", \"remain\", \"remain\", \"remain\", \"remain\", \"remain\", \"remain\", \"remain\", \"remind\", \"remittance\", \"remuneration\", \"remuneration\", \"renewable\", \"renewable_energy\", \"renewable_energy\", \"repayment\", \"report\", \"report\", \"report\", \"report\", \"report\", \"represent\", \"represent\", \"represent\", \"represent\", \"represent\", \"represent\", \"republicans\", \"rescue\", \"rescue\", \"rescue\", \"research\", \"research\", \"research\", \"research\", \"research\", \"research\", \"research\", \"reset\", \"resident\", \"resident\", \"responsibility\", \"responsible\", \"restaurant\", \"restaurant\", \"retailer\", \"revelation\", \"revenue\", \"revenue\", \"revenue\", \"reverend\", \"revolt\", \"richard\", \"richard\", \"richard\", \"richmond\", \"ride\", \"ride\", \"right\", \"right\", \"right\", \"right\", \"right\", \"right\", \"right\", \"ring\", \"ring\", \"rise\", \"rise\", \"rise\", \"rise\", \"rise\", \"rise\", \"rise\", \"risk\", \"risk\", \"risk\", \"risk\", \"risk\", \"robert\", \"role\", \"room\", \"room\", \"room\", \"rover\", \"royal\", \"royal\", \"royal\", \"rsa\", \"rt\", \"rt\", \"ruth\", \"sale\", \"sale\", \"sale\", \"san\", \"saving\", \"scent\", \"schedule\", \"scheme\", \"scheme\", \"scheme\", \"school\", \"school\", \"school\", \"scotland\", \"scotland\", \"scotland\", \"scotland\", \"scottish\", \"scottish\", \"scottish\", \"scottish\", \"seaweed\", \"secretary\", \"secretary\", \"secretary\", \"secretary\", \"sector\", \"sector\", \"sector\", \"sector\", \"sector\", \"seek\", \"sell\", \"sell\", \"sell\", \"sell\", \"senegal\", \"senior\", \"senior\", \"senior\", \"senior\", \"separate\", \"service\", \"service\", \"service\", \"service\", \"service\", \"sewage\", \"shareholder\", \"shareholder\", \"shareholder\", \"shareholder\", \"shire\", \"shopper\", \"shopper\", \"shouldn\", \"shouldn\", \"single\", \"single\", \"single\", \"site\", \"site\", \"site\", \"size\", \"size\", \"size\", \"size\", \"size\", \"size\", \"slowdown\", \"small\", \"small\", \"small\", \"small\", \"small\", \"social\", \"social\", \"social\", \"social\", \"solar\", \"somerset\", \"son\", \"son\", \"son\", \"southern\", \"sovereign\", \"sovereign\", \"sovereign\", \"soviet\", \"spencer\", \"spencer\", \"spend\", \"spend\", \"spend\", \"spend\", \"spend\", \"spend\", \"sponsor\", \"sponsor\", \"sport\", \"sport\", \"sport\", \"spy\", \"src\", \"st\", \"st\", \"st\", \"st\", \"standardise\", \"start\", \"start\", \"start\", \"start\", \"start\", \"start\", \"stay\", \"stay\", \"stay\", \"steam\", \"steel\", \"stephen\", \"stephen\", \"stephen\", \"stevens\", \"stimulus\", \"stimulus\", \"stock\", \"stock\", \"stock\", \"stock\", \"stock\", \"stock\", \"stock\", \"store\", \"store\", \"store\", \"store\", \"straight\", \"straightforward\", \"stream\", \"stream\", \"string\", \"strong\", \"strong\", \"strong\", \"strong\", \"strong\", \"stuart\", \"stuart\", \"student\", \"student\", \"student\", \"student\", \"style\", \"style\", \"style\", \"style\", \"style\", \"subprime\", \"successful\", \"suck\", \"supermarket\", \"support\", \"support\", \"support\", \"support\", \"support\", \"support\", \"suppose\", \"suppose\", \"surrey\", \"sussex\", \"sustainability\", \"sustainability\", \"sustainability\", \"sustainability\", \"sustainability\", \"sustainability\", \"sustainability\", \"sustainability\", \"sustainable\", \"sustainable\", \"sustainable\", \"svg\", \"sw\", \"swedish\", \"sweep\", \"sweep\", \"sweep\", \"sweep\", \"swim\", \"swiss\", \"synthetic\", \"tail\", \"target\", \"target\", \"target\", \"target\", \"tax\", \"tax\", \"tax\", \"tax\", \"taxi\", \"team\", \"team\", \"team\", \"team\", \"tech\", \"technology\", \"technology\", \"technology\", \"technology\", \"technology\", \"telecommunication\", \"temporary\", \"temporary\", \"temporary\", \"tension\", \"termism\", \"terrorism\", \"terrorist\", \"terrorist\", \"tesla\", \"text\", \"tg\", \"th\", \"th\", \"th\", \"th\", \"thatcher\", \"thermal\", \"thing\", \"thing\", \"thing\", \"thing\", \"thing\", \"think\", \"think\", \"think\", \"think\", \"think\", \"thomas\", \"thursday\", \"ticket\", \"timothy\", \"tmg\", \"tone\", \"tonne\", \"tonne\", \"tory\", \"tourist\", \"trade\", \"trade\", \"trade\", \"trade\", \"trade\", \"trader\", \"tradition\", \"transport\", \"transport\", \"travel\", \"travel\", \"travel\", \"treasury\", \"treasury\", \"treasury\", \"treaty\", \"trent\", \"trip\", \"tropical\", \"troughton\", \"truetype\", \"trump\", \"trust\", \"trust\", \"trust\", \"trust\", \"trustee\", \"ttf\", \"tunisia\", \"tunisian\", \"uber\", \"uk\", \"uk\", \"uk\", \"uk\", \"uk\", \"uk_asset_font\", \"uncertain\", \"uncertainty\", \"uncertainty\", \"uncertainty\", \"unconditional\", \"undermine\", \"undermine\", \"understand\", \"underway\", \"union\", \"union\", \"union\", \"union\", \"university\", \"university\", \"university\", \"university\", \"university\", \"urban\", \"urban\", \"urban\", \"url_http_eip_telegraph\", \"use\", \"use\", \"use\", \"utility\", \"vanguard\", \"vanilla\", \"variety\", \"variety\", \"vehicle\", \"vehicle\", \"vehicle\", \"veteran\", \"veteran\", \"viability\", \"vice\", \"vice\", \"vice\", \"vice\", \"vine\", \"virginia\", \"virtually\", \"virtually\", \"virus\", \"visitor\", \"visitor\", \"visual\", \"volatility\", \"volunteer\", \"volunteer\", \"volunteer\", \"volunteer\", \"vote\", \"vote\", \"vote\", \"vote\", \"vote\", \"voter\", \"vuitton\", \"wake\", \"wake\", \"wale\", \"wale\", \"wale\", \"wale\", \"walker\", \"want\", \"want\", \"want\", \"want\", \"want\", \"ward\", \"warwick\", \"waste\", \"waste\", \"waste\", \"water\", \"water\", \"water\", \"way\", \"way\", \"way\", \"way\", \"way\", \"way\", \"wc\", \"wear\", \"wednesday\", \"week\", \"week\", \"week\", \"week\", \"week\", \"week\", \"weight\", \"weight\", \"weight\", \"well\", \"well\", \"well\", \"well\", \"well\", \"well\", \"weren\", \"wessex\", \"west\", \"west\", \"west\", \"west\", \"west\", \"west\", \"wide\", \"widen\", \"widen\", \"widen\", \"width\", \"width\", \"william\", \"william\", \"william\", \"wilson\", \"win\", \"win\", \"win\", \"win\", \"win\", \"wind\", \"wind\", \"woff\", \"woman\", \"woman\", \"work\", \"work\", \"work\", \"work\", \"work\", \"work\", \"work\", \"world\", \"world\", \"world\", \"world\", \"world\", \"world\", \"worthy\", \"wrap\", \"wyke\", \"xb\", \"xb\", \"xb\", \"xc\", \"xc\", \"xc\", \"xc\", \"xc\", \"xc\", \"xc\", \"xc\", \"xc_xa\", \"xc_xa\", \"xc_xa\", \"xc_xa\", \"xc_xa\", \"xcb\", \"xcb\", \"xcb\", \"xcb\", \"year\", \"year\", \"year\", \"year\", \"year\", \"year\", \"year\", \"yield\", \"yield\", \"yield\", \"ylang\", \"yorke\", \"yorkshire\", \"yorkshire\", \"young\", \"young\", \"young\", \"young\", \"young\"]}, \"R\": 30, \"lambda.step\": 0.01, \"plot.opts\": {\"xlab\": \"PC1\", \"ylab\": \"PC2\"}, \"topic.order\": [14, 11, 18, 9, 12, 15, 10, 5, 20, 13, 4, 3, 16, 19, 7, 6, 1, 2, 17, 8]};\n",
       "\n",
       "function LDAvis_load_lib(url, callback){\n",
       "  var s = document.createElement('script');\n",
       "  s.src = url;\n",
       "  s.async = true;\n",
       "  s.onreadystatechange = s.onload = callback;\n",
       "  s.onerror = function(){console.warn(\"failed to load library \" + url);};\n",
       "  document.getElementsByTagName(\"head\")[0].appendChild(s);\n",
       "}\n",
       "\n",
       "if(typeof(LDAvis) !== \"undefined\"){\n",
       "   // already loaded: just create the visualization\n",
       "   !function(LDAvis){\n",
       "       new LDAvis(\"#\" + \"ldavis_el1833222884850217681187481547\", ldavis_el1833222884850217681187481547_data);\n",
       "   }(LDAvis);\n",
       "}else if(typeof define === \"function\" && define.amd){\n",
       "   // require.js is available: use it to load d3/LDAvis\n",
       "   require.config({paths: {d3: \"https://cdnjs.cloudflare.com/ajax/libs/d3/3.5.5/d3.min\"}});\n",
       "   require([\"d3\"], function(d3){\n",
       "      window.d3 = d3;\n",
       "      LDAvis_load_lib(\"https://cdn.rawgit.com/bmabey/pyLDAvis/files/ldavis.v1.0.0.js\", function(){\n",
       "        new LDAvis(\"#\" + \"ldavis_el1833222884850217681187481547\", ldavis_el1833222884850217681187481547_data);\n",
       "      });\n",
       "    });\n",
       "}else{\n",
       "    // require.js not available: dynamically load d3 & LDAvis\n",
       "    LDAvis_load_lib(\"https://cdnjs.cloudflare.com/ajax/libs/d3/3.5.5/d3.min.js\", function(){\n",
       "         LDAvis_load_lib(\"https://cdn.rawgit.com/bmabey/pyLDAvis/files/ldavis.v1.0.0.js\", function(){\n",
       "                 new LDAvis(\"#\" + \"ldavis_el1833222884850217681187481547\", ldavis_el1833222884850217681187481547_data);\n",
       "            })\n",
       "         });\n",
       "}\n",
       "</script>"
      ],
      "text/plain": [
       "PreparedData(topic_coordinates=              x         y  topics  cluster       Freq\n",
       "topic                                                \n",
       "13    -0.302783  0.067904       1        1  39.590775\n",
       "10    -0.236730  0.068648       2        1  12.993638\n",
       "17    -0.220232  0.013524       3        1   8.144639\n",
       "8     -0.153809 -0.304834       4        1   7.875444\n",
       "11    -0.230485  0.113108       5        1   7.505473\n",
       "14    -0.196360  0.136598       6        1   7.081557\n",
       "9     -0.112446 -0.333822       7        1   6.515551\n",
       "4     -0.129849  0.065645       8        1   4.178555\n",
       "19     0.037819  0.036028       9        1   1.537222\n",
       "12     0.070867  0.065762      10        1   1.400160\n",
       "3      0.133430  0.007894      11        1   1.246406\n",
       "2      0.148595 -0.011446      12        1   0.787653\n",
       "15     0.139532 -0.016649      13        1   0.464535\n",
       "18     0.160737  0.010161      14        1   0.288233\n",
       "6      0.158326  0.012784      15        1   0.194277\n",
       "5      0.156036  0.013444      16        1   0.140366\n",
       "0      0.148060  0.013821      17        1   0.044823\n",
       "1      0.143185  0.013806      18        1   0.004593\n",
       "16     0.143053  0.013812      19        1   0.003079\n",
       "7      0.143053  0.013811      20        1   0.003024, topic_info=           Term         Freq        Total Category  logprob  loglift\n",
       "1590    service  2037.000000  2037.000000  Default  30.0000  30.0000\n",
       "531          eu   468.000000   468.000000  Default  29.0000  29.0000\n",
       "1392  community   651.000000   651.000000  Default  28.0000  28.0000\n",
       "342        fund   544.000000   544.000000  Default  27.0000  27.0000\n",
       "727          uk   724.000000   724.000000  Default  26.0000  26.0000\n",
       "...         ...          ...          ...      ...      ...      ...\n",
       "1938  insurance     0.000323    26.090117  Topic20  -9.5599  -0.8941\n",
       "1306      quote     0.000323    58.900349  Topic20  -9.5599  -1.7084\n",
       "699      report     0.000323   211.622101  Topic20  -9.5599  -2.9874\n",
       "349          go     0.000323   202.387054  Topic20  -9.5599  -2.9427\n",
       "237       think     0.000323   280.590302  Topic20  -9.5599  -3.2695\n",
       "\n",
       "[1211 rows x 6 columns], token_table=      Topic      Freq          Term\n",
       "term                               \n",
       "6693      8  0.933747         abbey\n",
       "1991      4  0.975106       academy\n",
       "1620      1  0.931036        access\n",
       "1620      7  0.054767        access\n",
       "5424     10  0.847353  accumulation\n",
       "...     ...       ...           ...\n",
       "261       1  0.213699         young\n",
       "261       3  0.120786         young\n",
       "261       4  0.603932         young\n",
       "261       5  0.027874         young\n",
       "261       7  0.032519         young\n",
       "\n",
       "[1990 rows x 3 columns], R=30, lambda_step=0.01, plot_opts={'xlab': 'PC1', 'ylab': 'PC2'}, topic_order=[14, 11, 18, 9, 12, 15, 10, 5, 20, 13, 4, 3, 16, 19, 7, 6, 1, 2, 17, 8])"
      ]
     },
     "execution_count": 31,
     "metadata": {},
     "output_type": "execute_result"
    }
   ],
   "source": [
    "# Visualize the topics\n",
    "pyLDAvis.enable_notebook()\n",
    "vis = pyLDAvis.gensim.prepare(lda_model_pre, corpus_pre, dict_pre)\n",
    "vis"
   ]
  },
  {
   "cell_type": "code",
   "execution_count": 32,
   "metadata": {
    "ExecuteTime": {
     "end_time": "2020-07-08T06:27:17.370110Z",
     "start_time": "2020-07-08T06:27:17.342091Z"
    }
   },
   "outputs": [],
   "source": [
    "# save pyLDAvis data to html file\n",
    "pyLDAvis.save_html(vis, 'exhibits/topic_modelling_vis.html')"
   ]
  },
  {
   "cell_type": "code",
   "execution_count": 33,
   "metadata": {
    "ExecuteTime": {
     "end_time": "2020-07-08T06:27:17.401130Z",
     "start_time": "2020-07-08T06:27:17.373097Z"
    }
   },
   "outputs": [],
   "source": [
    "# Finding term to term probabilities\n",
    "# get top 5 terms per topic\n",
    "top_terms_line = lda_model_pre.show_topics(num_topics=n_topics, num_words=10)"
   ]
  },
  {
   "cell_type": "code",
   "execution_count": 34,
   "metadata": {
    "ExecuteTime": {
     "end_time": "2020-07-08T06:27:17.512089Z",
     "start_time": "2020-07-08T06:27:17.403097Z"
    }
   },
   "outputs": [],
   "source": [
    "# rearrange data on top 10 terms per topic\n",
    "top_terms_m = []\n",
    "\n",
    "for i in top_terms_line:\n",
    "    topic_num = i[0]\n",
    "    prob_terms = i[1].split('+')\n",
    "    for term_sort, term in enumerate(prob_terms):\n",
    "        weight = float(term.split('*')[0])\n",
    "        term = term.split('*')[1].strip('\"| ')\n",
    "        top_terms_m.append([topic_num, term_sort, weight, term])\n",
    "\n",
    "df_1 = pd.DataFrame(top_terms_m)\n",
    "\n",
    "# rename columns\n",
    "old_names = [0, 1, 2, 3]\n",
    "new_names = ['topic_n', 'term_sort', 'weight', 'term']\n",
    "cols = dict(zip(old_names, new_names))\n",
    "df_1.rename(columns=cols, inplace=True)\n",
    "df_1.set_index(['term_sort', 'topic_n'], inplace=True)\n",
    "df_1 = df_1.unstack()\n",
    "\n",
    "# sidewaystable\n",
    "df_h = pd.DataFrame()\n",
    "\n",
    "for i in range(10):\n",
    "    terms = df_1['term'][i]\n",
    "    weights = df_1['weight'][i]\n",
    "    weights = pd.Series(['( %s )' % j for j in weights ])\n",
    "    df_h = pd.concat([df_h, terms, weights], axis=1)\n",
    "\n",
    "# write data to file\n",
    "folder = 'exhibits'\n",
    "file3 = '_1.html'\n",
    "df_h.T.to_html(os.path.join(folder, file3), index=True)"
   ]
  },
  {
   "cell_type": "markdown",
   "metadata": {},
   "source": [
    "# Understanding post brexit topics in the press data"
   ]
  },
  {
   "cell_type": "code",
   "execution_count": 35,
   "metadata": {
    "ExecuteTime": {
     "end_time": "2020-07-08T06:27:35.133988Z",
     "start_time": "2020-07-08T06:27:17.514093Z"
    }
   },
   "outputs": [],
   "source": [
    "# NLp pipeline\n",
    "# docs as list and conversion to lower case\n",
    "def cleaning(_string):\n",
    "    # purge non alpha characters\n",
    "    alpha = re.sub(\"[^A-Za-z']+\", ' ', str(_string))\n",
    "    return alpha.lower()\n",
    "                  \n",
    "# clean text\n",
    "docs_post = [cleaning(item) for item in df_post.text.values]\n",
    "\n",
    "# hyphen to underscores\n",
    "docs_post = [re.sub(r'\\b-\\b', '_', text) for text in docs_post]\n",
    "    \n",
    "# load pipeline\n",
    "nlp = spacy.load('en_core_web_lg', disable=['ner', 'parser', 'tagger'])"
   ]
  },
  {
   "cell_type": "code",
   "execution_count": 36,
   "metadata": {
    "ExecuteTime": {
     "end_time": "2020-07-08T06:27:35.149992Z",
     "start_time": "2020-07-08T06:27:35.135987Z"
    }
   },
   "outputs": [],
   "source": [
    "# expand on spaCy's stopwords\n",
    "# my stopwrods\n",
    "my_stopwords = ['\\x1c',\n",
    "                'ft', 'wsj', 'time', 'sec','year',\n",
    "                'say', 'says', 'said',\n",
    "                'mr.', 'mister', 'mr', 'miss', 'ms',\n",
    "                'inc']\n",
    "# expand on spacy's stopwords\n",
    "for stopword in my_stopwords:\n",
    "    nlp.vocab[stopword].is_stop = True"
   ]
  },
  {
   "cell_type": "code",
   "execution_count": 37,
   "metadata": {
    "ExecuteTime": {
     "end_time": "2020-07-08T06:27:36.278019Z",
     "start_time": "2020-07-08T06:27:35.153990Z"
    }
   },
   "outputs": [
    {
     "name": "stderr",
     "output_type": "stream",
     "text": [
      "C:\\Users\\sachi\\anaconda3\\envs\\SMM694NLP\\lib\\site-packages\\pandas\\core\\indexing.py:845: SettingWithCopyWarning: \n",
      "A value is trying to be set on a copy of a slice from a DataFrame.\n",
      "Try using .loc[row_indexer,col_indexer] = value instead\n",
      "\n",
      "See the caveats in the documentation: https://pandas.pydata.org/pandas-docs/stable/user_guide/indexing.html#returning-a-view-versus-a-copy\n",
      "  self.obj[key] = _infer_fill_value(value)\n",
      "C:\\Users\\sachi\\anaconda3\\envs\\SMM694NLP\\lib\\site-packages\\pandas\\core\\indexing.py:966: SettingWithCopyWarning: \n",
      "A value is trying to be set on a copy of a slice from a DataFrame.\n",
      "Try using .loc[row_indexer,col_indexer] = value instead\n",
      "\n",
      "See the caveats in the documentation: https://pandas.pydata.org/pandas-docs/stable/user_guide/indexing.html#returning-a-view-versus-a-copy\n",
      "  self.obj[item] = s\n"
     ]
    }
   ],
   "source": [
    "# Tokenize the text\n",
    "# tokenized text\n",
    "docs_tokens_post = []\n",
    "\n",
    "for doc in docs_post:\n",
    "    tmp_tokens = [token.lemma_ for token in nlp(doc) \n",
    "                  if not token.is_stop\n",
    "                  and not token.is_space\n",
    "                  and not token.is_punct\n",
    "                  and not token.is_oov\n",
    "                  and len(token.lemma_) > 1\n",
    "                  and not token.like_num\n",
    "                  and not token.like_url\n",
    "                  and not token.like_email\n",
    "                  and not token.is_currency]\n",
    "    docs_tokens_post.append(tmp_tokens)\n",
    "    tmp_tokens = []\n",
    "    \n",
    "    \n",
    "# Storing the tokenized text\n",
    "df_post.loc[:, 'tkn_text'] = docs_tokens_post"
   ]
  },
  {
   "cell_type": "code",
   "execution_count": 38,
   "metadata": {
    "ExecuteTime": {
     "end_time": "2020-07-08T06:27:38.210990Z",
     "start_time": "2020-07-08T06:27:36.279991Z"
    }
   },
   "outputs": [],
   "source": [
    "# Getting rid of bigrams and trigrams\n",
    "\n",
    "#Getting rid of common terms\n",
    "common_terms = [u'of', u'with', u'without', u'and', u'or', u'the', u'a',\n",
    "                u'not', 'be', u'to', u'this', u'who', u'in']\n",
    "# find phrases\n",
    "bigram = Phrases(docs_tokens_post,\n",
    "                 min_count=50,\n",
    "                 threshold=5,\n",
    "                 max_vocab_size=50000,\n",
    "                 common_terms=common_terms)\n",
    "\n",
    "trigram = Phrases(bigram[docs_tokens_post],\n",
    "                  min_count=50,\n",
    "                  threshold=5,\n",
    "                  max_vocab_size=50000,\n",
    "                  common_terms=common_terms)\n",
    "\n",
    "docs_phrased_post = [trigram[bigram[line]] for line in docs_tokens_post]\n",
    "\n",
    "# check nlp pipeline\n",
    "#print('',\n",
    "      #'Published abstract:', docs[0],\n",
    "      #'Tokenized abstract:', docs_tokens[0],\n",
    "      #'Tri-grammed tokenised abstract:', docs_phrased[0],\n",
    "     # sep=LINE, end=LINE)"
   ]
  },
  {
   "cell_type": "markdown",
   "metadata": {},
   "source": [
    "# Topic modelling"
   ]
  },
  {
   "cell_type": "code",
   "execution_count": 39,
   "metadata": {
    "ExecuteTime": {
     "end_time": "2020-07-08T06:27:38.537090Z",
     "start_time": "2020-07-08T06:27:38.212987Z"
    }
   },
   "outputs": [],
   "source": [
    "# Training the model\n",
    "# create dictionary and text corpus\n",
    "\n",
    "dict_post = Dictionary(docs_phrased_post)\n",
    "corpus_post = [dict_post.doc2bow(doc) for doc in docs_phrased_post]"
   ]
  },
  {
   "cell_type": "code",
   "execution_count": 40,
   "metadata": {
    "ExecuteTime": {
     "end_time": "2020-07-08T06:27:44.460480Z",
     "start_time": "2020-07-08T06:27:38.538991Z"
    }
   },
   "outputs": [],
   "source": [
    "# Implementation of LDA \n",
    "# Build LDA model with n_topics 20\n",
    "n_topics = 20\n",
    "lda_model_post = gensim.models.ldamodel.LdaModel(corpus=corpus_post,\n",
    "                                           id2word=dict_post,\n",
    "                                           num_topics=n_topics, \n",
    "                                           random_state=100,\n",
    "                                           update_every=1,\n",
    "                                           chunksize=100,\n",
    "                                           passes=10,\n",
    "                                           alpha='auto',\n",
    "                                           per_word_topics=True)"
   ]
  },
  {
   "cell_type": "code",
   "execution_count": 41,
   "metadata": {
    "ExecuteTime": {
     "end_time": "2020-07-08T06:27:44.476550Z",
     "start_time": "2020-07-08T06:27:44.463482Z"
    }
   },
   "outputs": [
    {
     "name": "stdout",
     "output_type": "stream",
     "text": [
      "[(0, '0.031*\"university\" + 0.022*\"london\" + 0.019*\"airport\" + 0.016*\"city\" + 0.014*\"student\" + 0.012*\"bristol\" + 0.010*\"www\" + 0.010*\"campus\" + 0.010*\"bus\" + 0.010*\"royal\"'), (1, '0.029*\"child\" + 0.025*\"school\" + 0.025*\"woman\" + 0.014*\"education\" + 0.014*\"africa\" + 0.013*\"health\" + 0.007*\"community\" + 0.007*\"action\" + 0.007*\"development\" + 0.007*\"protest\"'), (2, '0.024*\"victoria\" + 0.021*\"outsource\" + 0.012*\"depot\" + 0.006*\"girl\" + 0.006*\"beer\" + 0.005*\"spice\" + 0.005*\"operative\" + 0.004*\"noise\" + 0.004*\"youtube\" + 0.004*\"video\"'), (3, '0.018*\"eu\" + 0.012*\"policy\" + 0.011*\"deficit\" + 0.010*\"government\" + 0.010*\"country\" + 0.010*\"european\" + 0.010*\"palm\" + 0.009*\"greece\" + 0.009*\"growth\" + 0.008*\"debt\"'), (4, '0.046*\"px\" + 0.033*\"component\" + 0.033*\"html_embed_component_quote\" + 0.026*\"margin_leave\" + 0.014*\"quote\" + 0.014*\"screen\" + 0.014*\"xc\" + 0.014*\"medium\" + 0.013*\"width\" + 0.013*\"min\"'), (5, '0.016*\"market\" + 0.015*\"uk\" + 0.014*\"ftse\" + 0.014*\"week\" + 0.013*\"brexit\" + 0.012*\"july\" + 0.012*\"pc\" + 0.010*\"low\" + 0.009*\"equity\" + 0.008*\"share\"'), (6, '0.013*\"oil\" + 0.013*\"company\" + 0.010*\"business\" + 0.008*\"demand\" + 0.007*\"be\" + 0.007*\"price\" + 0.006*\"group\" + 0.006*\"sustainable\" + 0.006*\"need\" + 0.006*\"director\"'), (7, '0.030*\"disable\" + 0.019*\"employment\" + 0.016*\"people\" + 0.011*\"disability\" + 0.008*\"rate\" + 0.007*\"country\" + 0.005*\"gap\" + 0.005*\"non\" + 0.004*\"employer\" + 0.004*\"luxembourg\"'), (8, '0.032*\"beach\" + 0.031*\"hotel\" + 0.025*\"contact\" + 0.024*\"restaurant\" + 0.016*\"read\" + 0.016*\"sand\" + 0.016*\"menu\" + 0.015*\"well\" + 0.014*\"view\" + 0.013*\"offer\"'), (9, '0.007*\"toyota\" + 0.003*\"automotive\" + 0.002*\"deeside\" + 0.002*\"zyl\" + 0.002*\"reciprocal\" + 0.002*\"hawes\" + 0.002*\"unrestricted\" + 0.001*\"fringe\" + 0.001*\"poland\" + 0.001*\"derbyshire\"'), (10, '0.017*\"biodiversity\" + 0.007*\"lynx\" + 0.004*\"ecological\" + 0.003*\"function\" + 0.003*\"ecosystem\" + 0.003*\"beaver\" + 0.002*\"rewilding\" + 0.002*\"upland\" + 0.000*\"species\" + 0.000*\"reintroduction\"'), (11, '0.000*\"brexit\" + 0.000*\"july\" + 0.000*\"week\" + 0.000*\"bank_england\" + 0.000*\"carney\" + 0.000*\"manufacture\" + 0.000*\"rate\" + 0.000*\"ftse\" + 0.000*\"stimulus\" + 0.000*\"market\"'), (12, '0.036*\"energy\" + 0.019*\"power\" + 0.015*\"cent\" + 0.015*\"electricity\" + 0.013*\"renewable\" + 0.013*\"wind\" + 0.013*\"government\" + 0.012*\"uk\" + 0.011*\"new\" + 0.010*\"solar\"'), (13, '0.035*\"scheme\" + 0.024*\"pension\" + 0.020*\"company\" + 0.017*\"fund\" + 0.017*\"dividend\" + 0.014*\"trustee\" + 0.013*\"investment\" + 0.013*\"benefit\" + 0.013*\"uk\" + 0.012*\"pay\"'), (14, '0.023*\"john\" + 0.023*\"west\" + 0.020*\"certification\" + 0.017*\"tesco\" + 0.012*\"greenpeace\" + 0.011*\"dominance\" + 0.010*\"supportive\" + 0.008*\"catch\" + 0.007*\"iea\" + 0.007*\"line\"'), (15, '0.056*\"sky\" + 0.047*\"bt\" + 0.024*\"customer\" + 0.018*\"tv\" + 0.018*\"right\" + 0.014*\"company\" + 0.014*\"pay\" + 0.013*\"air\" + 0.013*\"broadband\" + 0.012*\"cent\"'), (16, '0.024*\"sport\" + 0.011*\"cost\" + 0.011*\"league\" + 0.011*\"programme\" + 0.011*\"match\" + 0.010*\"xc\" + 0.010*\"football\" + 0.009*\"community\" + 0.009*\"uk\" + 0.009*\"premier\"'), (17, '0.013*\"food\" + 0.011*\"estate\" + 0.010*\"game\" + 0.008*\"sea\" + 0.008*\"fish\" + 0.007*\"build\" + 0.007*\"land\" + 0.007*\"sport\" + 0.006*\"include\" + 0.006*\"conservation\"'), (18, '0.007*\"halcrow\" + 0.003*\"hps\" + 0.002*\"plug\" + 0.002*\"ch\" + 0.000*\"assumption\" + 0.000*\"fracking\" + 0.000*\"viewpoint\" + 0.000*\"ralfe\" + 0.000*\"shale\" + 0.000*\"uk\"'), (19, '0.023*\"australia\" + 0.022*\"water\" + 0.015*\"south\" + 0.012*\"people\" + 0.011*\"state\" + 0.010*\"city\" + 0.009*\"coal\" + 0.009*\"local\" + 0.009*\"island\" + 0.009*\"new\"')]\n"
     ]
    }
   ],
   "source": [
    "# view the topics\n",
    "# Print the Keywors\n",
    "print(lda_model_post.print_topics())\n",
    "doc_lda_post = lda_model_post[corpus_post]"
   ]
  },
  {
   "cell_type": "markdown",
   "metadata": {},
   "source": [
    "# Model Evaluation"
   ]
  },
  {
   "cell_type": "code",
   "execution_count": null,
   "metadata": {
    "ExecuteTime": {
     "start_time": "2020-07-08T06:22:34.866Z"
    }
   },
   "outputs": [],
   "source": [
    "# collect coherence scores as the number of retained topics change\n",
    "limit,start,step = 20, 1, 1\n",
    "model_list, coher_vals = compute_coherence_values(dictionary=dict_post,\n",
    "                                                  corpus=corpus_post,\n",
    "                                                  texts=docs_phrased_post,\n",
    "                                                  start=start,\n",
    "                                                  limit=limit,\n",
    "                                                  step=step)"
   ]
  },
  {
   "cell_type": "code",
   "execution_count": null,
   "metadata": {
    "ExecuteTime": {
     "start_time": "2020-07-08T06:22:34.882Z"
    }
   },
   "outputs": [],
   "source": [
    "# Coherence scores plot\n",
    "# data series\n",
    "x = range(start, limit, step)\n",
    "y = coher_vals\n",
    "\n",
    "# create figure\n",
    "fig = plt.figure(figsize=(6, 6))\n",
    "ax = fig.add_subplot(1, 1, 1)\n",
    "\n",
    "# plot data\n",
    "ax.plot(x,y, marker='o', color='b', ls='-')\n",
    "\n",
    "# axes\n",
    "ax.set_xlabel(\"Number of topics retained\")\n",
    "ax.set_ylabel(\"Coherence score\")\n",
    "ax.set_xticks(np.arange(2, 20, 1))\n",
    "\n",
    "# reference line\n",
    "#ax.axvline(x=11, ymin=0, ymax=1, color='r')\n",
    "\n",
    "# grid\n",
    "ax.grid(True, ls='--')\n",
    "\n",
    "# save plot to file\n",
    "folder = 'exhibits'\n",
    "file = 'post_1.pdf'\n",
    "plt.savefig(os.path.join(folder,file),\n",
    "            transparent=True,\n",
    "            bbox_inches='tight',\n",
    "            pad_inches=0)\n",
    "\n",
    "plt.show()"
   ]
  },
  {
   "cell_type": "code",
   "execution_count": null,
   "metadata": {
    "ExecuteTime": {
     "start_time": "2020-07-08T06:22:34.899Z"
    }
   },
   "outputs": [],
   "source": [
    "# another apporach to evaluate model\n",
    "# Compute Perplexity\n",
    "print('\\nPerplexity: ', lda_model_pre.log_perplexity(corpus_pre))  # a measure of how good the model is. lower the better.\n",
    "\n",
    "# Compute Coherence Score\n",
    "coherence_model_lda = CoherenceModel(model=lda_model_post, texts=docs_phrased_post, dictionary=dict_post, coherence='c_v')\n",
    "coherence_lda = coherence_model_lda.get_coherence()\n",
    "print('\\nCoherence Score: ', coherence_lda)"
   ]
  },
  {
   "cell_type": "code",
   "execution_count": null,
   "metadata": {
    "ExecuteTime": {
     "start_time": "2020-07-08T06:22:34.946Z"
    }
   },
   "outputs": [],
   "source": [
    "# Compute coherence values\n",
    "model_list, coherence_values = compute_coherence_values(dictionary=dict_post, corpus=corpus_post, texts=docs_phrased_post, start=2, limit=40, step=6)"
   ]
  },
  {
   "cell_type": "code",
   "execution_count": null,
   "metadata": {
    "ExecuteTime": {
     "start_time": "2020-07-08T06:22:34.964Z"
    }
   },
   "outputs": [],
   "source": [
    "# Show graph\n",
    "limit=40; start=2; step=6;\n",
    "x = range(start, limit, step)\n",
    "plt.plot(x, coherence_values)\n",
    "plt.xlabel(\"Num Topics\")\n",
    "plt.ylabel(\"Coherence score\")\n",
    "plt.legend((\"coherence_values\"), loc='best')\n",
    "\n",
    "# save plot to file\n",
    "folder = 'exhibits'\n",
    "file = 'post_2.pdf'\n",
    "plt.savefig(os.path.join(folder,file),\n",
    "            transparent=True,\n",
    "            bbox_inches='tight',\n",
    "            pad_inches=0)\n",
    "plt.show()"
   ]
  },
  {
   "cell_type": "code",
   "execution_count": null,
   "metadata": {
    "ExecuteTime": {
     "start_time": "2020-07-08T06:22:34.986Z"
    }
   },
   "outputs": [],
   "source": [
    "# Print the coherence scores\n",
    "for m, cv in zip(x, coherence_values):\n",
    "    print(\"Num Topics =\", m, \" has Coherence Value of\", round(cv, 4))"
   ]
  },
  {
   "cell_type": "code",
   "execution_count": null,
   "metadata": {
    "ExecuteTime": {
     "start_time": "2020-07-08T06:22:35.004Z"
    }
   },
   "outputs": [],
   "source": [
    "# Select the model and print the topics\n",
    "optimal_model = model_list[3]\n",
    "model_topics = optimal_model.show_topics(formatted=False)\n",
    "print(optimal_model.print_topics(num_words=10))\n",
    "\n",
    "def format_topics_sentences(ldamodel=lda_model_post, corpus=corpus_post, texts=docs_post):\n",
    "    # Init output\n",
    "    sent_topics_df = pd.DataFrame()\n",
    "\n",
    "    # Get main topic in each document\n",
    "    for i, row in enumerate(ldamodel[corpus_post]):\n",
    "        row = sorted(row, key=lambda x: (x[1]), reverse=True)\n",
    "        # Get the Dominant topic, Perc Contribution and Keywords for each document\n",
    "        for j, (topic_num, prop_topic) in enumerate(row):\n",
    "            if j == 0:  # => dominant topic\n",
    "                wp = ldamodel.show_topic(topic_num)\n",
    "                topic_keywords = \", \".join([word for word, prop in wp])\n",
    "                sent_topics_df = sent_topics_df.append(pd.Series([int(topic_num), round(prop_topic,4), topic_keywords]), ignore_index=True)\n",
    "            else:\n",
    "                break\n",
    "    sent_topics_df.columns = ['Dominant_Topic', 'Perc_Contribution', 'Topic_Keywords']\n",
    "\n",
    "    # Add original text to the end of the output\n",
    "    contents = pd.Series(texts)\n",
    "    sent_topics_df = pd.concat([sent_topics_df, contents], axis=1)\n",
    "    return(sent_topics_df)\n",
    "\n",
    "\n",
    "df_topic_sents_keywords = format_topics_sentences(ldamodel=optimal_model, corpus=corpus_post, texts=docs_post)\n",
    "\n",
    "# Format\n",
    "df_dominant_topic = df_topic_sents_keywords.reset_index()\n",
    "df_dominant_topic.columns = ['Document_No', 'Dominant_Topic', 'Topic_Perc_Contrib', 'Keywords', 'Text']\n",
    "\n",
    "# Show\n",
    "df_dominant_topic.head(10)"
   ]
  },
  {
   "cell_type": "code",
   "execution_count": null,
   "metadata": {
    "ExecuteTime": {
     "start_time": "2020-07-08T06:22:35.019Z"
    }
   },
   "outputs": [],
   "source": [
    "# Group top 5 sentences under each topic\n",
    "sent_topics_sorteddf = pd.DataFrame()\n",
    "\n",
    "sent_topics_outdf_grpd = df_topic_sents_keywords.groupby('Dominant_Topic')\n",
    "\n",
    "for i, grp in sent_topics_outdf_grpd:\n",
    "    sent_topics_sorteddf = pd.concat([sent_topics_sorteddf, \n",
    "                                             grp.sort_values(['Perc_Contribution'], ascending=[0]).head(1)], \n",
    "                                            axis=0)\n",
    "\n",
    "# Reset Index    \n",
    "sent_topics_sorteddf.reset_index(drop=True, inplace=True)\n",
    "\n",
    "# Format\n",
    "sent_topics_sorteddf.columns = ['Topic_Num', \"Topic_Perc_Contrib\", \"Keywords\", \"Text\"]\n",
    "\n",
    "# Show\n",
    "sent_topics_sorteddf.head()"
   ]
  },
  {
   "cell_type": "code",
   "execution_count": null,
   "metadata": {
    "ExecuteTime": {
     "start_time": "2020-07-08T06:22:35.038Z"
    }
   },
   "outputs": [],
   "source": [
    "# Number of Documents for Each Topic\n",
    "topic_counts = df_topic_sents_keywords['Dominant_Topic'].value_counts()\n",
    "\n",
    "# Percentage of Documents for Each Topic\n",
    "topic_contribution = round(topic_counts/topic_counts.sum(), 4)\n",
    "\n",
    "# Topic Number and Keywords\n",
    "topic_num_keywords = df_topic_sents_keywords[['Dominant_Topic', 'Topic_Keywords']]\n",
    "\n",
    "# Concatenate Column wise\n",
    "df_dominant_topics = pd.concat([topic_num_keywords, topic_counts, topic_contribution], axis=1)\n",
    "\n",
    "# Change Column names\n",
    "df_dominant_topics.columns = ['Dominant_Topic', 'Topic_Keywords', 'Num_Documents', 'Perc_Documents']\n",
    "\n",
    "# Show\n",
    "df_dominant_topics"
   ]
  },
  {
   "cell_type": "code",
   "execution_count": null,
   "metadata": {
    "ExecuteTime": {
     "start_time": "2020-07-08T06:22:35.057Z"
    }
   },
   "outputs": [],
   "source": [
    "# Visualize the topics\n",
    "pyLDAvis.enable_notebook()\n",
    "vis_1 = pyLDAvis.gensim.prepare(lda_model_post, corpus_post, dict_post)\n",
    "vis_1"
   ]
  },
  {
   "cell_type": "code",
   "execution_count": null,
   "metadata": {
    "ExecuteTime": {
     "start_time": "2020-07-08T06:22:35.068Z"
    }
   },
   "outputs": [],
   "source": [
    "# save pyLDAvis data to html file\n",
    "pyLDAvis.save_html(vis, 'exhibits/topic_modelling_post_vis.html')"
   ]
  },
  {
   "cell_type": "code",
   "execution_count": null,
   "metadata": {
    "ExecuteTime": {
     "start_time": "2020-07-08T06:22:35.079Z"
    }
   },
   "outputs": [],
   "source": [
    "# Finding term to term probabilities\n",
    "# get top 5 terms per topic\n",
    "top_terms_line = lda_model_pre.show_topics(num_topics=n_topics, num_words=5)"
   ]
  },
  {
   "cell_type": "code",
   "execution_count": null,
   "metadata": {
    "ExecuteTime": {
     "start_time": "2020-07-08T06:22:35.093Z"
    }
   },
   "outputs": [],
   "source": [
    "# rearrange data on top 10 terms per topic\n",
    "top_terms_m = []\n",
    "\n",
    "for i in top_terms_line:\n",
    "    topic_num = i[0]\n",
    "    prob_terms = i[1].split('+')\n",
    "    for term_sort, term in enumerate(prob_terms):\n",
    "        weight = float(term.split('*')[0])\n",
    "        term = term.split('*')[1].strip('\"| ')\n",
    "        top_terms_m.append([topic_num, term_sort, weight, term])\n",
    "\n",
    "df_1 = pd.DataFrame(top_terms_m)\n",
    "\n",
    "# rename columns\n",
    "old_names = [0, 1, 2, 3]\n",
    "new_names = ['topic_n', 'term_sort', 'weight', 'term']\n",
    "cols = dict(zip(old_names, new_names))\n",
    "df_1.rename(columns=cols, inplace=True)\n",
    "df_1.set_index(['term_sort', 'topic_n'], inplace=True)\n",
    "df_1 = df_1.unstack()\n",
    "\n",
    "# sidewaystable\n",
    "df_h = pd.DataFrame()\n",
    "\n",
    "for i in range(10):\n",
    "    terms = df_1['term'][i]\n",
    "    weights = df_1['weight'][i]\n",
    "    weights = pd.Series(['( %s )' % j for j in weights ])\n",
    "    df_h = pd.concat([df_h, terms, weights], axis=1)\n",
    "\n",
    "# write data to file\n",
    "folder = 'exhibits'\n",
    "file3 = '_2.html'\n",
    "df_h.T.to_html(os.path.join(folder, file3), index=True)"
   ]
  },
  {
   "cell_type": "code",
   "execution_count": null,
   "metadata": {},
   "outputs": [],
   "source": []
  },
  {
   "cell_type": "code",
   "execution_count": null,
   "metadata": {},
   "outputs": [],
   "source": []
  },
  {
   "cell_type": "code",
   "execution_count": null,
   "metadata": {},
   "outputs": [],
   "source": []
  },
  {
   "cell_type": "code",
   "execution_count": null,
   "metadata": {},
   "outputs": [],
   "source": []
  }
 ],
 "metadata": {
  "hide_input": false,
  "kernelspec": {
   "display_name": "Python 3",
   "language": "python",
   "name": "python3"
  },
  "language_info": {
   "codemirror_mode": {
    "name": "ipython",
    "version": 3
   },
   "file_extension": ".py",
   "mimetype": "text/x-python",
   "name": "python",
   "nbconvert_exporter": "python",
   "pygments_lexer": "ipython3",
   "version": "3.7.7"
  },
  "varInspector": {
   "cols": {
    "lenName": 16,
    "lenType": 16,
    "lenVar": 40
   },
   "kernels_config": {
    "python": {
     "delete_cmd_postfix": "",
     "delete_cmd_prefix": "del ",
     "library": "var_list.py",
     "varRefreshCmd": "print(var_dic_list())"
    },
    "r": {
     "delete_cmd_postfix": ") ",
     "delete_cmd_prefix": "rm(",
     "library": "var_list.r",
     "varRefreshCmd": "cat(var_dic_list()) "
    }
   },
   "position": {
    "height": "528.86px",
    "left": "1405.7px",
    "right": "20px",
    "top": "65px",
    "width": "350px"
   },
   "types_to_exclude": [
    "module",
    "function",
    "builtin_function_or_method",
    "instance",
    "_Feature"
   ],
   "window_display": true
  }
 },
 "nbformat": 4,
 "nbformat_minor": 4
}
